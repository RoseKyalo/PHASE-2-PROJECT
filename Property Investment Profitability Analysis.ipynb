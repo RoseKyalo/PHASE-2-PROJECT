{
 "cells": [
  {
   "cell_type": "markdown",
   "metadata": {},
   "source": [
    "# PHASE II PROJECT "
   ]
  },
  {
   "cell_type": "markdown",
   "metadata": {},
   "source": [
    "#### AUTHORS\n",
    "\n",
    "1. STACY KIRIIRI\n",
    "2. ROSE KYALO\n",
    "3. ANGEL ATUNGIRE\n",
    "4. BRYTONE OMARE"
   ]
  },
  {
   "cell_type": "markdown",
   "metadata": {},
   "source": [
    "# Insights on Property Investment Profitability"
   ]
  },
  {
   "cell_type": "markdown",
   "metadata": {},
   "source": [
    "### Overview\n",
    "\n",
    "In this project, we're diving deep into the King County House Sales dataset to understand what makes properties profitable in King County's real estate market. Our main aim is to provide valuable insights to RASB-berry Property Investors who want to make smart investment decisions. We'll be looking at various aspects of properties, like their size, number of bedrooms, and condition, to see which factors have the most impact on the sale prices of houses.\n",
    "By doing this, we hope to help RASB-berry investors optimize their strategies and increase their\n",
    "chances of getting better returns in the King County real estate market. "
   ]
  },
  {
   "cell_type": "markdown",
   "metadata": {},
   "source": [
    "### Business Problem\n",
    "\n",
    "### Stakeholder: RASB-berry Property Investors\n",
    "    \n",
    "RASB-berry Property investors are looking to optimize their investment strategies by purchasing properties with the potential for high returns. They want to know which property attributes, such as square footage, number of bedrooms,and condition of the property, are most strongly correlated with sale prices."
   ]
  },
  {
   "cell_type": "markdown",
   "metadata": {},
   "source": [
    "### Data understanding"
   ]
  },
  {
   "cell_type": "code",
   "execution_count": 1,
   "metadata": {},
   "outputs": [],
   "source": [
    "# import the neccessary libraries\n",
    "import numpy as np \n",
    "import pandas as pd\n",
    "import statsmodels.api as sm\n",
    "from sklearn.metrics import mean_absolute_error,mean_squared_error\n",
    "import seaborn as sns\n",
    "import matplotlib.pyplot as plt \n",
    "%matplotlib inline"
   ]
  },
  {
   "cell_type": "code",
   "execution_count": 2,
   "metadata": {},
   "outputs": [
    {
     "data": {
      "text/html": [
       "<div>\n",
       "<style scoped>\n",
       "    .dataframe tbody tr th:only-of-type {\n",
       "        vertical-align: middle;\n",
       "    }\n",
       "\n",
       "    .dataframe tbody tr th {\n",
       "        vertical-align: top;\n",
       "    }\n",
       "\n",
       "    .dataframe thead th {\n",
       "        text-align: right;\n",
       "    }\n",
       "</style>\n",
       "<table border=\"1\" class=\"dataframe\">\n",
       "  <thead>\n",
       "    <tr style=\"text-align: right;\">\n",
       "      <th></th>\n",
       "      <th>id</th>\n",
       "      <th>date</th>\n",
       "      <th>price</th>\n",
       "      <th>bedrooms</th>\n",
       "      <th>bathrooms</th>\n",
       "      <th>sqft_living</th>\n",
       "      <th>sqft_lot</th>\n",
       "      <th>floors</th>\n",
       "      <th>waterfront</th>\n",
       "      <th>view</th>\n",
       "      <th>...</th>\n",
       "      <th>grade</th>\n",
       "      <th>sqft_above</th>\n",
       "      <th>sqft_basement</th>\n",
       "      <th>yr_built</th>\n",
       "      <th>yr_renovated</th>\n",
       "      <th>zipcode</th>\n",
       "      <th>lat</th>\n",
       "      <th>long</th>\n",
       "      <th>sqft_living15</th>\n",
       "      <th>sqft_lot15</th>\n",
       "    </tr>\n",
       "  </thead>\n",
       "  <tbody>\n",
       "    <tr>\n",
       "      <th>0</th>\n",
       "      <td>7129300520</td>\n",
       "      <td>10/13/2014</td>\n",
       "      <td>221900.0</td>\n",
       "      <td>3</td>\n",
       "      <td>1.00</td>\n",
       "      <td>1180</td>\n",
       "      <td>5650</td>\n",
       "      <td>1.0</td>\n",
       "      <td>NaN</td>\n",
       "      <td>NONE</td>\n",
       "      <td>...</td>\n",
       "      <td>7 Average</td>\n",
       "      <td>1180</td>\n",
       "      <td>0.0</td>\n",
       "      <td>1955</td>\n",
       "      <td>0.0</td>\n",
       "      <td>98178</td>\n",
       "      <td>47.5112</td>\n",
       "      <td>-122.257</td>\n",
       "      <td>1340</td>\n",
       "      <td>5650</td>\n",
       "    </tr>\n",
       "    <tr>\n",
       "      <th>1</th>\n",
       "      <td>6414100192</td>\n",
       "      <td>12/9/2014</td>\n",
       "      <td>538000.0</td>\n",
       "      <td>3</td>\n",
       "      <td>2.25</td>\n",
       "      <td>2570</td>\n",
       "      <td>7242</td>\n",
       "      <td>2.0</td>\n",
       "      <td>NO</td>\n",
       "      <td>NONE</td>\n",
       "      <td>...</td>\n",
       "      <td>7 Average</td>\n",
       "      <td>2170</td>\n",
       "      <td>400.0</td>\n",
       "      <td>1951</td>\n",
       "      <td>1991.0</td>\n",
       "      <td>98125</td>\n",
       "      <td>47.7210</td>\n",
       "      <td>-122.319</td>\n",
       "      <td>1690</td>\n",
       "      <td>7639</td>\n",
       "    </tr>\n",
       "    <tr>\n",
       "      <th>2</th>\n",
       "      <td>5631500400</td>\n",
       "      <td>2/25/2015</td>\n",
       "      <td>180000.0</td>\n",
       "      <td>2</td>\n",
       "      <td>1.00</td>\n",
       "      <td>770</td>\n",
       "      <td>10000</td>\n",
       "      <td>1.0</td>\n",
       "      <td>NO</td>\n",
       "      <td>NONE</td>\n",
       "      <td>...</td>\n",
       "      <td>6 Low Average</td>\n",
       "      <td>770</td>\n",
       "      <td>0.0</td>\n",
       "      <td>1933</td>\n",
       "      <td>NaN</td>\n",
       "      <td>98028</td>\n",
       "      <td>47.7379</td>\n",
       "      <td>-122.233</td>\n",
       "      <td>2720</td>\n",
       "      <td>8062</td>\n",
       "    </tr>\n",
       "    <tr>\n",
       "      <th>3</th>\n",
       "      <td>2487200875</td>\n",
       "      <td>12/9/2014</td>\n",
       "      <td>604000.0</td>\n",
       "      <td>4</td>\n",
       "      <td>3.00</td>\n",
       "      <td>1960</td>\n",
       "      <td>5000</td>\n",
       "      <td>1.0</td>\n",
       "      <td>NO</td>\n",
       "      <td>NONE</td>\n",
       "      <td>...</td>\n",
       "      <td>7 Average</td>\n",
       "      <td>1050</td>\n",
       "      <td>910.0</td>\n",
       "      <td>1965</td>\n",
       "      <td>0.0</td>\n",
       "      <td>98136</td>\n",
       "      <td>47.5208</td>\n",
       "      <td>-122.393</td>\n",
       "      <td>1360</td>\n",
       "      <td>5000</td>\n",
       "    </tr>\n",
       "    <tr>\n",
       "      <th>4</th>\n",
       "      <td>1954400510</td>\n",
       "      <td>2/18/2015</td>\n",
       "      <td>510000.0</td>\n",
       "      <td>3</td>\n",
       "      <td>2.00</td>\n",
       "      <td>1680</td>\n",
       "      <td>8080</td>\n",
       "      <td>1.0</td>\n",
       "      <td>NO</td>\n",
       "      <td>NONE</td>\n",
       "      <td>...</td>\n",
       "      <td>8 Good</td>\n",
       "      <td>1680</td>\n",
       "      <td>0.0</td>\n",
       "      <td>1987</td>\n",
       "      <td>0.0</td>\n",
       "      <td>98074</td>\n",
       "      <td>47.6168</td>\n",
       "      <td>-122.045</td>\n",
       "      <td>1800</td>\n",
       "      <td>7503</td>\n",
       "    </tr>\n",
       "  </tbody>\n",
       "</table>\n",
       "<p>5 rows × 21 columns</p>\n",
       "</div>"
      ],
      "text/plain": [
       "           id        date     price  bedrooms  bathrooms  sqft_living  \\\n",
       "0  7129300520  10/13/2014  221900.0         3       1.00         1180   \n",
       "1  6414100192   12/9/2014  538000.0         3       2.25         2570   \n",
       "2  5631500400   2/25/2015  180000.0         2       1.00          770   \n",
       "3  2487200875   12/9/2014  604000.0         4       3.00         1960   \n",
       "4  1954400510   2/18/2015  510000.0         3       2.00         1680   \n",
       "\n",
       "   sqft_lot  floors waterfront  view  ...          grade sqft_above  \\\n",
       "0      5650     1.0        NaN  NONE  ...      7 Average       1180   \n",
       "1      7242     2.0         NO  NONE  ...      7 Average       2170   \n",
       "2     10000     1.0         NO  NONE  ...  6 Low Average        770   \n",
       "3      5000     1.0         NO  NONE  ...      7 Average       1050   \n",
       "4      8080     1.0         NO  NONE  ...         8 Good       1680   \n",
       "\n",
       "   sqft_basement yr_built  yr_renovated  zipcode      lat     long  \\\n",
       "0            0.0     1955           0.0    98178  47.5112 -122.257   \n",
       "1          400.0     1951        1991.0    98125  47.7210 -122.319   \n",
       "2            0.0     1933           NaN    98028  47.7379 -122.233   \n",
       "3          910.0     1965           0.0    98136  47.5208 -122.393   \n",
       "4            0.0     1987           0.0    98074  47.6168 -122.045   \n",
       "\n",
       "   sqft_living15  sqft_lot15  \n",
       "0           1340        5650  \n",
       "1           1690        7639  \n",
       "2           2720        8062  \n",
       "3           1360        5000  \n",
       "4           1800        7503  \n",
       "\n",
       "[5 rows x 21 columns]"
      ]
     },
     "execution_count": 2,
     "metadata": {},
     "output_type": "execute_result"
    }
   ],
   "source": [
    "# load data\n",
    "df = pd.read_csv(\"data/kc_house_data.csv\")\n",
    "df.head()"
   ]
  },
  {
   "cell_type": "code",
   "execution_count": 3,
   "metadata": {
    "scrolled": true
   },
   "outputs": [
    {
     "name": "stdout",
     "output_type": "stream",
     "text": [
      "<class 'pandas.core.frame.DataFrame'>\n",
      "RangeIndex: 21597 entries, 0 to 21596\n",
      "Data columns (total 21 columns):\n",
      " #   Column         Non-Null Count  Dtype  \n",
      "---  ------         --------------  -----  \n",
      " 0   id             21597 non-null  int64  \n",
      " 1   date           21597 non-null  object \n",
      " 2   price          21597 non-null  float64\n",
      " 3   bedrooms       21597 non-null  int64  \n",
      " 4   bathrooms      21597 non-null  float64\n",
      " 5   sqft_living    21597 non-null  int64  \n",
      " 6   sqft_lot       21597 non-null  int64  \n",
      " 7   floors         21597 non-null  float64\n",
      " 8   waterfront     19221 non-null  object \n",
      " 9   view           21534 non-null  object \n",
      " 10  condition      21597 non-null  object \n",
      " 11  grade          21597 non-null  object \n",
      " 12  sqft_above     21597 non-null  int64  \n",
      " 13  sqft_basement  21597 non-null  object \n",
      " 14  yr_built       21597 non-null  int64  \n",
      " 15  yr_renovated   17755 non-null  float64\n",
      " 16  zipcode        21597 non-null  int64  \n",
      " 17  lat            21597 non-null  float64\n",
      " 18  long           21597 non-null  float64\n",
      " 19  sqft_living15  21597 non-null  int64  \n",
      " 20  sqft_lot15     21597 non-null  int64  \n",
      "dtypes: float64(6), int64(9), object(6)\n",
      "memory usage: 3.5+ MB\n"
     ]
    }
   ],
   "source": [
    "# summary of the dataframe\n",
    "df.info()"
   ]
  },
  {
   "cell_type": "markdown",
   "metadata": {},
   "source": [
    "The dataset contains information about real estate properties in King County, consisting of 21 columns. These columns provide details such as property price, number of bedrooms, bathrooms, square footage, floors, waterfront status, condition, grade, and more. Some columns have missing values, like 'yr_renovated' and 'waterfront.' This dataset is valuable for analyzing the factors influencing property prices and making informed investment decisions in the King County real estate market."
   ]
  },
  {
   "cell_type": "code",
   "execution_count": 4,
   "metadata": {
    "scrolled": true
   },
   "outputs": [
    {
     "data": {
      "text/html": [
       "<div>\n",
       "<style scoped>\n",
       "    .dataframe tbody tr th:only-of-type {\n",
       "        vertical-align: middle;\n",
       "    }\n",
       "\n",
       "    .dataframe tbody tr th {\n",
       "        vertical-align: top;\n",
       "    }\n",
       "\n",
       "    .dataframe thead th {\n",
       "        text-align: right;\n",
       "    }\n",
       "</style>\n",
       "<table border=\"1\" class=\"dataframe\">\n",
       "  <thead>\n",
       "    <tr style=\"text-align: right;\">\n",
       "      <th></th>\n",
       "      <th>id</th>\n",
       "      <th>price</th>\n",
       "      <th>bedrooms</th>\n",
       "      <th>bathrooms</th>\n",
       "      <th>sqft_living</th>\n",
       "      <th>sqft_lot</th>\n",
       "      <th>floors</th>\n",
       "      <th>sqft_above</th>\n",
       "      <th>yr_built</th>\n",
       "      <th>yr_renovated</th>\n",
       "      <th>zipcode</th>\n",
       "      <th>lat</th>\n",
       "      <th>long</th>\n",
       "      <th>sqft_living15</th>\n",
       "      <th>sqft_lot15</th>\n",
       "    </tr>\n",
       "  </thead>\n",
       "  <tbody>\n",
       "    <tr>\n",
       "      <th>count</th>\n",
       "      <td>2.159700e+04</td>\n",
       "      <td>2.159700e+04</td>\n",
       "      <td>21597.000000</td>\n",
       "      <td>21597.000000</td>\n",
       "      <td>21597.000000</td>\n",
       "      <td>2.159700e+04</td>\n",
       "      <td>21597.000000</td>\n",
       "      <td>21597.000000</td>\n",
       "      <td>21597.000000</td>\n",
       "      <td>17755.000000</td>\n",
       "      <td>21597.000000</td>\n",
       "      <td>21597.000000</td>\n",
       "      <td>21597.000000</td>\n",
       "      <td>21597.000000</td>\n",
       "      <td>21597.000000</td>\n",
       "    </tr>\n",
       "    <tr>\n",
       "      <th>mean</th>\n",
       "      <td>4.580474e+09</td>\n",
       "      <td>5.402966e+05</td>\n",
       "      <td>3.373200</td>\n",
       "      <td>2.115826</td>\n",
       "      <td>2080.321850</td>\n",
       "      <td>1.509941e+04</td>\n",
       "      <td>1.494096</td>\n",
       "      <td>1788.596842</td>\n",
       "      <td>1970.999676</td>\n",
       "      <td>83.636778</td>\n",
       "      <td>98077.951845</td>\n",
       "      <td>47.560093</td>\n",
       "      <td>-122.213982</td>\n",
       "      <td>1986.620318</td>\n",
       "      <td>12758.283512</td>\n",
       "    </tr>\n",
       "    <tr>\n",
       "      <th>std</th>\n",
       "      <td>2.876736e+09</td>\n",
       "      <td>3.673681e+05</td>\n",
       "      <td>0.926299</td>\n",
       "      <td>0.768984</td>\n",
       "      <td>918.106125</td>\n",
       "      <td>4.141264e+04</td>\n",
       "      <td>0.539683</td>\n",
       "      <td>827.759761</td>\n",
       "      <td>29.375234</td>\n",
       "      <td>399.946414</td>\n",
       "      <td>53.513072</td>\n",
       "      <td>0.138552</td>\n",
       "      <td>0.140724</td>\n",
       "      <td>685.230472</td>\n",
       "      <td>27274.441950</td>\n",
       "    </tr>\n",
       "    <tr>\n",
       "      <th>min</th>\n",
       "      <td>1.000102e+06</td>\n",
       "      <td>7.800000e+04</td>\n",
       "      <td>1.000000</td>\n",
       "      <td>0.500000</td>\n",
       "      <td>370.000000</td>\n",
       "      <td>5.200000e+02</td>\n",
       "      <td>1.000000</td>\n",
       "      <td>370.000000</td>\n",
       "      <td>1900.000000</td>\n",
       "      <td>0.000000</td>\n",
       "      <td>98001.000000</td>\n",
       "      <td>47.155900</td>\n",
       "      <td>-122.519000</td>\n",
       "      <td>399.000000</td>\n",
       "      <td>651.000000</td>\n",
       "    </tr>\n",
       "    <tr>\n",
       "      <th>25%</th>\n",
       "      <td>2.123049e+09</td>\n",
       "      <td>3.220000e+05</td>\n",
       "      <td>3.000000</td>\n",
       "      <td>1.750000</td>\n",
       "      <td>1430.000000</td>\n",
       "      <td>5.040000e+03</td>\n",
       "      <td>1.000000</td>\n",
       "      <td>1190.000000</td>\n",
       "      <td>1951.000000</td>\n",
       "      <td>0.000000</td>\n",
       "      <td>98033.000000</td>\n",
       "      <td>47.471100</td>\n",
       "      <td>-122.328000</td>\n",
       "      <td>1490.000000</td>\n",
       "      <td>5100.000000</td>\n",
       "    </tr>\n",
       "    <tr>\n",
       "      <th>50%</th>\n",
       "      <td>3.904930e+09</td>\n",
       "      <td>4.500000e+05</td>\n",
       "      <td>3.000000</td>\n",
       "      <td>2.250000</td>\n",
       "      <td>1910.000000</td>\n",
       "      <td>7.618000e+03</td>\n",
       "      <td>1.500000</td>\n",
       "      <td>1560.000000</td>\n",
       "      <td>1975.000000</td>\n",
       "      <td>0.000000</td>\n",
       "      <td>98065.000000</td>\n",
       "      <td>47.571800</td>\n",
       "      <td>-122.231000</td>\n",
       "      <td>1840.000000</td>\n",
       "      <td>7620.000000</td>\n",
       "    </tr>\n",
       "    <tr>\n",
       "      <th>75%</th>\n",
       "      <td>7.308900e+09</td>\n",
       "      <td>6.450000e+05</td>\n",
       "      <td>4.000000</td>\n",
       "      <td>2.500000</td>\n",
       "      <td>2550.000000</td>\n",
       "      <td>1.068500e+04</td>\n",
       "      <td>2.000000</td>\n",
       "      <td>2210.000000</td>\n",
       "      <td>1997.000000</td>\n",
       "      <td>0.000000</td>\n",
       "      <td>98118.000000</td>\n",
       "      <td>47.678000</td>\n",
       "      <td>-122.125000</td>\n",
       "      <td>2360.000000</td>\n",
       "      <td>10083.000000</td>\n",
       "    </tr>\n",
       "    <tr>\n",
       "      <th>max</th>\n",
       "      <td>9.900000e+09</td>\n",
       "      <td>7.700000e+06</td>\n",
       "      <td>33.000000</td>\n",
       "      <td>8.000000</td>\n",
       "      <td>13540.000000</td>\n",
       "      <td>1.651359e+06</td>\n",
       "      <td>3.500000</td>\n",
       "      <td>9410.000000</td>\n",
       "      <td>2015.000000</td>\n",
       "      <td>2015.000000</td>\n",
       "      <td>98199.000000</td>\n",
       "      <td>47.777600</td>\n",
       "      <td>-121.315000</td>\n",
       "      <td>6210.000000</td>\n",
       "      <td>871200.000000</td>\n",
       "    </tr>\n",
       "  </tbody>\n",
       "</table>\n",
       "</div>"
      ],
      "text/plain": [
       "                 id         price      bedrooms     bathrooms   sqft_living  \\\n",
       "count  2.159700e+04  2.159700e+04  21597.000000  21597.000000  21597.000000   \n",
       "mean   4.580474e+09  5.402966e+05      3.373200      2.115826   2080.321850   \n",
       "std    2.876736e+09  3.673681e+05      0.926299      0.768984    918.106125   \n",
       "min    1.000102e+06  7.800000e+04      1.000000      0.500000    370.000000   \n",
       "25%    2.123049e+09  3.220000e+05      3.000000      1.750000   1430.000000   \n",
       "50%    3.904930e+09  4.500000e+05      3.000000      2.250000   1910.000000   \n",
       "75%    7.308900e+09  6.450000e+05      4.000000      2.500000   2550.000000   \n",
       "max    9.900000e+09  7.700000e+06     33.000000      8.000000  13540.000000   \n",
       "\n",
       "           sqft_lot        floors    sqft_above      yr_built  yr_renovated  \\\n",
       "count  2.159700e+04  21597.000000  21597.000000  21597.000000  17755.000000   \n",
       "mean   1.509941e+04      1.494096   1788.596842   1970.999676     83.636778   \n",
       "std    4.141264e+04      0.539683    827.759761     29.375234    399.946414   \n",
       "min    5.200000e+02      1.000000    370.000000   1900.000000      0.000000   \n",
       "25%    5.040000e+03      1.000000   1190.000000   1951.000000      0.000000   \n",
       "50%    7.618000e+03      1.500000   1560.000000   1975.000000      0.000000   \n",
       "75%    1.068500e+04      2.000000   2210.000000   1997.000000      0.000000   \n",
       "max    1.651359e+06      3.500000   9410.000000   2015.000000   2015.000000   \n",
       "\n",
       "            zipcode           lat          long  sqft_living15     sqft_lot15  \n",
       "count  21597.000000  21597.000000  21597.000000   21597.000000   21597.000000  \n",
       "mean   98077.951845     47.560093   -122.213982    1986.620318   12758.283512  \n",
       "std       53.513072      0.138552      0.140724     685.230472   27274.441950  \n",
       "min    98001.000000     47.155900   -122.519000     399.000000     651.000000  \n",
       "25%    98033.000000     47.471100   -122.328000    1490.000000    5100.000000  \n",
       "50%    98065.000000     47.571800   -122.231000    1840.000000    7620.000000  \n",
       "75%    98118.000000     47.678000   -122.125000    2360.000000   10083.000000  \n",
       "max    98199.000000     47.777600   -121.315000    6210.000000  871200.000000  "
      ]
     },
     "execution_count": 4,
     "metadata": {},
     "output_type": "execute_result"
    }
   ],
   "source": [
    "# Summary statistics of the dataframe\n",
    "df.describe()"
   ]
  },
  {
   "cell_type": "code",
   "execution_count": 5,
   "metadata": {},
   "outputs": [
    {
     "data": {
      "text/html": [
       "<div>\n",
       "<style scoped>\n",
       "    .dataframe tbody tr th:only-of-type {\n",
       "        vertical-align: middle;\n",
       "    }\n",
       "\n",
       "    .dataframe tbody tr th {\n",
       "        vertical-align: top;\n",
       "    }\n",
       "\n",
       "    .dataframe thead th {\n",
       "        text-align: right;\n",
       "    }\n",
       "</style>\n",
       "<table border=\"1\" class=\"dataframe\">\n",
       "  <thead>\n",
       "    <tr style=\"text-align: right;\">\n",
       "      <th></th>\n",
       "      <th>id</th>\n",
       "      <th>date</th>\n",
       "      <th>price</th>\n",
       "      <th>bedrooms</th>\n",
       "      <th>bathrooms</th>\n",
       "      <th>sqft_living</th>\n",
       "      <th>sqft_lot</th>\n",
       "      <th>floors</th>\n",
       "      <th>waterfront</th>\n",
       "      <th>view</th>\n",
       "      <th>...</th>\n",
       "      <th>grade</th>\n",
       "      <th>sqft_above</th>\n",
       "      <th>sqft_basement</th>\n",
       "      <th>yr_built</th>\n",
       "      <th>yr_renovated</th>\n",
       "      <th>zipcode</th>\n",
       "      <th>lat</th>\n",
       "      <th>long</th>\n",
       "      <th>sqft_living15</th>\n",
       "      <th>sqft_lot15</th>\n",
       "    </tr>\n",
       "  </thead>\n",
       "  <tbody>\n",
       "    <tr>\n",
       "      <th>0</th>\n",
       "      <td>7129300520</td>\n",
       "      <td>10/13/2014</td>\n",
       "      <td>221900.0</td>\n",
       "      <td>3</td>\n",
       "      <td>1.00</td>\n",
       "      <td>1180</td>\n",
       "      <td>5650</td>\n",
       "      <td>1.0</td>\n",
       "      <td>NaN</td>\n",
       "      <td>NONE</td>\n",
       "      <td>...</td>\n",
       "      <td>7 Average</td>\n",
       "      <td>1180</td>\n",
       "      <td>0.0</td>\n",
       "      <td>1955</td>\n",
       "      <td>0.0</td>\n",
       "      <td>98178</td>\n",
       "      <td>47.5112</td>\n",
       "      <td>-122.257</td>\n",
       "      <td>1340</td>\n",
       "      <td>5650</td>\n",
       "    </tr>\n",
       "    <tr>\n",
       "      <th>1</th>\n",
       "      <td>6414100192</td>\n",
       "      <td>12/9/2014</td>\n",
       "      <td>538000.0</td>\n",
       "      <td>3</td>\n",
       "      <td>2.25</td>\n",
       "      <td>2570</td>\n",
       "      <td>7242</td>\n",
       "      <td>2.0</td>\n",
       "      <td>NO</td>\n",
       "      <td>NONE</td>\n",
       "      <td>...</td>\n",
       "      <td>7 Average</td>\n",
       "      <td>2170</td>\n",
       "      <td>400.0</td>\n",
       "      <td>1951</td>\n",
       "      <td>1991.0</td>\n",
       "      <td>98125</td>\n",
       "      <td>47.7210</td>\n",
       "      <td>-122.319</td>\n",
       "      <td>1690</td>\n",
       "      <td>7639</td>\n",
       "    </tr>\n",
       "    <tr>\n",
       "      <th>2</th>\n",
       "      <td>5631500400</td>\n",
       "      <td>2/25/2015</td>\n",
       "      <td>180000.0</td>\n",
       "      <td>2</td>\n",
       "      <td>1.00</td>\n",
       "      <td>770</td>\n",
       "      <td>10000</td>\n",
       "      <td>1.0</td>\n",
       "      <td>NO</td>\n",
       "      <td>NONE</td>\n",
       "      <td>...</td>\n",
       "      <td>6 Low Average</td>\n",
       "      <td>770</td>\n",
       "      <td>0.0</td>\n",
       "      <td>1933</td>\n",
       "      <td>NaN</td>\n",
       "      <td>98028</td>\n",
       "      <td>47.7379</td>\n",
       "      <td>-122.233</td>\n",
       "      <td>2720</td>\n",
       "      <td>8062</td>\n",
       "    </tr>\n",
       "    <tr>\n",
       "      <th>3</th>\n",
       "      <td>2487200875</td>\n",
       "      <td>12/9/2014</td>\n",
       "      <td>604000.0</td>\n",
       "      <td>4</td>\n",
       "      <td>3.00</td>\n",
       "      <td>1960</td>\n",
       "      <td>5000</td>\n",
       "      <td>1.0</td>\n",
       "      <td>NO</td>\n",
       "      <td>NONE</td>\n",
       "      <td>...</td>\n",
       "      <td>7 Average</td>\n",
       "      <td>1050</td>\n",
       "      <td>910.0</td>\n",
       "      <td>1965</td>\n",
       "      <td>0.0</td>\n",
       "      <td>98136</td>\n",
       "      <td>47.5208</td>\n",
       "      <td>-122.393</td>\n",
       "      <td>1360</td>\n",
       "      <td>5000</td>\n",
       "    </tr>\n",
       "    <tr>\n",
       "      <th>4</th>\n",
       "      <td>1954400510</td>\n",
       "      <td>2/18/2015</td>\n",
       "      <td>510000.0</td>\n",
       "      <td>3</td>\n",
       "      <td>2.00</td>\n",
       "      <td>1680</td>\n",
       "      <td>8080</td>\n",
       "      <td>1.0</td>\n",
       "      <td>NO</td>\n",
       "      <td>NONE</td>\n",
       "      <td>...</td>\n",
       "      <td>8 Good</td>\n",
       "      <td>1680</td>\n",
       "      <td>0.0</td>\n",
       "      <td>1987</td>\n",
       "      <td>0.0</td>\n",
       "      <td>98074</td>\n",
       "      <td>47.6168</td>\n",
       "      <td>-122.045</td>\n",
       "      <td>1800</td>\n",
       "      <td>7503</td>\n",
       "    </tr>\n",
       "    <tr>\n",
       "      <th>5</th>\n",
       "      <td>7237550310</td>\n",
       "      <td>5/12/2014</td>\n",
       "      <td>1230000.0</td>\n",
       "      <td>4</td>\n",
       "      <td>4.50</td>\n",
       "      <td>5420</td>\n",
       "      <td>101930</td>\n",
       "      <td>1.0</td>\n",
       "      <td>NO</td>\n",
       "      <td>NONE</td>\n",
       "      <td>...</td>\n",
       "      <td>11 Excellent</td>\n",
       "      <td>3890</td>\n",
       "      <td>1530.0</td>\n",
       "      <td>2001</td>\n",
       "      <td>0.0</td>\n",
       "      <td>98053</td>\n",
       "      <td>47.6561</td>\n",
       "      <td>-122.005</td>\n",
       "      <td>4760</td>\n",
       "      <td>101930</td>\n",
       "    </tr>\n",
       "    <tr>\n",
       "      <th>6</th>\n",
       "      <td>1321400060</td>\n",
       "      <td>6/27/2014</td>\n",
       "      <td>257500.0</td>\n",
       "      <td>3</td>\n",
       "      <td>2.25</td>\n",
       "      <td>1715</td>\n",
       "      <td>6819</td>\n",
       "      <td>2.0</td>\n",
       "      <td>NO</td>\n",
       "      <td>NONE</td>\n",
       "      <td>...</td>\n",
       "      <td>7 Average</td>\n",
       "      <td>1715</td>\n",
       "      <td>?</td>\n",
       "      <td>1995</td>\n",
       "      <td>0.0</td>\n",
       "      <td>98003</td>\n",
       "      <td>47.3097</td>\n",
       "      <td>-122.327</td>\n",
       "      <td>2238</td>\n",
       "      <td>6819</td>\n",
       "    </tr>\n",
       "    <tr>\n",
       "      <th>7</th>\n",
       "      <td>2008000270</td>\n",
       "      <td>1/15/2015</td>\n",
       "      <td>291850.0</td>\n",
       "      <td>3</td>\n",
       "      <td>1.50</td>\n",
       "      <td>1060</td>\n",
       "      <td>9711</td>\n",
       "      <td>1.0</td>\n",
       "      <td>NO</td>\n",
       "      <td>NaN</td>\n",
       "      <td>...</td>\n",
       "      <td>7 Average</td>\n",
       "      <td>1060</td>\n",
       "      <td>0.0</td>\n",
       "      <td>1963</td>\n",
       "      <td>0.0</td>\n",
       "      <td>98198</td>\n",
       "      <td>47.4095</td>\n",
       "      <td>-122.315</td>\n",
       "      <td>1650</td>\n",
       "      <td>9711</td>\n",
       "    </tr>\n",
       "    <tr>\n",
       "      <th>8</th>\n",
       "      <td>2414600126</td>\n",
       "      <td>4/15/2015</td>\n",
       "      <td>229500.0</td>\n",
       "      <td>3</td>\n",
       "      <td>1.00</td>\n",
       "      <td>1780</td>\n",
       "      <td>7470</td>\n",
       "      <td>1.0</td>\n",
       "      <td>NO</td>\n",
       "      <td>NONE</td>\n",
       "      <td>...</td>\n",
       "      <td>7 Average</td>\n",
       "      <td>1050</td>\n",
       "      <td>730.0</td>\n",
       "      <td>1960</td>\n",
       "      <td>0.0</td>\n",
       "      <td>98146</td>\n",
       "      <td>47.5123</td>\n",
       "      <td>-122.337</td>\n",
       "      <td>1780</td>\n",
       "      <td>8113</td>\n",
       "    </tr>\n",
       "    <tr>\n",
       "      <th>9</th>\n",
       "      <td>3793500160</td>\n",
       "      <td>3/12/2015</td>\n",
       "      <td>323000.0</td>\n",
       "      <td>3</td>\n",
       "      <td>2.50</td>\n",
       "      <td>1890</td>\n",
       "      <td>6560</td>\n",
       "      <td>2.0</td>\n",
       "      <td>NO</td>\n",
       "      <td>NONE</td>\n",
       "      <td>...</td>\n",
       "      <td>7 Average</td>\n",
       "      <td>1890</td>\n",
       "      <td>0.0</td>\n",
       "      <td>2003</td>\n",
       "      <td>0.0</td>\n",
       "      <td>98038</td>\n",
       "      <td>47.3684</td>\n",
       "      <td>-122.031</td>\n",
       "      <td>2390</td>\n",
       "      <td>7570</td>\n",
       "    </tr>\n",
       "    <tr>\n",
       "      <th>10</th>\n",
       "      <td>1736800520</td>\n",
       "      <td>4/3/2015</td>\n",
       "      <td>662500.0</td>\n",
       "      <td>3</td>\n",
       "      <td>2.50</td>\n",
       "      <td>3560</td>\n",
       "      <td>9796</td>\n",
       "      <td>1.0</td>\n",
       "      <td>NaN</td>\n",
       "      <td>NONE</td>\n",
       "      <td>...</td>\n",
       "      <td>8 Good</td>\n",
       "      <td>1860</td>\n",
       "      <td>1700.0</td>\n",
       "      <td>1965</td>\n",
       "      <td>0.0</td>\n",
       "      <td>98007</td>\n",
       "      <td>47.6007</td>\n",
       "      <td>-122.145</td>\n",
       "      <td>2210</td>\n",
       "      <td>8925</td>\n",
       "    </tr>\n",
       "    <tr>\n",
       "      <th>11</th>\n",
       "      <td>9212900260</td>\n",
       "      <td>5/27/2014</td>\n",
       "      <td>468000.0</td>\n",
       "      <td>2</td>\n",
       "      <td>1.00</td>\n",
       "      <td>1160</td>\n",
       "      <td>6000</td>\n",
       "      <td>1.0</td>\n",
       "      <td>NO</td>\n",
       "      <td>NONE</td>\n",
       "      <td>...</td>\n",
       "      <td>7 Average</td>\n",
       "      <td>860</td>\n",
       "      <td>300.0</td>\n",
       "      <td>1942</td>\n",
       "      <td>0.0</td>\n",
       "      <td>98115</td>\n",
       "      <td>47.6900</td>\n",
       "      <td>-122.292</td>\n",
       "      <td>1330</td>\n",
       "      <td>6000</td>\n",
       "    </tr>\n",
       "    <tr>\n",
       "      <th>12</th>\n",
       "      <td>114101516</td>\n",
       "      <td>5/28/2014</td>\n",
       "      <td>310000.0</td>\n",
       "      <td>3</td>\n",
       "      <td>1.00</td>\n",
       "      <td>1430</td>\n",
       "      <td>19901</td>\n",
       "      <td>1.5</td>\n",
       "      <td>NO</td>\n",
       "      <td>NONE</td>\n",
       "      <td>...</td>\n",
       "      <td>7 Average</td>\n",
       "      <td>1430</td>\n",
       "      <td>0.0</td>\n",
       "      <td>1927</td>\n",
       "      <td>NaN</td>\n",
       "      <td>98028</td>\n",
       "      <td>47.7558</td>\n",
       "      <td>-122.229</td>\n",
       "      <td>1780</td>\n",
       "      <td>12697</td>\n",
       "    </tr>\n",
       "    <tr>\n",
       "      <th>13</th>\n",
       "      <td>6054650070</td>\n",
       "      <td>10/7/2014</td>\n",
       "      <td>400000.0</td>\n",
       "      <td>3</td>\n",
       "      <td>1.75</td>\n",
       "      <td>1370</td>\n",
       "      <td>9680</td>\n",
       "      <td>1.0</td>\n",
       "      <td>NO</td>\n",
       "      <td>NONE</td>\n",
       "      <td>...</td>\n",
       "      <td>7 Average</td>\n",
       "      <td>1370</td>\n",
       "      <td>0.0</td>\n",
       "      <td>1977</td>\n",
       "      <td>0.0</td>\n",
       "      <td>98074</td>\n",
       "      <td>47.6127</td>\n",
       "      <td>-122.045</td>\n",
       "      <td>1370</td>\n",
       "      <td>10208</td>\n",
       "    </tr>\n",
       "    <tr>\n",
       "      <th>14</th>\n",
       "      <td>1175000570</td>\n",
       "      <td>3/12/2015</td>\n",
       "      <td>530000.0</td>\n",
       "      <td>5</td>\n",
       "      <td>2.00</td>\n",
       "      <td>1810</td>\n",
       "      <td>4850</td>\n",
       "      <td>1.5</td>\n",
       "      <td>NO</td>\n",
       "      <td>NONE</td>\n",
       "      <td>...</td>\n",
       "      <td>7 Average</td>\n",
       "      <td>1810</td>\n",
       "      <td>0.0</td>\n",
       "      <td>1900</td>\n",
       "      <td>0.0</td>\n",
       "      <td>98107</td>\n",
       "      <td>47.6700</td>\n",
       "      <td>-122.394</td>\n",
       "      <td>1360</td>\n",
       "      <td>4850</td>\n",
       "    </tr>\n",
       "    <tr>\n",
       "      <th>15</th>\n",
       "      <td>9297300055</td>\n",
       "      <td>1/24/2015</td>\n",
       "      <td>650000.0</td>\n",
       "      <td>4</td>\n",
       "      <td>3.00</td>\n",
       "      <td>2950</td>\n",
       "      <td>5000</td>\n",
       "      <td>2.0</td>\n",
       "      <td>NO</td>\n",
       "      <td>GOOD</td>\n",
       "      <td>...</td>\n",
       "      <td>9 Better</td>\n",
       "      <td>1980</td>\n",
       "      <td>970.0</td>\n",
       "      <td>1979</td>\n",
       "      <td>0.0</td>\n",
       "      <td>98126</td>\n",
       "      <td>47.5714</td>\n",
       "      <td>-122.375</td>\n",
       "      <td>2140</td>\n",
       "      <td>4000</td>\n",
       "    </tr>\n",
       "    <tr>\n",
       "      <th>16</th>\n",
       "      <td>1875500060</td>\n",
       "      <td>7/31/2014</td>\n",
       "      <td>395000.0</td>\n",
       "      <td>3</td>\n",
       "      <td>2.00</td>\n",
       "      <td>1890</td>\n",
       "      <td>14040</td>\n",
       "      <td>2.0</td>\n",
       "      <td>NO</td>\n",
       "      <td>NONE</td>\n",
       "      <td>...</td>\n",
       "      <td>7 Average</td>\n",
       "      <td>1890</td>\n",
       "      <td>0.0</td>\n",
       "      <td>1994</td>\n",
       "      <td>0.0</td>\n",
       "      <td>98019</td>\n",
       "      <td>47.7277</td>\n",
       "      <td>-121.962</td>\n",
       "      <td>1890</td>\n",
       "      <td>14018</td>\n",
       "    </tr>\n",
       "    <tr>\n",
       "      <th>17</th>\n",
       "      <td>6865200140</td>\n",
       "      <td>5/29/2014</td>\n",
       "      <td>485000.0</td>\n",
       "      <td>4</td>\n",
       "      <td>1.00</td>\n",
       "      <td>1600</td>\n",
       "      <td>4300</td>\n",
       "      <td>1.5</td>\n",
       "      <td>NO</td>\n",
       "      <td>NONE</td>\n",
       "      <td>...</td>\n",
       "      <td>7 Average</td>\n",
       "      <td>1600</td>\n",
       "      <td>0.0</td>\n",
       "      <td>1916</td>\n",
       "      <td>0.0</td>\n",
       "      <td>98103</td>\n",
       "      <td>47.6648</td>\n",
       "      <td>-122.343</td>\n",
       "      <td>1610</td>\n",
       "      <td>4300</td>\n",
       "    </tr>\n",
       "    <tr>\n",
       "      <th>18</th>\n",
       "      <td>16000397</td>\n",
       "      <td>12/5/2014</td>\n",
       "      <td>189000.0</td>\n",
       "      <td>2</td>\n",
       "      <td>1.00</td>\n",
       "      <td>1200</td>\n",
       "      <td>9850</td>\n",
       "      <td>1.0</td>\n",
       "      <td>NO</td>\n",
       "      <td>NONE</td>\n",
       "      <td>...</td>\n",
       "      <td>7 Average</td>\n",
       "      <td>1200</td>\n",
       "      <td>?</td>\n",
       "      <td>1921</td>\n",
       "      <td>0.0</td>\n",
       "      <td>98002</td>\n",
       "      <td>47.3089</td>\n",
       "      <td>-122.210</td>\n",
       "      <td>1060</td>\n",
       "      <td>5095</td>\n",
       "    </tr>\n",
       "    <tr>\n",
       "      <th>19</th>\n",
       "      <td>7983200060</td>\n",
       "      <td>4/24/2015</td>\n",
       "      <td>230000.0</td>\n",
       "      <td>3</td>\n",
       "      <td>1.00</td>\n",
       "      <td>1250</td>\n",
       "      <td>9774</td>\n",
       "      <td>1.0</td>\n",
       "      <td>NO</td>\n",
       "      <td>NONE</td>\n",
       "      <td>...</td>\n",
       "      <td>7 Average</td>\n",
       "      <td>1250</td>\n",
       "      <td>0.0</td>\n",
       "      <td>1969</td>\n",
       "      <td>0.0</td>\n",
       "      <td>98003</td>\n",
       "      <td>47.3343</td>\n",
       "      <td>-122.306</td>\n",
       "      <td>1280</td>\n",
       "      <td>8850</td>\n",
       "    </tr>\n",
       "  </tbody>\n",
       "</table>\n",
       "<p>20 rows × 21 columns</p>\n",
       "</div>"
      ],
      "text/plain": [
       "            id        date      price  bedrooms  bathrooms  sqft_living  \\\n",
       "0   7129300520  10/13/2014   221900.0         3       1.00         1180   \n",
       "1   6414100192   12/9/2014   538000.0         3       2.25         2570   \n",
       "2   5631500400   2/25/2015   180000.0         2       1.00          770   \n",
       "3   2487200875   12/9/2014   604000.0         4       3.00         1960   \n",
       "4   1954400510   2/18/2015   510000.0         3       2.00         1680   \n",
       "5   7237550310   5/12/2014  1230000.0         4       4.50         5420   \n",
       "6   1321400060   6/27/2014   257500.0         3       2.25         1715   \n",
       "7   2008000270   1/15/2015   291850.0         3       1.50         1060   \n",
       "8   2414600126   4/15/2015   229500.0         3       1.00         1780   \n",
       "9   3793500160   3/12/2015   323000.0         3       2.50         1890   \n",
       "10  1736800520    4/3/2015   662500.0         3       2.50         3560   \n",
       "11  9212900260   5/27/2014   468000.0         2       1.00         1160   \n",
       "12   114101516   5/28/2014   310000.0         3       1.00         1430   \n",
       "13  6054650070   10/7/2014   400000.0         3       1.75         1370   \n",
       "14  1175000570   3/12/2015   530000.0         5       2.00         1810   \n",
       "15  9297300055   1/24/2015   650000.0         4       3.00         2950   \n",
       "16  1875500060   7/31/2014   395000.0         3       2.00         1890   \n",
       "17  6865200140   5/29/2014   485000.0         4       1.00         1600   \n",
       "18    16000397   12/5/2014   189000.0         2       1.00         1200   \n",
       "19  7983200060   4/24/2015   230000.0         3       1.00         1250   \n",
       "\n",
       "    sqft_lot  floors waterfront  view  ...          grade sqft_above  \\\n",
       "0       5650     1.0        NaN  NONE  ...      7 Average       1180   \n",
       "1       7242     2.0         NO  NONE  ...      7 Average       2170   \n",
       "2      10000     1.0         NO  NONE  ...  6 Low Average        770   \n",
       "3       5000     1.0         NO  NONE  ...      7 Average       1050   \n",
       "4       8080     1.0         NO  NONE  ...         8 Good       1680   \n",
       "5     101930     1.0         NO  NONE  ...   11 Excellent       3890   \n",
       "6       6819     2.0         NO  NONE  ...      7 Average       1715   \n",
       "7       9711     1.0         NO   NaN  ...      7 Average       1060   \n",
       "8       7470     1.0         NO  NONE  ...      7 Average       1050   \n",
       "9       6560     2.0         NO  NONE  ...      7 Average       1890   \n",
       "10      9796     1.0        NaN  NONE  ...         8 Good       1860   \n",
       "11      6000     1.0         NO  NONE  ...      7 Average        860   \n",
       "12     19901     1.5         NO  NONE  ...      7 Average       1430   \n",
       "13      9680     1.0         NO  NONE  ...      7 Average       1370   \n",
       "14      4850     1.5         NO  NONE  ...      7 Average       1810   \n",
       "15      5000     2.0         NO  GOOD  ...       9 Better       1980   \n",
       "16     14040     2.0         NO  NONE  ...      7 Average       1890   \n",
       "17      4300     1.5         NO  NONE  ...      7 Average       1600   \n",
       "18      9850     1.0         NO  NONE  ...      7 Average       1200   \n",
       "19      9774     1.0         NO  NONE  ...      7 Average       1250   \n",
       "\n",
       "    sqft_basement yr_built  yr_renovated  zipcode      lat     long  \\\n",
       "0             0.0     1955           0.0    98178  47.5112 -122.257   \n",
       "1           400.0     1951        1991.0    98125  47.7210 -122.319   \n",
       "2             0.0     1933           NaN    98028  47.7379 -122.233   \n",
       "3           910.0     1965           0.0    98136  47.5208 -122.393   \n",
       "4             0.0     1987           0.0    98074  47.6168 -122.045   \n",
       "5          1530.0     2001           0.0    98053  47.6561 -122.005   \n",
       "6               ?     1995           0.0    98003  47.3097 -122.327   \n",
       "7             0.0     1963           0.0    98198  47.4095 -122.315   \n",
       "8           730.0     1960           0.0    98146  47.5123 -122.337   \n",
       "9             0.0     2003           0.0    98038  47.3684 -122.031   \n",
       "10         1700.0     1965           0.0    98007  47.6007 -122.145   \n",
       "11          300.0     1942           0.0    98115  47.6900 -122.292   \n",
       "12            0.0     1927           NaN    98028  47.7558 -122.229   \n",
       "13            0.0     1977           0.0    98074  47.6127 -122.045   \n",
       "14            0.0     1900           0.0    98107  47.6700 -122.394   \n",
       "15          970.0     1979           0.0    98126  47.5714 -122.375   \n",
       "16            0.0     1994           0.0    98019  47.7277 -121.962   \n",
       "17            0.0     1916           0.0    98103  47.6648 -122.343   \n",
       "18              ?     1921           0.0    98002  47.3089 -122.210   \n",
       "19            0.0     1969           0.0    98003  47.3343 -122.306   \n",
       "\n",
       "    sqft_living15  sqft_lot15  \n",
       "0            1340        5650  \n",
       "1            1690        7639  \n",
       "2            2720        8062  \n",
       "3            1360        5000  \n",
       "4            1800        7503  \n",
       "5            4760      101930  \n",
       "6            2238        6819  \n",
       "7            1650        9711  \n",
       "8            1780        8113  \n",
       "9            2390        7570  \n",
       "10           2210        8925  \n",
       "11           1330        6000  \n",
       "12           1780       12697  \n",
       "13           1370       10208  \n",
       "14           1360        4850  \n",
       "15           2140        4000  \n",
       "16           1890       14018  \n",
       "17           1610        4300  \n",
       "18           1060        5095  \n",
       "19           1280        8850  \n",
       "\n",
       "[20 rows x 21 columns]"
      ]
     },
     "execution_count": 5,
     "metadata": {},
     "output_type": "execute_result"
    }
   ],
   "source": [
    "df.head(20)"
   ]
  },
  {
   "cell_type": "markdown",
   "metadata": {},
   "source": [
    "### Data preparation"
   ]
  },
  {
   "cell_type": "markdown",
   "metadata": {},
   "source": [
    "We will assess the presence of null values in several columns, specifically 'waterfront,' 'view,' and 'yr_renovated,' and determine the percentage of missing values in each of these columns."
   ]
  },
  {
   "cell_type": "code",
   "execution_count": 6,
   "metadata": {},
   "outputs": [
    {
     "data": {
      "text/plain": [
       "11.00152798999861"
      ]
     },
     "execution_count": 6,
     "metadata": {},
     "output_type": "execute_result"
    }
   ],
   "source": [
    "# calculate the percentage of the  null values - waterfront\n",
    "df['waterfront'].isnull().mean() * 100"
   ]
  },
  {
   "cell_type": "code",
   "execution_count": 7,
   "metadata": {},
   "outputs": [
    {
     "data": {
      "text/plain": [
       "17.78950780200954"
      ]
     },
     "execution_count": 7,
     "metadata": {},
     "output_type": "execute_result"
    }
   ],
   "source": [
    "# calculate the percentage of the null values - yr_renovated\n",
    "df['yr_renovated'].isnull().mean() * 100"
   ]
  },
  {
   "cell_type": "code",
   "execution_count": 8,
   "metadata": {},
   "outputs": [
    {
     "data": {
      "text/plain": [
       "0.29170718155299347"
      ]
     },
     "execution_count": 8,
     "metadata": {},
     "output_type": "execute_result"
    }
   ],
   "source": [
    "# calculate the percentage of the null values - view\n",
    "df['view'].isnull().mean() * 100"
   ]
  },
  {
   "cell_type": "markdown",
   "metadata": {},
   "source": [
    "Given that the number of null values in our dataset is relatively small and not substantial, we have decided to proceed by removing these null values."
   ]
  },
  {
   "cell_type": "code",
   "execution_count": 9,
   "metadata": {},
   "outputs": [],
   "source": [
    "# drop null values\n",
    "df.dropna(inplace=True)\n",
    "df.drop(df.loc[df['sqft_basement']=='?'].index,inplace=True) "
   ]
  },
  {
   "cell_type": "code",
   "execution_count": 10,
   "metadata": {},
   "outputs": [
    {
     "name": "stdout",
     "output_type": "stream",
     "text": [
      "<class 'pandas.core.frame.DataFrame'>\n",
      "Int64Index: 15429 entries, 1 to 21596\n",
      "Data columns (total 21 columns):\n",
      " #   Column         Non-Null Count  Dtype  \n",
      "---  ------         --------------  -----  \n",
      " 0   id             15429 non-null  int64  \n",
      " 1   date           15429 non-null  object \n",
      " 2   price          15429 non-null  float64\n",
      " 3   bedrooms       15429 non-null  int64  \n",
      " 4   bathrooms      15429 non-null  float64\n",
      " 5   sqft_living    15429 non-null  int64  \n",
      " 6   sqft_lot       15429 non-null  int64  \n",
      " 7   floors         15429 non-null  float64\n",
      " 8   waterfront     15429 non-null  object \n",
      " 9   view           15429 non-null  object \n",
      " 10  condition      15429 non-null  object \n",
      " 11  grade          15429 non-null  object \n",
      " 12  sqft_above     15429 non-null  int64  \n",
      " 13  sqft_basement  15429 non-null  object \n",
      " 14  yr_built       15429 non-null  int64  \n",
      " 15  yr_renovated   15429 non-null  float64\n",
      " 16  zipcode        15429 non-null  int64  \n",
      " 17  lat            15429 non-null  float64\n",
      " 18  long           15429 non-null  float64\n",
      " 19  sqft_living15  15429 non-null  int64  \n",
      " 20  sqft_lot15     15429 non-null  int64  \n",
      "dtypes: float64(6), int64(9), object(6)\n",
      "memory usage: 2.6+ MB\n"
     ]
    }
   ],
   "source": [
    "# verify null values are removed\n",
    "df.info()"
   ]
  },
  {
   "cell_type": "code",
   "execution_count": 11,
   "metadata": {},
   "outputs": [
    {
     "data": {
      "text/plain": [
       "0"
      ]
     },
     "execution_count": 11,
     "metadata": {},
     "output_type": "execute_result"
    }
   ],
   "source": [
    "# check duplicates\n",
    "duplicates = df.duplicated().sum()\n",
    "duplicates"
   ]
  },
  {
   "cell_type": "code",
   "execution_count": 12,
   "metadata": {},
   "outputs": [
    {
     "data": {
      "text/html": [
       "<div>\n",
       "<style scoped>\n",
       "    .dataframe tbody tr th:only-of-type {\n",
       "        vertical-align: middle;\n",
       "    }\n",
       "\n",
       "    .dataframe tbody tr th {\n",
       "        vertical-align: top;\n",
       "    }\n",
       "\n",
       "    .dataframe thead th {\n",
       "        text-align: right;\n",
       "    }\n",
       "</style>\n",
       "<table border=\"1\" class=\"dataframe\">\n",
       "  <thead>\n",
       "    <tr style=\"text-align: right;\">\n",
       "      <th></th>\n",
       "      <th>id</th>\n",
       "      <th>date</th>\n",
       "      <th>price</th>\n",
       "      <th>bedrooms</th>\n",
       "      <th>bathrooms</th>\n",
       "      <th>sqft_living</th>\n",
       "      <th>sqft_lot</th>\n",
       "      <th>floors</th>\n",
       "      <th>waterfront</th>\n",
       "      <th>view</th>\n",
       "      <th>...</th>\n",
       "      <th>grade</th>\n",
       "      <th>sqft_above</th>\n",
       "      <th>sqft_basement</th>\n",
       "      <th>yr_built</th>\n",
       "      <th>yr_renovated</th>\n",
       "      <th>zipcode</th>\n",
       "      <th>lat</th>\n",
       "      <th>long</th>\n",
       "      <th>sqft_living15</th>\n",
       "      <th>sqft_lot15</th>\n",
       "    </tr>\n",
       "  </thead>\n",
       "  <tbody>\n",
       "    <tr>\n",
       "      <th>1</th>\n",
       "      <td>6414100192</td>\n",
       "      <td>12/9/2014</td>\n",
       "      <td>538000.0</td>\n",
       "      <td>3</td>\n",
       "      <td>2.25</td>\n",
       "      <td>2570</td>\n",
       "      <td>7242</td>\n",
       "      <td>2.0</td>\n",
       "      <td>NO</td>\n",
       "      <td>NONE</td>\n",
       "      <td>...</td>\n",
       "      <td>7 Average</td>\n",
       "      <td>2170</td>\n",
       "      <td>400.0</td>\n",
       "      <td>1951</td>\n",
       "      <td>1991.0</td>\n",
       "      <td>98125</td>\n",
       "      <td>47.7210</td>\n",
       "      <td>-122.319</td>\n",
       "      <td>1690</td>\n",
       "      <td>7639</td>\n",
       "    </tr>\n",
       "    <tr>\n",
       "      <th>3</th>\n",
       "      <td>2487200875</td>\n",
       "      <td>12/9/2014</td>\n",
       "      <td>604000.0</td>\n",
       "      <td>4</td>\n",
       "      <td>3.00</td>\n",
       "      <td>1960</td>\n",
       "      <td>5000</td>\n",
       "      <td>1.0</td>\n",
       "      <td>NO</td>\n",
       "      <td>NONE</td>\n",
       "      <td>...</td>\n",
       "      <td>7 Average</td>\n",
       "      <td>1050</td>\n",
       "      <td>910.0</td>\n",
       "      <td>1965</td>\n",
       "      <td>0.0</td>\n",
       "      <td>98136</td>\n",
       "      <td>47.5208</td>\n",
       "      <td>-122.393</td>\n",
       "      <td>1360</td>\n",
       "      <td>5000</td>\n",
       "    </tr>\n",
       "    <tr>\n",
       "      <th>4</th>\n",
       "      <td>1954400510</td>\n",
       "      <td>2/18/2015</td>\n",
       "      <td>510000.0</td>\n",
       "      <td>3</td>\n",
       "      <td>2.00</td>\n",
       "      <td>1680</td>\n",
       "      <td>8080</td>\n",
       "      <td>1.0</td>\n",
       "      <td>NO</td>\n",
       "      <td>NONE</td>\n",
       "      <td>...</td>\n",
       "      <td>8 Good</td>\n",
       "      <td>1680</td>\n",
       "      <td>0.0</td>\n",
       "      <td>1987</td>\n",
       "      <td>0.0</td>\n",
       "      <td>98074</td>\n",
       "      <td>47.6168</td>\n",
       "      <td>-122.045</td>\n",
       "      <td>1800</td>\n",
       "      <td>7503</td>\n",
       "    </tr>\n",
       "    <tr>\n",
       "      <th>5</th>\n",
       "      <td>7237550310</td>\n",
       "      <td>5/12/2014</td>\n",
       "      <td>1230000.0</td>\n",
       "      <td>4</td>\n",
       "      <td>4.50</td>\n",
       "      <td>5420</td>\n",
       "      <td>101930</td>\n",
       "      <td>1.0</td>\n",
       "      <td>NO</td>\n",
       "      <td>NONE</td>\n",
       "      <td>...</td>\n",
       "      <td>11 Excellent</td>\n",
       "      <td>3890</td>\n",
       "      <td>1530.0</td>\n",
       "      <td>2001</td>\n",
       "      <td>0.0</td>\n",
       "      <td>98053</td>\n",
       "      <td>47.6561</td>\n",
       "      <td>-122.005</td>\n",
       "      <td>4760</td>\n",
       "      <td>101930</td>\n",
       "    </tr>\n",
       "    <tr>\n",
       "      <th>8</th>\n",
       "      <td>2414600126</td>\n",
       "      <td>4/15/2015</td>\n",
       "      <td>229500.0</td>\n",
       "      <td>3</td>\n",
       "      <td>1.00</td>\n",
       "      <td>1780</td>\n",
       "      <td>7470</td>\n",
       "      <td>1.0</td>\n",
       "      <td>NO</td>\n",
       "      <td>NONE</td>\n",
       "      <td>...</td>\n",
       "      <td>7 Average</td>\n",
       "      <td>1050</td>\n",
       "      <td>730.0</td>\n",
       "      <td>1960</td>\n",
       "      <td>0.0</td>\n",
       "      <td>98146</td>\n",
       "      <td>47.5123</td>\n",
       "      <td>-122.337</td>\n",
       "      <td>1780</td>\n",
       "      <td>8113</td>\n",
       "    </tr>\n",
       "  </tbody>\n",
       "</table>\n",
       "<p>5 rows × 21 columns</p>\n",
       "</div>"
      ],
      "text/plain": [
       "           id       date      price  bedrooms  bathrooms  sqft_living  \\\n",
       "1  6414100192  12/9/2014   538000.0         3       2.25         2570   \n",
       "3  2487200875  12/9/2014   604000.0         4       3.00         1960   \n",
       "4  1954400510  2/18/2015   510000.0         3       2.00         1680   \n",
       "5  7237550310  5/12/2014  1230000.0         4       4.50         5420   \n",
       "8  2414600126  4/15/2015   229500.0         3       1.00         1780   \n",
       "\n",
       "   sqft_lot  floors waterfront  view  ...         grade sqft_above  \\\n",
       "1      7242     2.0         NO  NONE  ...     7 Average       2170   \n",
       "3      5000     1.0         NO  NONE  ...     7 Average       1050   \n",
       "4      8080     1.0         NO  NONE  ...        8 Good       1680   \n",
       "5    101930     1.0         NO  NONE  ...  11 Excellent       3890   \n",
       "8      7470     1.0         NO  NONE  ...     7 Average       1050   \n",
       "\n",
       "   sqft_basement yr_built  yr_renovated  zipcode      lat     long  \\\n",
       "1          400.0     1951        1991.0    98125  47.7210 -122.319   \n",
       "3          910.0     1965           0.0    98136  47.5208 -122.393   \n",
       "4            0.0     1987           0.0    98074  47.6168 -122.045   \n",
       "5         1530.0     2001           0.0    98053  47.6561 -122.005   \n",
       "8          730.0     1960           0.0    98146  47.5123 -122.337   \n",
       "\n",
       "   sqft_living15  sqft_lot15  \n",
       "1           1690        7639  \n",
       "3           1360        5000  \n",
       "4           1800        7503  \n",
       "5           4760      101930  \n",
       "8           1780        8113  \n",
       "\n",
       "[5 rows x 21 columns]"
      ]
     },
     "execution_count": 12,
     "metadata": {},
     "output_type": "execute_result"
    }
   ],
   "source": [
    "df.head()"
   ]
  },
  {
   "cell_type": "markdown",
   "metadata": {},
   "source": [
    "We will convert the columns \"yr_built,\" \"yr_renovated,\" and \"date\" to datetime objects to facilitate our analysis."
   ]
  },
  {
   "cell_type": "code",
   "execution_count": 13,
   "metadata": {},
   "outputs": [],
   "source": [
    "df['yr_built'] = pd.to_datetime(df['yr_built'])"
   ]
  },
  {
   "cell_type": "code",
   "execution_count": 14,
   "metadata": {},
   "outputs": [],
   "source": [
    "df['yr_renovated'] = pd.to_datetime(df['yr_renovated'])"
   ]
  },
  {
   "cell_type": "code",
   "execution_count": 15,
   "metadata": {},
   "outputs": [],
   "source": [
    "df['date'] = pd.to_datetime(df['date'])"
   ]
  },
  {
   "cell_type": "markdown",
   "metadata": {},
   "source": [
    "#### With our clean dataset in hand, let's dive into the analysis!"
   ]
  },
  {
   "cell_type": "markdown",
   "metadata": {},
   "source": [
    "To assist RASB investors in making informed decisions regarding their investments, we will employ multiple linear regression analysis. This approach will allow us to build a predictive model for house prices in King County, aiding investors in their decision-making process."
   ]
  },
  {
   "cell_type": "markdown",
   "metadata": {},
   "source": [
    "Our dependent variable for this analysis will be the sale prices. To gain insights into the relationship between sale prices and other variables, we will examine the correlation among these factors."
   ]
  },
  {
   "cell_type": "code",
   "execution_count": 16,
   "metadata": {},
   "outputs": [
    {
     "data": {
      "text/plain": [
       "id              -0.014954\n",
       "price            1.000000\n",
       "bedrooms         0.305792\n",
       "bathrooms        0.525655\n",
       "sqft_living      0.706498\n",
       "sqft_lot         0.084687\n",
       "floors           0.260143\n",
       "sqft_above       0.612374\n",
       "zipcode         -0.049371\n",
       "lat              0.306991\n",
       "long             0.021948\n",
       "sqft_living15    0.583400\n",
       "sqft_lot15       0.080569\n",
       "Name: price, dtype: float64"
      ]
     },
     "execution_count": 16,
     "metadata": {},
     "output_type": "execute_result"
    }
   ],
   "source": [
    "# correlation between sales price and other variables\n",
    "df.corr()[\"price\"]"
   ]
  },
  {
   "cell_type": "markdown",
   "metadata": {},
   "source": [
    "Attributes like \"sqft_living,\" \"bathrooms,\" and \"sqft_above\" exhibit strong positive correlations with sale prices, suggesting that larger living spaces and more bathrooms tend to command higher prices. Conversely, \"zipcode\" shows a negative correlation, indicating that certain areas may influence prices negatively. \n",
    "\n",
    "We will begin by creating a model using the variable that exhibits the highest correlation with sale prices, which is \"sqft_living.\" This approach allows us to explore how changes in the square footage of the living space impact house prices in King County."
   ]
  },
  {
   "cell_type": "code",
   "execution_count": 17,
   "metadata": {},
   "outputs": [
    {
     "data": {
      "image/png": "[encoded data removed]",
      "text/plain": [
       "<Figure size 432x288 with 1 Axes>"
      ]
     },
     "metadata": {
      "needs_background": "light"
     },
     "output_type": "display_data"
    }
   ],
   "source": [
    "# visualize sale price and sqft_living\n",
    "plt.scatter(df.price,df.sqft_living)\n",
    "plt.xlabel(\"sqft_living\")\n",
    "plt.ylabel(\"price\")\n",
    "plt.title(\"sqft_living vs price\")\n",
    "plt.show()"
   ]
  },
  {
   "cell_type": "markdown",
   "metadata": {},
   "source": [
    "The visual representation clearly demonstrates a linear relationship between house prices and the square footage of living space (sqft_living)."
   ]
  },
  {
   "cell_type": "markdown",
   "metadata": {},
   "source": [
    "#### Model building - 1"
   ]
  },
  {
   "cell_type": "code",
   "execution_count": 18,
   "metadata": {},
   "outputs": [],
   "source": [
    "# Select the independent variable and dependent variable\n",
    "X = df['sqft_living']  # Feature (square footage of living area)\n",
    "y = df['price']           # Target (property price)"
   ]
  },
  {
   "cell_type": "code",
   "execution_count": 19,
   "metadata": {},
   "outputs": [],
   "source": [
    "# Add a constant (intercept) term to the independent variable\n",
    "model = sm.OLS(y, sm.add_constant(X))"
   ]
  },
  {
   "cell_type": "code",
   "execution_count": 20,
   "metadata": {},
   "outputs": [],
   "source": [
    "# fit the model\n",
    "results = model.fit()"
   ]
  },
  {
   "cell_type": "markdown",
   "metadata": {},
   "source": [
    "#### Model Summary"
   ]
  },
  {
   "cell_type": "code",
   "execution_count": 21,
   "metadata": {},
   "outputs": [
    {
     "name": "stdout",
     "output_type": "stream",
     "text": [
      "                            OLS Regression Results                            \n",
      "==============================================================================\n",
      "Dep. Variable:                  price   R-squared:                       0.499\n",
      "Model:                            OLS   Adj. R-squared:                  0.499\n",
      "Method:                 Least Squares   F-statistic:                 1.537e+04\n",
      "Date:                Mon, 11 Sep 2023   Prob (F-statistic):               0.00\n",
      "Time:                        05:52:56   Log-Likelihood:            -2.1450e+05\n",
      "No. Observations:               15429   AIC:                         4.290e+05\n",
      "Df Residuals:                   15427   BIC:                         4.290e+05\n",
      "Df Model:                           1                                         \n",
      "Covariance Type:            nonrobust                                         \n",
      "===============================================================================\n",
      "                  coef    std err          t      P>|t|      [0.025      0.975]\n",
      "-------------------------------------------------------------------------------\n",
      "const        -5.62e+04   5268.236    -10.668      0.000   -6.65e+04   -4.59e+04\n",
      "sqft_living   286.5963      2.311    123.992      0.000     282.066     291.127\n",
      "==============================================================================\n",
      "Omnibus:                    10920.696   Durbin-Watson:                   1.975\n",
      "Prob(Omnibus):                  0.000   Jarque-Bera (JB):           451159.757\n",
      "Skew:                           2.916   Prob(JB):                         0.00\n",
      "Kurtosis:                      28.841   Cond. No.                     5.65e+03\n",
      "==============================================================================\n",
      "\n",
      "Notes:\n",
      "[1] Standard Errors assume that the covariance matrix of the errors is correctly specified.\n",
      "[2] The condition number is large, 5.65e+03. This might indicate that there are\n",
      "strong multicollinearity or other numerical problems.\n"
     ]
    }
   ],
   "source": [
    "# Print the summary of the regression model\n",
    "print(results.summary())"
   ]
  },
  {
   "cell_type": "markdown",
   "metadata": {},
   "source": [
    "#### Model Interpretation"
   ]
  },
  {
   "cell_type": "markdown",
   "metadata": {},
   "source": [
    "The model equation, **price = 286.1494 * sqft_living  - 55,160.0**, indicates that for every unit increase in square footage of living space (X), the house price (y) is expected to increase by 286.1494 dollars. The intercept value of -55,160.0 suggests that when there is no square footage of living space in the home (X = 0), the estimated price of the house is -55,160.0 dollars.\n",
    "\n",
    "Statistically, the model is highly significant, as evidenced by the F-statistic's p-value, which is well below the conventional significance level of 0.05. Additionally, the coefficients of the model are individually significant, with t-statistic p-values also comfortably below the 0.05 threshold.\n",
    "\n",
    "The model successfully explains approximately 49.9% of the variance in house prices, indicating a moderate level of predictive power. This means that nearly half of the price variation can be accounted for by the square footage of living space, while other factors may contribute to the remaining variability."
   ]
  },
  {
   "cell_type": "markdown",
   "metadata": {},
   "source": [
    "#### Visualization"
   ]
  },
  {
   "cell_type": "code",
   "execution_count": 22,
   "metadata": {
    "scrolled": true
   },
   "outputs": [
    {
     "data": {
      "image/png": "[encoded data removed]",
      "text/plain": [
       "<Figure size 432x288 with 1 Axes>"
      ]
     },
     "metadata": {
      "needs_background": "light"
     },
     "output_type": "display_data"
    }
   ],
   "source": [
    "# visualization - fitted model\n",
    "sm.graphics.plot_fit(results, \"sqft_living\")\n",
    "plt.show()"
   ]
  },
  {
   "cell_type": "code",
   "execution_count": 23,
   "metadata": {},
   "outputs": [
    {
     "data": {
      "image/png": "[encoded data removed]",
      "text/plain": [
       "<Figure size 432x288 with 1 Axes>"
      ]
     },
     "metadata": {
      "needs_background": "light"
     },
     "output_type": "display_data"
    }
   ],
   "source": [
    "# visualization - regression line\n",
    "fig, ax = plt.subplots()\n",
    "df.plot.scatter(x=\"sqft_living\", y=\"price\", label=\"Data points\", ax=ax)\n",
    "sm.graphics.abline_plot(model_results = results, label=\"Regression line\", ax=ax, color=\"black\")\n",
    "ax.legend();"
   ]
  },
  {
   "cell_type": "code",
   "execution_count": 24,
   "metadata": {
    "scrolled": true
   },
   "outputs": [
    {
     "data": {
      "image/png": "[encoded data removed]",
      "text/plain": [
       "<Figure size 432x288 with 1 Axes>"
      ]
     },
     "metadata": {
      "needs_background": "light"
     },
     "output_type": "display_data"
    }
   ],
   "source": [
    "# visualization - residuals\n",
    "fig, ax = plt.subplots()\n",
    "\n",
    "ax.scatter(df[\"price\"], results.resid)\n",
    "ax.axhline(y=0, color=\"black\")\n",
    "ax.set_xlabel(\"sqft_living\")\n",
    "ax.set_ylabel(\"residuals\");"
   ]
  },
  {
   "cell_type": "markdown",
   "metadata": {},
   "source": [
    "#### Model prediction"
   ]
  },
  {
   "cell_type": "code",
   "execution_count": 25,
   "metadata": {},
   "outputs": [
    {
     "data": {
      "text/plain": [
       "1        6.803490e+05\n",
       "3        5.055252e+05\n",
       "4        4.252782e+05\n",
       "5        1.497148e+06\n",
       "8        4.539379e+05\n",
       "             ...     \n",
       "21591    3.192376e+05\n",
       "21592    3.822888e+05\n",
       "21593    6.058339e+05\n",
       "21594    2.361247e+05\n",
       "21596    2.361247e+05\n",
       "Length: 15429, dtype: float64"
      ]
     },
     "execution_count": 25,
     "metadata": {},
     "output_type": "execute_result"
    }
   ],
   "source": [
    "y1_predicted = results.predict(sm.add_constant(X))\n",
    "y1_predicted"
   ]
  },
  {
   "cell_type": "markdown",
   "metadata": {},
   "source": [
    "#### Model evaluation"
   ]
  },
  {
   "cell_type": "code",
   "execution_count": 26,
   "metadata": {},
   "outputs": [
    {
     "name": "stdout",
     "output_type": "stream",
     "text": [
      "Mean Absolute Error(MAE): 174878.71582154534\n",
      "Mean Squared Error(MSE): 69687826856.01277\n",
      "Root Mean Squared Error(RMSE): 263984.52010679105\n"
     ]
    }
   ],
   "source": [
    "# calculate Mean Absolute Error\n",
    "mae_1 = mean_absolute_error(y,y1_predicted)\n",
    "\n",
    "# calculate Mean Squared Error\n",
    "mse_1 = mean_squared_error(y,y1_predicted)\n",
    "\n",
    "#calculate Root Mean Squared Error\n",
    "rmse_1 = mean_squared_error(y,y1_predicted,squared = False)\n",
    "\n",
    "print(\"Mean Absolute Error(MAE):\",mae_1)\n",
    "print(\"Mean Squared Error(MSE):\",mse_1)\n",
    "print(\"Root Mean Squared Error(RMSE):\",rmse_1)"
   ]
  },
  {
   "cell_type": "markdown",
   "metadata": {},
   "source": [
    "The MAE of approximately $174,670 indicates that, on average, the model's predictions are off by this amount when estimating housing prices. \n",
    "\n",
    "The MSE, which is approximately $69,451,304,397 indicates the average squared difference between the model's predictions and the actual prices. \n",
    "\n",
    "The RMSE of approximately $263,536 is the square root of the MSE and represents the average error in the same units as the target variable (price)"
   ]
  },
  {
   "cell_type": "markdown",
   "metadata": {},
   "source": [
    "#### Model building - 2"
   ]
  },
  {
   "cell_type": "markdown",
   "metadata": {},
   "source": [
    "We improved our model by adding more information to it. Specifically, we included three new factors: \"sqft_above,\" \"sqft_living15,\" and \"bathrooms.\" This helps us better understand how these factors affect our model's accuracy, making our predictions more precise."
   ]
  },
  {
   "cell_type": "code",
   "execution_count": 27,
   "metadata": {},
   "outputs": [],
   "source": [
    "# add another independent variable\n",
    "X_second = df[[\"sqft_living\", \"sqft_above\",\"bathrooms\",\"sqft_living15\"]]"
   ]
  },
  {
   "cell_type": "code",
   "execution_count": 28,
   "metadata": {},
   "outputs": [],
   "source": [
    "# add a constant (intercept) term to the independent variable\n",
    "second_model = sm.OLS(y, sm.add_constant(X_second))"
   ]
  },
  {
   "cell_type": "code",
   "execution_count": 29,
   "metadata": {},
   "outputs": [],
   "source": [
    "# fit the model\n",
    "second_results = second_model.fit()"
   ]
  },
  {
   "cell_type": "markdown",
   "metadata": {},
   "source": [
    "#### Model Summary"
   ]
  },
  {
   "cell_type": "code",
   "execution_count": 30,
   "metadata": {
    "scrolled": true
   },
   "outputs": [
    {
     "name": "stdout",
     "output_type": "stream",
     "text": [
      "                            OLS Regression Results                            \n",
      "==============================================================================\n",
      "Dep. Variable:                  price   R-squared:                       0.506\n",
      "Model:                            OLS   Adj. R-squared:                  0.506\n",
      "Method:                 Least Squares   F-statistic:                     3946.\n",
      "Date:                Mon, 11 Sep 2023   Prob (F-statistic):               0.00\n",
      "Time:                        05:52:58   Log-Likelihood:            -2.1440e+05\n",
      "No. Observations:               15429   AIC:                         4.288e+05\n",
      "Df Residuals:                   15424   BIC:                         4.288e+05\n",
      "Df Model:                           4                                         \n",
      "Covariance Type:            nonrobust                                         \n",
      "=================================================================================\n",
      "                    coef    std err          t      P>|t|      [0.025      0.975]\n",
      "---------------------------------------------------------------------------------\n",
      "const          -1.03e+05   7339.213    -14.030      0.000   -1.17e+05   -8.86e+04\n",
      "sqft_living     274.9405      5.602     49.078      0.000     263.960     285.921\n",
      "sqft_above      -29.4188      5.439     -5.408      0.000     -40.081     -18.757\n",
      "bathrooms     -5366.4274   4199.296     -1.278      0.201   -1.36e+04    2864.688\n",
      "sqft_living15    67.9235      4.835     14.048      0.000      58.446      77.401\n",
      "==============================================================================\n",
      "Omnibus:                    11491.002   Durbin-Watson:                   1.976\n",
      "Prob(Omnibus):                  0.000   Jarque-Bera (JB):           570493.957\n",
      "Skew:                           3.091   Prob(JB):                         0.00\n",
      "Kurtosis:                      32.141   Cond. No.                     1.32e+04\n",
      "==============================================================================\n",
      "\n",
      "Notes:\n",
      "[1] Standard Errors assume that the covariance matrix of the errors is correctly specified.\n",
      "[2] The condition number is large, 1.32e+04. This might indicate that there are\n",
      "strong multicollinearity or other numerical problems.\n"
     ]
    }
   ],
   "source": [
    "# summary of the model\n",
    "print(second_results.summary())"
   ]
  },
  {
   "cell_type": "markdown",
   "metadata": {},
   "source": [
    "#### Model Interpretation"
   ]
  },
  {
   "cell_type": "markdown",
   "metadata": {},
   "source": [
    "In this updated multiple linear regression model, we've refined our understanding of the factors influencing housing prices. The equation for predicting housing prices now stands as follows:\n",
    "\n",
    "**Price = -100,600 + 274.9959 * sqft_living - 28.8034 * sqft_above - 5,006.9916 * bathrooms + 65.7677 * sqft_living15**\n",
    "\n",
    "Now, let's explore the key insights from this model:\n",
    "\n",
    "**Overall Model Significance:**\n",
    "The model as a whole demonstrates statistical significance, as indicated by the F-statistic's p-value being well below the conventional significance threshold of 0.05. This suggests that at least one of the independent variables has a significant impact on housing prices.\n",
    "\n",
    "**Explained Variance:**\n",
    "Our model accounts for approximately 50.5% of the variance in housing prices. This represents a slight improvement compared to the baseline model, indicating that we've captured a bit more of the variability in prices.\n",
    "\n",
    "**Statistical Significance of Coefficients:**\n",
    "\n",
    "- **sqft_living:** The coefficient for square footage of living space (sqft_living) is statistically significant, with a t-statistic p-value of 0.000. This indicates that square footage has a meaningful and significant impact on determining housing prices.\n",
    "\n",
    "- **sqft_above:** The coefficient for the square footage of the area above ground (sqft_above) is also statistically significant (p-value < 0.05). It suggests that the square footage above ground is a meaningful contributor to housing price variations.\n",
    "\n",
    "- **bathrooms:** The coefficient for the number of bathrooms (bathrooms) does not achieve statistical significance, as its associated p-value exceeds the 0.05 threshold. This suggests that, in this particular model, the number of bathrooms may not be a statistically significant contributor to housing price variations.\n",
    "\n",
    "- **sqft_living15:** The coefficient for square footage of living space in 2015 (sqft_living15) is statistically significant (p-value < 0.05). This indicates that the square footage of living space in 2015 also plays a meaningful role in determining housing prices.\n",
    "\n",
    "**Adjusted R-squared Improvement:**\n",
    "The adjusted R-squared value has increased compared to the baseline model. This is an encouraging sign, indicating that the inclusion of bathrooms, square footage above ground, and square footage of living space in 2015 in our model has contributed to a more meaningful explanation of the relationship between square footage of living space (sqft_living) and housing prices.\n",
    "\n",
    "In summary, we've refined our model to better explain housing price variations. While square footage of living space (sqft_living) and the square footage above ground (sqft_above) continue to have significant impacts, the number of bathrooms (bathrooms) may not be a statistically significant contributor in this particular model. Additionally, square footage of living space in 2015 (sqft_living15) is also a significant factor. This enhanced model provides a more nuanced understanding of how these variables collectively influence housing prices."
   ]
  },
  {
   "cell_type": "markdown",
   "metadata": {},
   "source": [
    "Based on this model, our recommendations to RASB-berry Property Investors  would be:\n",
    "\n",
    "1. **Focus on Square Footage:** Invest in properties with more square footage (sqft_living) as it significantly impacts prices positively.\n",
    "\n",
    "2. **Consider Above-Ground Area:** Properties with larger above-ground areas (sqft_above) also tend to have higher prices, so factor this into your investment decisions.\n",
    "\n",
    "3. **Be Cautious with Bathrooms:** The number of bathrooms (bathrooms) doesn't strongly affect prices in this model, so don't prioritize it too much.\n",
    "\n",
    "4. **Pay Attention to 2015 Living Space:** Square footage of living space in 2015 (sqft_living15) is a significant contributor to housing prices, so consider properties with larger living spaces.\n",
    "\n",
    "5. **Diversify:** Spread your investments across different property types and neighborhoods to reduce risk.\n",
    "\n",
    "6. **Stay Informed:** Keep up with local market trends, economic conditions, and regulations to make informed investment choices."
   ]
  },
  {
   "cell_type": "markdown",
   "metadata": {},
   "source": [
    "#### Visualization"
   ]
  },
  {
   "cell_type": "code",
   "execution_count": 31,
   "metadata": {
    "scrolled": true
   },
   "outputs": [
    {
     "data": {
      "image/png": "[encoded data removed]",
      "text/plain": [
       "<Figure size 1080x576 with 4 Axes>"
      ]
     },
     "metadata": {
      "needs_background": "light"
     },
     "output_type": "display_data"
    }
   ],
   "source": [
    "# visualization - bathrooms\n",
    "fig = plt.figure(figsize=(15,8))\n",
    "sm.graphics.plot_regress_exog(second_results,\"bathrooms\",fig = fig)\n",
    "plt.show()"
   ]
  },
  {
   "cell_type": "code",
   "execution_count": 32,
   "metadata": {},
   "outputs": [
    {
     "data": {
      "image/png": "[encoded data removed]",
      "text/plain": [
       "<Figure size 1080x576 with 4 Axes>"
      ]
     },
     "metadata": {
      "needs_background": "light"
     },
     "output_type": "display_data"
    }
   ],
   "source": [
    "# visualization - sqft_living15\n",
    "fig = plt.figure(figsize=(15,8))\n",
    "sm.graphics.plot_regress_exog(second_results,\"sqft_living15\",fig = fig)\n",
    "plt.show()"
   ]
  },
  {
   "cell_type": "code",
   "execution_count": 33,
   "metadata": {
    "scrolled": false
   },
   "outputs": [
    {
     "data": {
      "image/png": "[encoded data removed]",
      "text/plain": [
       "<Figure size 1080x576 with 4 Axes>"
      ]
     },
     "metadata": {
      "needs_background": "light"
     },
     "output_type": "display_data"
    }
   ],
   "source": [
    "# visualization - sqft_above\n",
    "fig = plt.figure(figsize=(15,8))\n",
    "sm.graphics.plot_regress_exog(second_results,\"sqft_above\",fig = fig)\n",
    "plt.show()"
   ]
  },
  {
   "cell_type": "markdown",
   "metadata": {},
   "source": [
    "#### Model Prediction"
   ]
  },
  {
   "cell_type": "code",
   "execution_count": 34,
   "metadata": {},
   "outputs": [
    {
     "data": {
      "text/plain": [
       "1        6.425022e+05\n",
       "3        4.812980e+05\n",
       "4        4.210336e+05\n",
       "5        1.571933e+06\n",
       "8        4.710694e+05\n",
       "             ...     \n",
       "21591    2.994077e+05\n",
       "21592    3.631828e+05\n",
       "21593    5.750667e+05\n",
       "21594    2.127170e+05\n",
       "21596    2.127170e+05\n",
       "Length: 15429, dtype: float64"
      ]
     },
     "execution_count": 34,
     "metadata": {},
     "output_type": "execute_result"
    }
   ],
   "source": [
    "y2_predicted = second_results.predict(sm.add_constant(X_second))\n",
    "y2_predicted"
   ]
  },
  {
   "cell_type": "markdown",
   "metadata": {},
   "source": [
    "#### Model Evaluation"
   ]
  },
  {
   "cell_type": "code",
   "execution_count": 35,
   "metadata": {
    "scrolled": true
   },
   "outputs": [
    {
     "name": "stdout",
     "output_type": "stream",
     "text": [
      "Mean Absolute Error(MAE): 173516.50453540296\n",
      "Mean Squared Error(MSE): 68769350180.9709\n",
      "Root Mean Squared Error(RMSE): 262239.10879380844\n"
     ]
    }
   ],
   "source": [
    "# calculate Mean Absolute Error\n",
    "mae_2 = mean_absolute_error(y,y2_predicted)\n",
    "\n",
    "# calculate Mean Squared Error\n",
    "mse_2 = mean_squared_error(y,y2_predicted)\n",
    "\n",
    "#calculate Root Mean Squared Error\n",
    "rmse_2 = mean_squared_error(y,y2_predicted,squared = False)\n",
    "\n",
    "print(\"Mean Absolute Error(MAE):\",mae_2)\n",
    "print(\"Mean Squared Error(MSE):\",mse_2)\n",
    "print(\"Root Mean Squared Error(RMSE):\",rmse_2)"
   ]
  },
  {
   "cell_type": "markdown",
   "metadata": {},
   "source": [
    "The MAE of approximately $173,373 indicates that, on average, the model's predictions are off by this amount when estimating housing prices. \n",
    "\n",
    "The MSE, which is approximately $68,591,934,645, indicates the average squared difference between the model's predictions and the actual prices. \n",
    "\n",
    "The RMSE of approximately $261,901 is the square root of the MSE and represents the average error in the same units as the target variable (price)"
   ]
  },
  {
   "cell_type": "markdown",
   "metadata": {},
   "source": [
    "In our next analysis,We aim to investigate the influence of categorical features, specifically \"waterfront,\" \"view,\" \"condition,\" and \"grade,\" on the pricing of properties.  "
   ]
  },
  {
   "cell_type": "markdown",
   "metadata": {},
   "source": [
    "#### Model building - 3"
   ]
  },
  {
   "cell_type": "code",
   "execution_count": 36,
   "metadata": {},
   "outputs": [
    {
     "data": {
      "text/html": [
       "<div>\n",
       "<style scoped>\n",
       "    .dataframe tbody tr th:only-of-type {\n",
       "        vertical-align: middle;\n",
       "    }\n",
       "\n",
       "    .dataframe tbody tr th {\n",
       "        vertical-align: top;\n",
       "    }\n",
       "\n",
       "    .dataframe thead th {\n",
       "        text-align: right;\n",
       "    }\n",
       "</style>\n",
       "<table border=\"1\" class=\"dataframe\">\n",
       "  <thead>\n",
       "    <tr style=\"text-align: right;\">\n",
       "      <th></th>\n",
       "      <th>waterfront</th>\n",
       "      <th>view</th>\n",
       "      <th>condition</th>\n",
       "      <th>grade</th>\n",
       "      <th>price</th>\n",
       "    </tr>\n",
       "  </thead>\n",
       "  <tbody>\n",
       "    <tr>\n",
       "      <th>1</th>\n",
       "      <td>NO</td>\n",
       "      <td>NONE</td>\n",
       "      <td>Average</td>\n",
       "      <td>7 Average</td>\n",
       "      <td>538000.0</td>\n",
       "    </tr>\n",
       "    <tr>\n",
       "      <th>3</th>\n",
       "      <td>NO</td>\n",
       "      <td>NONE</td>\n",
       "      <td>Very Good</td>\n",
       "      <td>7 Average</td>\n",
       "      <td>604000.0</td>\n",
       "    </tr>\n",
       "    <tr>\n",
       "      <th>4</th>\n",
       "      <td>NO</td>\n",
       "      <td>NONE</td>\n",
       "      <td>Average</td>\n",
       "      <td>8 Good</td>\n",
       "      <td>510000.0</td>\n",
       "    </tr>\n",
       "    <tr>\n",
       "      <th>5</th>\n",
       "      <td>NO</td>\n",
       "      <td>NONE</td>\n",
       "      <td>Average</td>\n",
       "      <td>11 Excellent</td>\n",
       "      <td>1230000.0</td>\n",
       "    </tr>\n",
       "    <tr>\n",
       "      <th>8</th>\n",
       "      <td>NO</td>\n",
       "      <td>NONE</td>\n",
       "      <td>Average</td>\n",
       "      <td>7 Average</td>\n",
       "      <td>229500.0</td>\n",
       "    </tr>\n",
       "    <tr>\n",
       "      <th>...</th>\n",
       "      <td>...</td>\n",
       "      <td>...</td>\n",
       "      <td>...</td>\n",
       "      <td>...</td>\n",
       "      <td>...</td>\n",
       "    </tr>\n",
       "    <tr>\n",
       "      <th>21591</th>\n",
       "      <td>NO</td>\n",
       "      <td>NONE</td>\n",
       "      <td>Average</td>\n",
       "      <td>8 Good</td>\n",
       "      <td>475000.0</td>\n",
       "    </tr>\n",
       "    <tr>\n",
       "      <th>21592</th>\n",
       "      <td>NO</td>\n",
       "      <td>NONE</td>\n",
       "      <td>Average</td>\n",
       "      <td>8 Good</td>\n",
       "      <td>360000.0</td>\n",
       "    </tr>\n",
       "    <tr>\n",
       "      <th>21593</th>\n",
       "      <td>NO</td>\n",
       "      <td>NONE</td>\n",
       "      <td>Average</td>\n",
       "      <td>8 Good</td>\n",
       "      <td>400000.0</td>\n",
       "    </tr>\n",
       "    <tr>\n",
       "      <th>21594</th>\n",
       "      <td>NO</td>\n",
       "      <td>NONE</td>\n",
       "      <td>Average</td>\n",
       "      <td>7 Average</td>\n",
       "      <td>402101.0</td>\n",
       "    </tr>\n",
       "    <tr>\n",
       "      <th>21596</th>\n",
       "      <td>NO</td>\n",
       "      <td>NONE</td>\n",
       "      <td>Average</td>\n",
       "      <td>7 Average</td>\n",
       "      <td>325000.0</td>\n",
       "    </tr>\n",
       "  </tbody>\n",
       "</table>\n",
       "<p>15429 rows × 5 columns</p>\n",
       "</div>"
      ],
      "text/plain": [
       "      waterfront  view  condition         grade      price\n",
       "1             NO  NONE    Average     7 Average   538000.0\n",
       "3             NO  NONE  Very Good     7 Average   604000.0\n",
       "4             NO  NONE    Average        8 Good   510000.0\n",
       "5             NO  NONE    Average  11 Excellent  1230000.0\n",
       "8             NO  NONE    Average     7 Average   229500.0\n",
       "...          ...   ...        ...           ...        ...\n",
       "21591         NO  NONE    Average        8 Good   475000.0\n",
       "21592         NO  NONE    Average        8 Good   360000.0\n",
       "21593         NO  NONE    Average        8 Good   400000.0\n",
       "21594         NO  NONE    Average     7 Average   402101.0\n",
       "21596         NO  NONE    Average     7 Average   325000.0\n",
       "\n",
       "[15429 rows x 5 columns]"
      ]
     },
     "execution_count": 36,
     "metadata": {},
     "output_type": "execute_result"
    }
   ],
   "source": [
    "# load data \n",
    "new_df = df[[\"waterfront\", \"view\", \"condition\", \"grade\",\"price\"]]\n",
    "new_df"
   ]
  },
  {
   "cell_type": "code",
   "execution_count": 37,
   "metadata": {},
   "outputs": [],
   "source": [
    "# Perform one-hot encoding for categorical variables\n",
    "new_df_encoded = pd.get_dummies(new_df, columns=[\"waterfront\", \"view\", \"condition\", \"grade\"], drop_first=True)\n",
    "\n",
    "# Define the independent variables (X) and the dependent variable (y)\n",
    "X = new_df_encoded.drop(columns=[\"price\"])  # Independent variables\n",
    "y = new_df_encoded[\"price\"]  # Dependent variable"
   ]
  },
  {
   "cell_type": "code",
   "execution_count": 38,
   "metadata": {},
   "outputs": [],
   "source": [
    "# Add a constant (intercept) to the independent variables\n",
    "X = sm.add_constant(X)"
   ]
  },
  {
   "cell_type": "code",
   "execution_count": 39,
   "metadata": {},
   "outputs": [],
   "source": [
    "# Fit the multiple regression model\n",
    "model = sm.OLS(y, X).fit()"
   ]
  },
  {
   "cell_type": "markdown",
   "metadata": {},
   "source": [
    "#### Model Summary"
   ]
  },
  {
   "cell_type": "code",
   "execution_count": 40,
   "metadata": {
    "scrolled": true
   },
   "outputs": [
    {
     "name": "stdout",
     "output_type": "stream",
     "text": [
      "                            OLS Regression Results                            \n",
      "==============================================================================\n",
      "Dep. Variable:                  price   R-squared:                       0.593\n",
      "Model:                            OLS   Adj. R-squared:                  0.593\n",
      "Method:                 Least Squares   F-statistic:                     1182.\n",
      "Date:                Mon, 11 Sep 2023   Prob (F-statistic):               0.00\n",
      "Time:                        05:53:03   Log-Likelihood:            -2.1290e+05\n",
      "No. Observations:               15429   AIC:                         4.258e+05\n",
      "Df Residuals:                   15409   BIC:                         4.260e+05\n",
      "Df Model:                          19                                         \n",
      "Covariance Type:            nonrobust                                         \n",
      "=======================================================================================\n",
      "                          coef    std err          t      P>|t|      [0.025      0.975]\n",
      "---------------------------------------------------------------------------------------\n",
      "const                1.128e+06   1.21e+04     92.967      0.000     1.1e+06    1.15e+06\n",
      "waterfront_YES       5.873e+05   2.77e+04     21.173      0.000    5.33e+05    6.42e+05\n",
      "view_EXCELLENT        2.07e+05   2.15e+04      9.642      0.000    1.65e+05    2.49e+05\n",
      "view_FAIR            7.546e+04   1.79e+04      4.219      0.000    4.04e+04    1.11e+05\n",
      "view_GOOD            8.154e+04   1.59e+04      5.123      0.000    5.03e+04    1.13e+05\n",
      "view_NONE           -1.282e+05   9571.430    -13.399      0.000   -1.47e+05   -1.09e+05\n",
      "condition_Fair      -8163.0818   2.15e+04     -0.380      0.704   -5.03e+04    3.39e+04\n",
      "condition_Good       5.242e+04   4520.559     11.597      0.000    4.36e+04    6.13e+04\n",
      "condition_Poor       6.354e+04   5.66e+04      1.122      0.262   -4.74e+04    1.75e+05\n",
      "condition_Very Good  1.517e+05   7273.585     20.857      0.000    1.37e+05    1.66e+05\n",
      "grade_11 Excellent   3.516e+05   1.64e+04     21.445      0.000    3.19e+05    3.84e+05\n",
      "grade_12 Luxury      1.052e+06   3.06e+04     34.362      0.000    9.92e+05    1.11e+06\n",
      "grade_13 Mansion     2.473e+06   7.24e+04     34.170      0.000    2.33e+06    2.62e+06\n",
      "grade_3 Poor         -8.89e+05   2.38e+05     -3.730      0.000   -1.36e+06   -4.22e+05\n",
      "grade_4 Low         -8.262e+05   6.04e+04    -13.682      0.000   -9.45e+05   -7.08e+05\n",
      "grade_5 Fair        -8.184e+05   2.08e+04    -39.410      0.000   -8.59e+05   -7.78e+05\n",
      "grade_6 Low Average -7.435e+05   1.06e+04    -70.019      0.000   -7.64e+05   -7.23e+05\n",
      "grade_7 Average     -6.382e+05   9027.861    -70.695      0.000   -6.56e+05   -6.21e+05\n",
      "grade_8 Good        -5.002e+05   9164.826    -54.583      0.000   -5.18e+05   -4.82e+05\n",
      "grade_9 Better      -2.812e+05      1e+04    -28.099      0.000   -3.01e+05   -2.62e+05\n",
      "==============================================================================\n",
      "Omnibus:                    10736.092   Durbin-Watson:                   1.975\n",
      "Prob(Omnibus):                  0.000   Jarque-Bera (JB):           623014.866\n",
      "Skew:                           2.722   Prob(JB):                         0.00\n",
      "Kurtosis:                      33.651   Cond. No.                         185.\n",
      "==============================================================================\n",
      "\n",
      "Notes:\n",
      "[1] Standard Errors assume that the covariance matrix of the errors is correctly specified.\n"
     ]
    }
   ],
   "source": [
    "# Print model summary\n",
    "print(model.summary())"
   ]
  },
  {
   "cell_type": "markdown",
   "metadata": {},
   "source": [
    "#### Model Interpretation"
   ]
  },
  {
   "cell_type": "markdown",
   "metadata": {},
   "source": [
    "In this multiple regression model, we have examined how various categorical variables impact housing prices. Here are the key takeaways:\n",
    "\n",
    "1. Overall Model Significance: The model as a whole is statistically significant, indicated by the low p-value of the F-statistic (p < 0.001). This suggests that at least one of the independent variables has a significant impact on housing prices.\n",
    "\n",
    "2. Explained Variance: Our model explains approximately 59.2% of the variance in housing prices. This indicates a strong ability to capture and explain the variability in prices compared to our baseline model and model 2.\n",
    "\n",
    "3. Significance of Categorical Variables: Several categorical variables, such as waterfront, view, condition, and grade, have a significant impact on housing prices. Notably, properties with waterfront views command substantially higher prices.\n",
    "\n",
    "4. Limited Impact of Some Conditions: The \"condition\" variable, particularly the \"Fair\" and \"Poor\" conditions, does not have a statistically significant impact on prices in this model.\n",
    "\n",
    "5. Luxury and Mansion Grades: Properties classified as \"Luxury\" and \"Mansion\" grades significantly increase housing prices, indicating that higher-grade properties are valued more.\n",
    "\n",
    "6. Lower Grades: Conversely, lower-grade properties such as \"Poor,\" \"Low,\" and \"Fair\" have a substantial negative impact on prices.\n",
    "\n",
    "In summary, this model provides insights into how various categorical variables influence housing prices. It emphasizes the importance of factors like waterfront views and higher property grades, while also highlighting the negative impact of lower-grade properties. Understanding these variables can assist in making more informed real estate investment decisions."
   ]
  },
  {
   "cell_type": "markdown",
   "metadata": {},
   "source": [
    "Based on this model, here are our recommendations to RASB-berry Property Investors:\n",
    "\n",
    "1. **Prioritize Waterfront Properties:** Investing in properties with waterfront views can yield significantly higher returns, as indicated by the substantial price difference. Consider waterfront properties as a prime option.\n",
    "\n",
    "2. **Consider Property Grade:** Higher-grade properties, such as \"Luxury\" and \"Mansion,\" tend to command premium prices. These properties may provide excellent investment opportunities, but also consider your budget and risk tolerance.\n",
    "\n",
    "3. **Avoid Lower-Grade Properties:** Lower-grade properties, like \"Poor,\" \"Low,\" and \"Fair,\" negatively impact prices. Be cautious about investing in such properties unless there are compelling reasons to do so.\n",
    "\n",
    "4. **Evaluate Condition Carefully:** While \"condition\" doesn't show a strong overall influence on prices in this model, make sure to assess the condition of the properties you consider for investment. Well-maintained properties can offer better long-term prospects.\n",
    "\n",
    "5. **Diversify Your Portfolio:** To spread risk, diversify your investments across different property types, locations, and grades. This approach can help mitigate potential losses in case of market fluctuations.\n",
    "\n",
    "6. **Stay Informed:** Continuously monitor local market trends, economic conditions, and regulations. Staying informed will help you make timely and well-informed investment decisions."
   ]
  },
  {
   "cell_type": "markdown",
   "metadata": {},
   "source": [
    "#### Visualization "
   ]
  },
  {
   "cell_type": "code",
   "execution_count": 41,
   "metadata": {
    "scrolled": true
   },
   "outputs": [
    {
     "data": {
      "image/png": "[encoded data removed]",
      "text/plain": [
       "<Figure size 1080x720 with 20 Axes>"
      ]
     },
     "metadata": {
      "needs_background": "light"
     },
     "output_type": "display_data"
    }
   ],
   "source": [
    "fig = plt.figure(figsize=(15, 10))\n",
    "sm.graphics.plot_partregress_grid(\n",
    "    model,\n",
    "    exog_idx=list(X.columns),\n",
    "    grid=(5, 4), \n",
    "    fig=fig\n",
    ")\n",
    "plt.tight_layout()\n",
    "plt.show()"
   ]
  },
  {
   "cell_type": "markdown",
   "metadata": {},
   "source": [
    "#### Model prediction"
   ]
  },
  {
   "cell_type": "code",
   "execution_count": 42,
   "metadata": {},
   "outputs": [
    {
     "data": {
      "text/plain": [
       "1        3.610766e+05\n",
       "3        5.127783e+05\n",
       "4        4.990602e+05\n",
       "5        1.350931e+06\n",
       "8        3.610766e+05\n",
       "             ...     \n",
       "21591    4.990602e+05\n",
       "21592    4.990602e+05\n",
       "21593    4.990602e+05\n",
       "21594    3.610766e+05\n",
       "21596    3.610766e+05\n",
       "Length: 15429, dtype: float64"
      ]
     },
     "execution_count": 42,
     "metadata": {},
     "output_type": "execute_result"
    }
   ],
   "source": [
    "y3_predicted = model.predict(sm.add_constant(X))\n",
    "y3_predicted"
   ]
  },
  {
   "cell_type": "markdown",
   "metadata": {},
   "source": [
    "#### Model Evaluation"
   ]
  },
  {
   "cell_type": "code",
   "execution_count": 43,
   "metadata": {},
   "outputs": [
    {
     "name": "stdout",
     "output_type": "stream",
     "text": [
      "Mean Absolute Error(MAE): 154716.96207385775\n",
      "Mean Squared Error(MSE): 56623085014.94319\n",
      "Root Mean Squared Error(RMSE): 237956.05689904848\n"
     ]
    }
   ],
   "source": [
    "# calculate Mean Absolute Error\n",
    "mae_3 = mean_absolute_error(y,y3_predicted)\n",
    "\n",
    "# calculate Mean Squared Error\n",
    "mse_3 = mean_squared_error(y,y3_predicted)\n",
    "\n",
    "#calculate Root Mean Squared Error\n",
    "rmse_3 = mean_squared_error(y,y3_predicted,squared = False)\n",
    "\n",
    "print(\"Mean Absolute Error(MAE):\",mae_3)\n",
    "print(\"Mean Squared Error(MSE):\",mse_3)\n",
    "print(\"Root Mean Squared Error(RMSE):\",rmse_3)"
   ]
  },
  {
   "cell_type": "markdown",
   "metadata": {},
   "source": [
    "The MAE of approximately $154457.619 indicates that, on average, the model's predictions are off by this amount when estimating housing prices. \n",
    "\n",
    "The MSE, which is approximately  $56,477,486,763.58, , indicates the average squared difference between the model's predictions and the actual prices. \n",
    "\n",
    "The RMSE of approximately $237,649.92, is the square root of the MSE and represents the average error in the same units as the target variable (price)"
   ]
  },
  {
   "cell_type": "markdown",
   "metadata": {},
   "source": [
    "## Conclusion"
   ]
  },
  {
   "cell_type": "markdown",
   "metadata": {},
   "source": [
    "After a comprehensive evaluation of the three models we've developed, it's evident that the third model stands out as the most promising choice. This conclusion is primarily based on its significantly lower Mean Absolute Error (MAE), Mean Squared Error (MSE), and Root Mean Squared Error (RMSE) compared to the other two models.\n",
    "\n",
    "Notably, the MAE of the third model, when considered alongside the average housing price of approximately $541,317.18, is notably lower. This implies that, on average, the model's predictions deviate by a relatively smaller amount from the actual prices, showcasing its superior predictive accuracy.\n",
    "\n",
    "Therefore, given the compelling performance metrics, particularly the lower MAE concerning the average price, we recommend adopting the third model as the preferred choice for predicting housing prices. This model demonstrates a more accurate estimation of prices, which can be highly valuable for real estate investment decisions and related applications."
   ]
  },
  {
   "cell_type": "markdown",
   "metadata": {},
   "source": [
    "#### Key Findings"
   ]
  },
  {
   "cell_type": "markdown",
   "metadata": {},
   "source": [
    "Here are some of the key findings from our analysis of the King County housing market:\n",
    "\n",
    "1. **Square Footage Matters:** The square footage of living space (sqft_living) has a significant positive impact on housing prices. Investing in properties with larger living spaces tends to result in higher prices.\n",
    "\n",
    "2. **Waterfront Properties Command a Premium:** Waterfront properties are highly desirable and come with a substantial price premium. Investors should consider these properties for potentially higher returns.\n",
    "\n",
    "3. **Views Enhance Value:** Homes with excellent views or very good views also tend to fetch higher prices. This feature can be a valuable investment consideration.\n",
    "\n",
    "4. **Condition and Grade Influence Price:** The condition and grade of a property are important factors affecting its price. Properties in very good condition and with higher grades tend to have higher values.\n",
    "\n",
    "5. **Budget Planning:** With an average housing price of approximately $541,317.18, investors should budget and plan their investments accordingly."
   ]
  },
  {
   "cell_type": "markdown",
   "metadata": {},
   "source": [
    "In conclusion, here are the key recommendations and conclusions for RASB-berry Property Investors based on our analysis:\n",
    "\n",
    "1. **Model Selection:** We recommend using the third model as it demonstrates superior predictive accuracy with lower Mean Absolute Error (MAE), Mean Squared Error (MSE), and Root Mean Squared Error (RMSE) compared to the other two models.\n",
    "\n",
    "2. **Price Influencers:** Focus your investment strategy on the factors that have the most significant impact on housing prices, which include square footage of living space (sqft_living), waterfront properties, views, condition, and grade.\n",
    "\n",
    "3. **Property Features:** Prioritize properties with larger square footage (sqft_living) and those with waterfront views, excellent views, very good conditions, and higher grades, as these tend to command higher prices.\n",
    "\n",
    "4. **Diversification:** Consider diversifying your real estate investments across different property types and neighborhoods to reduce risk and capture opportunities in various market segments.\n",
    "\n",
    "5. **Stay Informed:** Continuously monitor local market trends, economic conditions, and regulations to make informed investment decisions.\n",
    "\n",
    "6. **Budget Planning:** Given the average housing price of approximately $541,317.18, plan your investments accordingly and ensure your budget aligns with market conditions."
   ]
  },
  {
   "cell_type": "markdown",
   "metadata": {},
   "source": [
    "## Additional Analysis"
   ]
  },
  {
   "cell_type": "markdown",
   "metadata": {},
   "source": [
    "#### When is the best time to buy, hold, or sell properties in different neighborhoods?"
   ]
  },
  {
   "cell_type": "code",
   "execution_count": 44,
   "metadata": {},
   "outputs": [],
   "source": [
    "# Create a new column with only the months\n",
    "df['month'] = df['date'].dt.strftime('%B')"
   ]
  },
  {
   "cell_type": "code",
   "execution_count": 45,
   "metadata": {},
   "outputs": [],
   "source": [
    "#Initialize an empty dictionary to store the counts\n",
    "month_count_dict = {}\n",
    "\n",
    "# Iterate through the month column and count occurences\n",
    "for i in df['month']:\n",
    "    if i in month_count_dict:\n",
    "        month_count_dict[i] += 1\n",
    "    else:\n",
    "        month_count_dict[i] = 1"
   ]
  },
  {
   "cell_type": "code",
   "execution_count": 46,
   "metadata": {},
   "outputs": [],
   "source": [
    "# create a list of months in chronological order\n",
    "chron_months = ['January', 'February', 'March', 'April', 'May', 'June', 'July', 'August', 'September', 'October', 'November','December']\n",
    "# create a new dictionary with months in chronological order\n",
    "month_dict = {month: month_count_dict[month] for month in chron_months}"
   ]
  },
  {
   "cell_type": "code",
   "execution_count": 47,
   "metadata": {},
   "outputs": [
    {
     "data": {
      "image/png": "[encoded data removed]",
      "text/plain": [
       "<Figure size 936x432 with 1 Axes>"
      ]
     },
     "metadata": {
      "needs_background": "light"
     },
     "output_type": "display_data"
    }
   ],
   "source": [
    "# Extract the months (keys) and their corresponding counts (values) from the dictionary\n",
    "months = list(month_dict.keys())\n",
    "counts = list(month_dict.values())\n",
    "\n",
    "# Create a bar graph\n",
    "plt.figure(figsize=(13, 6))\n",
    "plt.bar(months, counts, tick_label=months)\n",
    "\n",
    "# Customize the plot labels and title\n",
    "plt.xlabel('Month')\n",
    "plt.ylabel('Count of Houses Sold')\n",
    "plt.title('Number of houses sold by Month')\n",
    "\n",
    "# Show the plot\n",
    "plt.show()"
   ]
  },
  {
   "cell_type": "markdown",
   "metadata": {},
   "source": [
    "The data visualization we've presented above reveals a clear trend in the housing market over the years. It appears that the majority of houses were sold during the middle months of the year, with May standing out as the peak month for real estate transactions. This pattern is consistent year after year.\n",
    "\n",
    "If you're considering buying, selling, or holding onto properties, the data suggests that the opportune time tends to be during the middle months, spanning from April through July. These months consistently exhibit higher levels of real estate activity, making them potentially advantageous for real estate decisions."
   ]
  },
  {
   "cell_type": "markdown",
   "metadata": {},
   "source": [
    "#### How do location-related variables (e.g., ZIP code) impact property values?"
   ]
  },
  {
   "cell_type": "code",
   "execution_count": 48,
   "metadata": {},
   "outputs": [],
   "source": [
    "import folium\n",
    "from folium.plugins import MarkerCluster\n",
    "\n",
    "# Create a Folium map\n",
    "m = folium.Map(location=[df['lat'].mean(), df['long'].mean()], zoom_start=10)\n",
    "\n",
    "# Create a MarkerCluster layer\n",
    "marker_cluster = MarkerCluster().add_to(m)\n",
    "\n",
    "# Add markers to the cluster\n",
    "for index, row in df.iterrows():\n",
    "    popup_text = f\"Location: {row['zipcode']}<br>Price: ${row['price']: .2f}\"\n",
    "    folium.Marker([row['lat'], row['long']], popup=popup_text).add_to(marker_cluster)\n",
    "\n",
    "# Display the map\n",
    "m.save('map.html')"
   ]
  },
  {
   "cell_type": "code",
   "execution_count": 49,
   "metadata": {},
   "outputs": [],
   "source": [
    "# Sort the DataFrame by the 'Price' column in ascending order for least expensive houses\n",
    "df_least_expensive = df.sort_values(by='price').head(30)\n",
    "\n",
    "# Sort the DataFrame by the 'Price' column in descending order for most expensive houses\n",
    "df_most_expensive = df.sort_values(by='price', ascending=False).head(30)\n",
    "\n",
    "# Create a Folium map\n",
    "m = folium.Map(location=[df['lat'].mean(), df['long'].mean()], zoom_start=10)\n",
    "\n",
    "# Create separate MarkerCluster layers for most and least expensive houses\n",
    "cluster_least_expensive = MarkerCluster().add_to(m)\n",
    "cluster_most_expensive = MarkerCluster().add_to(m)\n",
    "\n",
    "# Add markers for the least expensive houses\n",
    "for index, row in df_least_expensive.iterrows():\n",
    "    popup_text = f\"Location: {row['zipcode']}<br>price: ${row['price']:.2f}\"\n",
    "    folium.Marker([row['lat'], row['long']], popup=popup_text).add_to(cluster_least_expensive)\n",
    "\n",
    "# Add markers for the most expensive houses\n",
    "for index, row in df_most_expensive.iterrows():\n",
    "    popup_text = f\"Location: {row['zipcode']}<br>price: ${row['price']:.2f}\"\n",
    "    folium.Marker([row['lat'], row['long']], popup=popup_text).add_to(cluster_most_expensive)\n",
    "\n",
    "# Display the map\n",
    "m.save('map_with_clustered_prices.html')"
   ]
  },
  {
   "cell_type": "markdown",
   "metadata": {},
   "source": [
    "Our exploration included the creation of a dynamic Folium map to examine the potential impact of location on house prices. Upon inspecting the [Folium map](map_with_clustered_prices.html), clear trend emerges: the most expensive homes tend to be situated in close proximity to Lake Washington, while the less expensive properties are located further away from the lake.\n",
    "\n",
    "This spatial analysis aligns with the findings from our third model, emphasizing the desirability and premium associated with waterfront properties. For investors seeking potential higher returns, these waterfront properties should be a point of consideration and focus. Their unique location and appeal could make them valuable additions to an investment portfolio."
   ]
  },
  {
   "cell_type": "code",
   "execution_count": null,
   "metadata": {},
   "outputs": [],
   "source": []
  }
 ],
 "metadata": {
  "kernelspec": {
   "display_name": "Python 3",
   "language": "python",
   "name": "python3"
  },
  "language_info": {
   "codemirror_mode": {
    "name": "ipython",
    "version": 3
   },
   "file_extension": ".py",
   "mimetype": "text/x-python",
   "name": "python",
   "nbconvert_exporter": "python",
   "pygments_lexer": "ipython3",
   "version": "3.8.5"
  }
 },
 "nbformat": 4,
 "nbformat_minor": 4
}
