{
 "cells": [
  {
   "cell_type": "markdown",
   "metadata": {},
   "source": [
    "# Final Project Submission"
   ]
  },
  {
   "cell_type": "markdown",
   "metadata": {},
   "source": [
    "GROUP 22\n",
    "- STACY KIRIIRI\n",
    "- ROSE KYALO\n",
    "- ANGEL ATUNGIRE\n",
    "- BRYTONE OMARE"
   ]
  },
  {
   "cell_type": "markdown",
   "metadata": {},
   "source": [
    "# Insights on Property Investment Profitability"
   ]
  },
  {
   "cell_type": "markdown",
   "metadata": {},
   "source": [
    "### Overview\n",
    "\n",
    "In this project, we're diving deep into the King County House Sales dataset to understand what makes properties profitable in King County's real estate market. Our main aim is to provide valuable insights to property investors who want to make smart investment decisions. We'll be looking at various aspects of properties, like their size, number of bedrooms, and condition, to see which factors have the most impact on the sale prices of houses.\n",
    "By doing this, we hope to help investors optimize their strategies and increase their\n",
    "chances of getting better returns in the King County real estate market. "
   ]
  },
  {
   "cell_type": "markdown",
   "metadata": {},
   "source": [
    "# Business Understanding\n",
    "\n",
    "### Stakeholder: RASB-berry Property Investors\n",
    "    \n",
    "Business Problem: RASB-berry Property investors are looking to optimize their\n",
    "investment strategies by purchasing properties with the potential for high returns. They\n",
    "want to know which property attributes, such as square footage, number of bedrooms,\n",
    "and condition of the property, are most strongly correlated with sale prices.\n",
    "Objectives\n",
    "1. Identify Key Predictors of Property Value\n",
    "- What are the most significant factors that influence property prices in King\n",
    "County?\n",
    "- What property attributes have the strongest correlation with sale prices?\n",
    "- How do location-related variables (e.g., ZIP code, proximity to amenities) impact\n",
    "property values?\n",
    "\n",
    "2. Market Trends and Timing\n",
    "- Can we analyze historical data to identify cyclical patterns in the King County real\n",
    "estate market?\n",
    "- When is the best time to buy, hold, or sell properties in different neighborhoods?\n",
    "- Are there seasonal trends that impact property values, and how can investors\n",
    "capitalize on them?"
   ]
  },
  {
   "cell_type": "markdown",
   "metadata": {},
   "source": [
    "## Data understanding and Data preparation"
   ]
  },
  {
   "cell_type": "code",
   "execution_count": 61,
   "metadata": {},
   "outputs": [],
   "source": [
    "# importing the libraries to be used in the analysis\n",
    "import numpy as np \n",
    "import pandas as pd\n",
    "import statsmodels.api as sm\n",
    "import seaborn as sns\n",
    "import matplotlib.pyplot as plt \n",
    "%matplotlib inline"
   ]
  },
  {
   "cell_type": "code",
   "execution_count": 62,
   "metadata": {},
   "outputs": [
    {
     "data": {
      "text/html": [
       "<div>\n",
       "<style scoped>\n",
       "    .dataframe tbody tr th:only-of-type {\n",
       "        vertical-align: middle;\n",
       "    }\n",
       "\n",
       "    .dataframe tbody tr th {\n",
       "        vertical-align: top;\n",
       "    }\n",
       "\n",
       "    .dataframe thead th {\n",
       "        text-align: right;\n",
       "    }\n",
       "</style>\n",
       "<table border=\"1\" class=\"dataframe\">\n",
       "  <thead>\n",
       "    <tr style=\"text-align: right;\">\n",
       "      <th></th>\n",
       "      <th>id</th>\n",
       "      <th>date</th>\n",
       "      <th>price</th>\n",
       "      <th>bedrooms</th>\n",
       "      <th>bathrooms</th>\n",
       "      <th>sqft_living</th>\n",
       "      <th>sqft_lot</th>\n",
       "      <th>floors</th>\n",
       "      <th>waterfront</th>\n",
       "      <th>view</th>\n",
       "      <th>...</th>\n",
       "      <th>grade</th>\n",
       "      <th>sqft_above</th>\n",
       "      <th>sqft_basement</th>\n",
       "      <th>yr_built</th>\n",
       "      <th>yr_renovated</th>\n",
       "      <th>zipcode</th>\n",
       "      <th>lat</th>\n",
       "      <th>long</th>\n",
       "      <th>sqft_living15</th>\n",
       "      <th>sqft_lot15</th>\n",
       "    </tr>\n",
       "  </thead>\n",
       "  <tbody>\n",
       "    <tr>\n",
       "      <th>0</th>\n",
       "      <td>7129300520</td>\n",
       "      <td>10/13/2014</td>\n",
       "      <td>221900.0</td>\n",
       "      <td>3</td>\n",
       "      <td>1.00</td>\n",
       "      <td>1180</td>\n",
       "      <td>5650</td>\n",
       "      <td>1.0</td>\n",
       "      <td>NaN</td>\n",
       "      <td>NONE</td>\n",
       "      <td>...</td>\n",
       "      <td>7 Average</td>\n",
       "      <td>1180</td>\n",
       "      <td>0.0</td>\n",
       "      <td>1955</td>\n",
       "      <td>0.0</td>\n",
       "      <td>98178</td>\n",
       "      <td>47.5112</td>\n",
       "      <td>-122.257</td>\n",
       "      <td>1340</td>\n",
       "      <td>5650</td>\n",
       "    </tr>\n",
       "    <tr>\n",
       "      <th>1</th>\n",
       "      <td>6414100192</td>\n",
       "      <td>12/9/2014</td>\n",
       "      <td>538000.0</td>\n",
       "      <td>3</td>\n",
       "      <td>2.25</td>\n",
       "      <td>2570</td>\n",
       "      <td>7242</td>\n",
       "      <td>2.0</td>\n",
       "      <td>NO</td>\n",
       "      <td>NONE</td>\n",
       "      <td>...</td>\n",
       "      <td>7 Average</td>\n",
       "      <td>2170</td>\n",
       "      <td>400.0</td>\n",
       "      <td>1951</td>\n",
       "      <td>1991.0</td>\n",
       "      <td>98125</td>\n",
       "      <td>47.7210</td>\n",
       "      <td>-122.319</td>\n",
       "      <td>1690</td>\n",
       "      <td>7639</td>\n",
       "    </tr>\n",
       "    <tr>\n",
       "      <th>2</th>\n",
       "      <td>5631500400</td>\n",
       "      <td>2/25/2015</td>\n",
       "      <td>180000.0</td>\n",
       "      <td>2</td>\n",
       "      <td>1.00</td>\n",
       "      <td>770</td>\n",
       "      <td>10000</td>\n",
       "      <td>1.0</td>\n",
       "      <td>NO</td>\n",
       "      <td>NONE</td>\n",
       "      <td>...</td>\n",
       "      <td>6 Low Average</td>\n",
       "      <td>770</td>\n",
       "      <td>0.0</td>\n",
       "      <td>1933</td>\n",
       "      <td>NaN</td>\n",
       "      <td>98028</td>\n",
       "      <td>47.7379</td>\n",
       "      <td>-122.233</td>\n",
       "      <td>2720</td>\n",
       "      <td>8062</td>\n",
       "    </tr>\n",
       "    <tr>\n",
       "      <th>3</th>\n",
       "      <td>2487200875</td>\n",
       "      <td>12/9/2014</td>\n",
       "      <td>604000.0</td>\n",
       "      <td>4</td>\n",
       "      <td>3.00</td>\n",
       "      <td>1960</td>\n",
       "      <td>5000</td>\n",
       "      <td>1.0</td>\n",
       "      <td>NO</td>\n",
       "      <td>NONE</td>\n",
       "      <td>...</td>\n",
       "      <td>7 Average</td>\n",
       "      <td>1050</td>\n",
       "      <td>910.0</td>\n",
       "      <td>1965</td>\n",
       "      <td>0.0</td>\n",
       "      <td>98136</td>\n",
       "      <td>47.5208</td>\n",
       "      <td>-122.393</td>\n",
       "      <td>1360</td>\n",
       "      <td>5000</td>\n",
       "    </tr>\n",
       "    <tr>\n",
       "      <th>4</th>\n",
       "      <td>1954400510</td>\n",
       "      <td>2/18/2015</td>\n",
       "      <td>510000.0</td>\n",
       "      <td>3</td>\n",
       "      <td>2.00</td>\n",
       "      <td>1680</td>\n",
       "      <td>8080</td>\n",
       "      <td>1.0</td>\n",
       "      <td>NO</td>\n",
       "      <td>NONE</td>\n",
       "      <td>...</td>\n",
       "      <td>8 Good</td>\n",
       "      <td>1680</td>\n",
       "      <td>0.0</td>\n",
       "      <td>1987</td>\n",
       "      <td>0.0</td>\n",
       "      <td>98074</td>\n",
       "      <td>47.6168</td>\n",
       "      <td>-122.045</td>\n",
       "      <td>1800</td>\n",
       "      <td>7503</td>\n",
       "    </tr>\n",
       "    <tr>\n",
       "      <th>5</th>\n",
       "      <td>7237550310</td>\n",
       "      <td>5/12/2014</td>\n",
       "      <td>1230000.0</td>\n",
       "      <td>4</td>\n",
       "      <td>4.50</td>\n",
       "      <td>5420</td>\n",
       "      <td>101930</td>\n",
       "      <td>1.0</td>\n",
       "      <td>NO</td>\n",
       "      <td>NONE</td>\n",
       "      <td>...</td>\n",
       "      <td>11 Excellent</td>\n",
       "      <td>3890</td>\n",
       "      <td>1530.0</td>\n",
       "      <td>2001</td>\n",
       "      <td>0.0</td>\n",
       "      <td>98053</td>\n",
       "      <td>47.6561</td>\n",
       "      <td>-122.005</td>\n",
       "      <td>4760</td>\n",
       "      <td>101930</td>\n",
       "    </tr>\n",
       "    <tr>\n",
       "      <th>6</th>\n",
       "      <td>1321400060</td>\n",
       "      <td>6/27/2014</td>\n",
       "      <td>257500.0</td>\n",
       "      <td>3</td>\n",
       "      <td>2.25</td>\n",
       "      <td>1715</td>\n",
       "      <td>6819</td>\n",
       "      <td>2.0</td>\n",
       "      <td>NO</td>\n",
       "      <td>NONE</td>\n",
       "      <td>...</td>\n",
       "      <td>7 Average</td>\n",
       "      <td>1715</td>\n",
       "      <td>?</td>\n",
       "      <td>1995</td>\n",
       "      <td>0.0</td>\n",
       "      <td>98003</td>\n",
       "      <td>47.3097</td>\n",
       "      <td>-122.327</td>\n",
       "      <td>2238</td>\n",
       "      <td>6819</td>\n",
       "    </tr>\n",
       "    <tr>\n",
       "      <th>7</th>\n",
       "      <td>2008000270</td>\n",
       "      <td>1/15/2015</td>\n",
       "      <td>291850.0</td>\n",
       "      <td>3</td>\n",
       "      <td>1.50</td>\n",
       "      <td>1060</td>\n",
       "      <td>9711</td>\n",
       "      <td>1.0</td>\n",
       "      <td>NO</td>\n",
       "      <td>NaN</td>\n",
       "      <td>...</td>\n",
       "      <td>7 Average</td>\n",
       "      <td>1060</td>\n",
       "      <td>0.0</td>\n",
       "      <td>1963</td>\n",
       "      <td>0.0</td>\n",
       "      <td>98198</td>\n",
       "      <td>47.4095</td>\n",
       "      <td>-122.315</td>\n",
       "      <td>1650</td>\n",
       "      <td>9711</td>\n",
       "    </tr>\n",
       "    <tr>\n",
       "      <th>8</th>\n",
       "      <td>2414600126</td>\n",
       "      <td>4/15/2015</td>\n",
       "      <td>229500.0</td>\n",
       "      <td>3</td>\n",
       "      <td>1.00</td>\n",
       "      <td>1780</td>\n",
       "      <td>7470</td>\n",
       "      <td>1.0</td>\n",
       "      <td>NO</td>\n",
       "      <td>NONE</td>\n",
       "      <td>...</td>\n",
       "      <td>7 Average</td>\n",
       "      <td>1050</td>\n",
       "      <td>730.0</td>\n",
       "      <td>1960</td>\n",
       "      <td>0.0</td>\n",
       "      <td>98146</td>\n",
       "      <td>47.5123</td>\n",
       "      <td>-122.337</td>\n",
       "      <td>1780</td>\n",
       "      <td>8113</td>\n",
       "    </tr>\n",
       "    <tr>\n",
       "      <th>9</th>\n",
       "      <td>3793500160</td>\n",
       "      <td>3/12/2015</td>\n",
       "      <td>323000.0</td>\n",
       "      <td>3</td>\n",
       "      <td>2.50</td>\n",
       "      <td>1890</td>\n",
       "      <td>6560</td>\n",
       "      <td>2.0</td>\n",
       "      <td>NO</td>\n",
       "      <td>NONE</td>\n",
       "      <td>...</td>\n",
       "      <td>7 Average</td>\n",
       "      <td>1890</td>\n",
       "      <td>0.0</td>\n",
       "      <td>2003</td>\n",
       "      <td>0.0</td>\n",
       "      <td>98038</td>\n",
       "      <td>47.3684</td>\n",
       "      <td>-122.031</td>\n",
       "      <td>2390</td>\n",
       "      <td>7570</td>\n",
       "    </tr>\n",
       "  </tbody>\n",
       "</table>\n",
       "<p>10 rows × 21 columns</p>\n",
       "</div>"
      ],
      "text/plain": [
       "           id        date      price  bedrooms  bathrooms  sqft_living  \\\n",
       "0  7129300520  10/13/2014   221900.0         3       1.00         1180   \n",
       "1  6414100192   12/9/2014   538000.0         3       2.25         2570   \n",
       "2  5631500400   2/25/2015   180000.0         2       1.00          770   \n",
       "3  2487200875   12/9/2014   604000.0         4       3.00         1960   \n",
       "4  1954400510   2/18/2015   510000.0         3       2.00         1680   \n",
       "5  7237550310   5/12/2014  1230000.0         4       4.50         5420   \n",
       "6  1321400060   6/27/2014   257500.0         3       2.25         1715   \n",
       "7  2008000270   1/15/2015   291850.0         3       1.50         1060   \n",
       "8  2414600126   4/15/2015   229500.0         3       1.00         1780   \n",
       "9  3793500160   3/12/2015   323000.0         3       2.50         1890   \n",
       "\n",
       "   sqft_lot  floors waterfront  view  ...          grade sqft_above  \\\n",
       "0      5650     1.0        NaN  NONE  ...      7 Average       1180   \n",
       "1      7242     2.0         NO  NONE  ...      7 Average       2170   \n",
       "2     10000     1.0         NO  NONE  ...  6 Low Average        770   \n",
       "3      5000     1.0         NO  NONE  ...      7 Average       1050   \n",
       "4      8080     1.0         NO  NONE  ...         8 Good       1680   \n",
       "5    101930     1.0         NO  NONE  ...   11 Excellent       3890   \n",
       "6      6819     2.0         NO  NONE  ...      7 Average       1715   \n",
       "7      9711     1.0         NO   NaN  ...      7 Average       1060   \n",
       "8      7470     1.0         NO  NONE  ...      7 Average       1050   \n",
       "9      6560     2.0         NO  NONE  ...      7 Average       1890   \n",
       "\n",
       "   sqft_basement yr_built  yr_renovated  zipcode      lat     long  \\\n",
       "0            0.0     1955           0.0    98178  47.5112 -122.257   \n",
       "1          400.0     1951        1991.0    98125  47.7210 -122.319   \n",
       "2            0.0     1933           NaN    98028  47.7379 -122.233   \n",
       "3          910.0     1965           0.0    98136  47.5208 -122.393   \n",
       "4            0.0     1987           0.0    98074  47.6168 -122.045   \n",
       "5         1530.0     2001           0.0    98053  47.6561 -122.005   \n",
       "6              ?     1995           0.0    98003  47.3097 -122.327   \n",
       "7            0.0     1963           0.0    98198  47.4095 -122.315   \n",
       "8          730.0     1960           0.0    98146  47.5123 -122.337   \n",
       "9            0.0     2003           0.0    98038  47.3684 -122.031   \n",
       "\n",
       "   sqft_living15  sqft_lot15  \n",
       "0           1340        5650  \n",
       "1           1690        7639  \n",
       "2           2720        8062  \n",
       "3           1360        5000  \n",
       "4           1800        7503  \n",
       "5           4760      101930  \n",
       "6           2238        6819  \n",
       "7           1650        9711  \n",
       "8           1780        8113  \n",
       "9           2390        7570  \n",
       "\n",
       "[10 rows x 21 columns]"
      ]
     },
     "execution_count": 62,
     "metadata": {},
     "output_type": "execute_result"
    }
   ],
   "source": [
    "# here we load the data to see what it contains\n",
    "data = pd.read_csv('data/kc_house_data.csv')\n",
    "data.head(10)"
   ]
  },
  {
   "cell_type": "code",
   "execution_count": 63,
   "metadata": {},
   "outputs": [
    {
     "data": {
      "text/html": [
       "<div>\n",
       "<style scoped>\n",
       "    .dataframe tbody tr th:only-of-type {\n",
       "        vertical-align: middle;\n",
       "    }\n",
       "\n",
       "    .dataframe tbody tr th {\n",
       "        vertical-align: top;\n",
       "    }\n",
       "\n",
       "    .dataframe thead th {\n",
       "        text-align: right;\n",
       "    }\n",
       "</style>\n",
       "<table border=\"1\" class=\"dataframe\">\n",
       "  <thead>\n",
       "    <tr style=\"text-align: right;\">\n",
       "      <th></th>\n",
       "      <th>id</th>\n",
       "      <th>date</th>\n",
       "      <th>price</th>\n",
       "      <th>bedrooms</th>\n",
       "      <th>bathrooms</th>\n",
       "      <th>sqft_living</th>\n",
       "      <th>sqft_lot</th>\n",
       "      <th>floors</th>\n",
       "      <th>waterfront</th>\n",
       "      <th>view</th>\n",
       "      <th>...</th>\n",
       "      <th>grade</th>\n",
       "      <th>sqft_above</th>\n",
       "      <th>sqft_basement</th>\n",
       "      <th>yr_built</th>\n",
       "      <th>yr_renovated</th>\n",
       "      <th>zipcode</th>\n",
       "      <th>lat</th>\n",
       "      <th>long</th>\n",
       "      <th>sqft_living15</th>\n",
       "      <th>sqft_lot15</th>\n",
       "    </tr>\n",
       "  </thead>\n",
       "  <tbody>\n",
       "    <tr>\n",
       "      <th>21587</th>\n",
       "      <td>7852140040</td>\n",
       "      <td>8/25/2014</td>\n",
       "      <td>507250.0</td>\n",
       "      <td>3</td>\n",
       "      <td>2.50</td>\n",
       "      <td>2270</td>\n",
       "      <td>5536</td>\n",
       "      <td>2.0</td>\n",
       "      <td>NaN</td>\n",
       "      <td>NONE</td>\n",
       "      <td>...</td>\n",
       "      <td>8 Good</td>\n",
       "      <td>2270</td>\n",
       "      <td>0.0</td>\n",
       "      <td>2003</td>\n",
       "      <td>0.0</td>\n",
       "      <td>98065</td>\n",
       "      <td>47.5389</td>\n",
       "      <td>-121.881</td>\n",
       "      <td>2270</td>\n",
       "      <td>5731</td>\n",
       "    </tr>\n",
       "    <tr>\n",
       "      <th>21588</th>\n",
       "      <td>9834201367</td>\n",
       "      <td>1/26/2015</td>\n",
       "      <td>429000.0</td>\n",
       "      <td>3</td>\n",
       "      <td>2.00</td>\n",
       "      <td>1490</td>\n",
       "      <td>1126</td>\n",
       "      <td>3.0</td>\n",
       "      <td>NO</td>\n",
       "      <td>NONE</td>\n",
       "      <td>...</td>\n",
       "      <td>8 Good</td>\n",
       "      <td>1490</td>\n",
       "      <td>0.0</td>\n",
       "      <td>2014</td>\n",
       "      <td>0.0</td>\n",
       "      <td>98144</td>\n",
       "      <td>47.5699</td>\n",
       "      <td>-122.288</td>\n",
       "      <td>1400</td>\n",
       "      <td>1230</td>\n",
       "    </tr>\n",
       "    <tr>\n",
       "      <th>21589</th>\n",
       "      <td>3448900210</td>\n",
       "      <td>10/14/2014</td>\n",
       "      <td>610685.0</td>\n",
       "      <td>4</td>\n",
       "      <td>2.50</td>\n",
       "      <td>2520</td>\n",
       "      <td>6023</td>\n",
       "      <td>2.0</td>\n",
       "      <td>NO</td>\n",
       "      <td>NaN</td>\n",
       "      <td>...</td>\n",
       "      <td>9 Better</td>\n",
       "      <td>2520</td>\n",
       "      <td>0.0</td>\n",
       "      <td>2014</td>\n",
       "      <td>0.0</td>\n",
       "      <td>98056</td>\n",
       "      <td>47.5137</td>\n",
       "      <td>-122.167</td>\n",
       "      <td>2520</td>\n",
       "      <td>6023</td>\n",
       "    </tr>\n",
       "    <tr>\n",
       "      <th>21590</th>\n",
       "      <td>7936000429</td>\n",
       "      <td>3/26/2015</td>\n",
       "      <td>1010000.0</td>\n",
       "      <td>4</td>\n",
       "      <td>3.50</td>\n",
       "      <td>3510</td>\n",
       "      <td>7200</td>\n",
       "      <td>2.0</td>\n",
       "      <td>NO</td>\n",
       "      <td>NONE</td>\n",
       "      <td>...</td>\n",
       "      <td>9 Better</td>\n",
       "      <td>2600</td>\n",
       "      <td>910.0</td>\n",
       "      <td>2009</td>\n",
       "      <td>0.0</td>\n",
       "      <td>98136</td>\n",
       "      <td>47.5537</td>\n",
       "      <td>-122.398</td>\n",
       "      <td>2050</td>\n",
       "      <td>6200</td>\n",
       "    </tr>\n",
       "    <tr>\n",
       "      <th>21591</th>\n",
       "      <td>2997800021</td>\n",
       "      <td>2/19/2015</td>\n",
       "      <td>475000.0</td>\n",
       "      <td>3</td>\n",
       "      <td>2.50</td>\n",
       "      <td>1310</td>\n",
       "      <td>1294</td>\n",
       "      <td>2.0</td>\n",
       "      <td>NO</td>\n",
       "      <td>NONE</td>\n",
       "      <td>...</td>\n",
       "      <td>8 Good</td>\n",
       "      <td>1180</td>\n",
       "      <td>130.0</td>\n",
       "      <td>2008</td>\n",
       "      <td>0.0</td>\n",
       "      <td>98116</td>\n",
       "      <td>47.5773</td>\n",
       "      <td>-122.409</td>\n",
       "      <td>1330</td>\n",
       "      <td>1265</td>\n",
       "    </tr>\n",
       "    <tr>\n",
       "      <th>21592</th>\n",
       "      <td>263000018</td>\n",
       "      <td>5/21/2014</td>\n",
       "      <td>360000.0</td>\n",
       "      <td>3</td>\n",
       "      <td>2.50</td>\n",
       "      <td>1530</td>\n",
       "      <td>1131</td>\n",
       "      <td>3.0</td>\n",
       "      <td>NO</td>\n",
       "      <td>NONE</td>\n",
       "      <td>...</td>\n",
       "      <td>8 Good</td>\n",
       "      <td>1530</td>\n",
       "      <td>0.0</td>\n",
       "      <td>2009</td>\n",
       "      <td>0.0</td>\n",
       "      <td>98103</td>\n",
       "      <td>47.6993</td>\n",
       "      <td>-122.346</td>\n",
       "      <td>1530</td>\n",
       "      <td>1509</td>\n",
       "    </tr>\n",
       "    <tr>\n",
       "      <th>21593</th>\n",
       "      <td>6600060120</td>\n",
       "      <td>2/23/2015</td>\n",
       "      <td>400000.0</td>\n",
       "      <td>4</td>\n",
       "      <td>2.50</td>\n",
       "      <td>2310</td>\n",
       "      <td>5813</td>\n",
       "      <td>2.0</td>\n",
       "      <td>NO</td>\n",
       "      <td>NONE</td>\n",
       "      <td>...</td>\n",
       "      <td>8 Good</td>\n",
       "      <td>2310</td>\n",
       "      <td>0.0</td>\n",
       "      <td>2014</td>\n",
       "      <td>0.0</td>\n",
       "      <td>98146</td>\n",
       "      <td>47.5107</td>\n",
       "      <td>-122.362</td>\n",
       "      <td>1830</td>\n",
       "      <td>7200</td>\n",
       "    </tr>\n",
       "    <tr>\n",
       "      <th>21594</th>\n",
       "      <td>1523300141</td>\n",
       "      <td>6/23/2014</td>\n",
       "      <td>402101.0</td>\n",
       "      <td>2</td>\n",
       "      <td>0.75</td>\n",
       "      <td>1020</td>\n",
       "      <td>1350</td>\n",
       "      <td>2.0</td>\n",
       "      <td>NO</td>\n",
       "      <td>NONE</td>\n",
       "      <td>...</td>\n",
       "      <td>7 Average</td>\n",
       "      <td>1020</td>\n",
       "      <td>0.0</td>\n",
       "      <td>2009</td>\n",
       "      <td>0.0</td>\n",
       "      <td>98144</td>\n",
       "      <td>47.5944</td>\n",
       "      <td>-122.299</td>\n",
       "      <td>1020</td>\n",
       "      <td>2007</td>\n",
       "    </tr>\n",
       "    <tr>\n",
       "      <th>21595</th>\n",
       "      <td>291310100</td>\n",
       "      <td>1/16/2015</td>\n",
       "      <td>400000.0</td>\n",
       "      <td>3</td>\n",
       "      <td>2.50</td>\n",
       "      <td>1600</td>\n",
       "      <td>2388</td>\n",
       "      <td>2.0</td>\n",
       "      <td>NaN</td>\n",
       "      <td>NONE</td>\n",
       "      <td>...</td>\n",
       "      <td>8 Good</td>\n",
       "      <td>1600</td>\n",
       "      <td>0.0</td>\n",
       "      <td>2004</td>\n",
       "      <td>0.0</td>\n",
       "      <td>98027</td>\n",
       "      <td>47.5345</td>\n",
       "      <td>-122.069</td>\n",
       "      <td>1410</td>\n",
       "      <td>1287</td>\n",
       "    </tr>\n",
       "    <tr>\n",
       "      <th>21596</th>\n",
       "      <td>1523300157</td>\n",
       "      <td>10/15/2014</td>\n",
       "      <td>325000.0</td>\n",
       "      <td>2</td>\n",
       "      <td>0.75</td>\n",
       "      <td>1020</td>\n",
       "      <td>1076</td>\n",
       "      <td>2.0</td>\n",
       "      <td>NO</td>\n",
       "      <td>NONE</td>\n",
       "      <td>...</td>\n",
       "      <td>7 Average</td>\n",
       "      <td>1020</td>\n",
       "      <td>0.0</td>\n",
       "      <td>2008</td>\n",
       "      <td>0.0</td>\n",
       "      <td>98144</td>\n",
       "      <td>47.5941</td>\n",
       "      <td>-122.299</td>\n",
       "      <td>1020</td>\n",
       "      <td>1357</td>\n",
       "    </tr>\n",
       "  </tbody>\n",
       "</table>\n",
       "<p>10 rows × 21 columns</p>\n",
       "</div>"
      ],
      "text/plain": [
       "               id        date      price  bedrooms  bathrooms  sqft_living  \\\n",
       "21587  7852140040   8/25/2014   507250.0         3       2.50         2270   \n",
       "21588  9834201367   1/26/2015   429000.0         3       2.00         1490   \n",
       "21589  3448900210  10/14/2014   610685.0         4       2.50         2520   \n",
       "21590  7936000429   3/26/2015  1010000.0         4       3.50         3510   \n",
       "21591  2997800021   2/19/2015   475000.0         3       2.50         1310   \n",
       "21592   263000018   5/21/2014   360000.0         3       2.50         1530   \n",
       "21593  6600060120   2/23/2015   400000.0         4       2.50         2310   \n",
       "21594  1523300141   6/23/2014   402101.0         2       0.75         1020   \n",
       "21595   291310100   1/16/2015   400000.0         3       2.50         1600   \n",
       "21596  1523300157  10/15/2014   325000.0         2       0.75         1020   \n",
       "\n",
       "       sqft_lot  floors waterfront  view  ...      grade sqft_above  \\\n",
       "21587      5536     2.0        NaN  NONE  ...     8 Good       2270   \n",
       "21588      1126     3.0         NO  NONE  ...     8 Good       1490   \n",
       "21589      6023     2.0         NO   NaN  ...   9 Better       2520   \n",
       "21590      7200     2.0         NO  NONE  ...   9 Better       2600   \n",
       "21591      1294     2.0         NO  NONE  ...     8 Good       1180   \n",
       "21592      1131     3.0         NO  NONE  ...     8 Good       1530   \n",
       "21593      5813     2.0         NO  NONE  ...     8 Good       2310   \n",
       "21594      1350     2.0         NO  NONE  ...  7 Average       1020   \n",
       "21595      2388     2.0        NaN  NONE  ...     8 Good       1600   \n",
       "21596      1076     2.0         NO  NONE  ...  7 Average       1020   \n",
       "\n",
       "       sqft_basement yr_built  yr_renovated  zipcode      lat     long  \\\n",
       "21587            0.0     2003           0.0    98065  47.5389 -121.881   \n",
       "21588            0.0     2014           0.0    98144  47.5699 -122.288   \n",
       "21589            0.0     2014           0.0    98056  47.5137 -122.167   \n",
       "21590          910.0     2009           0.0    98136  47.5537 -122.398   \n",
       "21591          130.0     2008           0.0    98116  47.5773 -122.409   \n",
       "21592            0.0     2009           0.0    98103  47.6993 -122.346   \n",
       "21593            0.0     2014           0.0    98146  47.5107 -122.362   \n",
       "21594            0.0     2009           0.0    98144  47.5944 -122.299   \n",
       "21595            0.0     2004           0.0    98027  47.5345 -122.069   \n",
       "21596            0.0     2008           0.0    98144  47.5941 -122.299   \n",
       "\n",
       "       sqft_living15  sqft_lot15  \n",
       "21587           2270        5731  \n",
       "21588           1400        1230  \n",
       "21589           2520        6023  \n",
       "21590           2050        6200  \n",
       "21591           1330        1265  \n",
       "21592           1530        1509  \n",
       "21593           1830        7200  \n",
       "21594           1020        2007  \n",
       "21595           1410        1287  \n",
       "21596           1020        1357  \n",
       "\n",
       "[10 rows x 21 columns]"
      ]
     },
     "execution_count": 63,
     "metadata": {},
     "output_type": "execute_result"
    }
   ],
   "source": [
    "# viewing the last rows of the dataframe\n",
    "data.tail(10)"
   ]
  },
  {
   "cell_type": "code",
   "execution_count": 64,
   "metadata": {},
   "outputs": [
    {
     "data": {
      "text/plain": [
       "Index(['id', 'date', 'price', 'bedrooms', 'bathrooms', 'sqft_living',\n",
       "       'sqft_lot', 'floors', 'waterfront', 'view', 'condition', 'grade',\n",
       "       'sqft_above', 'sqft_basement', 'yr_built', 'yr_renovated', 'zipcode',\n",
       "       'lat', 'long', 'sqft_living15', 'sqft_lot15'],\n",
       "      dtype='object')"
      ]
     },
     "execution_count": 64,
     "metadata": {},
     "output_type": "execute_result"
    }
   ],
   "source": [
    "#column names\n",
    "data.columns"
   ]
  },
  {
   "cell_type": "code",
   "execution_count": 65,
   "metadata": {},
   "outputs": [
    {
     "name": "stdout",
     "output_type": "stream",
     "text": [
      "<class 'pandas.core.frame.DataFrame'>\n",
      "RangeIndex: 21597 entries, 0 to 21596\n",
      "Data columns (total 21 columns):\n",
      " #   Column         Non-Null Count  Dtype  \n",
      "---  ------         --------------  -----  \n",
      " 0   id             21597 non-null  int64  \n",
      " 1   date           21597 non-null  object \n",
      " 2   price          21597 non-null  float64\n",
      " 3   bedrooms       21597 non-null  int64  \n",
      " 4   bathrooms      21597 non-null  float64\n",
      " 5   sqft_living    21597 non-null  int64  \n",
      " 6   sqft_lot       21597 non-null  int64  \n",
      " 7   floors         21597 non-null  float64\n",
      " 8   waterfront     19221 non-null  object \n",
      " 9   view           21534 non-null  object \n",
      " 10  condition      21597 non-null  object \n",
      " 11  grade          21597 non-null  object \n",
      " 12  sqft_above     21597 non-null  int64  \n",
      " 13  sqft_basement  21597 non-null  object \n",
      " 14  yr_built       21597 non-null  int64  \n",
      " 15  yr_renovated   17755 non-null  float64\n",
      " 16  zipcode        21597 non-null  int64  \n",
      " 17  lat            21597 non-null  float64\n",
      " 18  long           21597 non-null  float64\n",
      " 19  sqft_living15  21597 non-null  int64  \n",
      " 20  sqft_lot15     21597 non-null  int64  \n",
      "dtypes: float64(6), int64(9), object(6)\n",
      "memory usage: 3.5+ MB\n"
     ]
    }
   ],
   "source": [
    "# Concise summary of the dataframe\n",
    "data.info()"
   ]
  },
  {
   "cell_type": "code",
   "execution_count": 66,
   "metadata": {},
   "outputs": [
    {
     "data": {
      "text/html": [
       "<div>\n",
       "<style scoped>\n",
       "    .dataframe tbody tr th:only-of-type {\n",
       "        vertical-align: middle;\n",
       "    }\n",
       "\n",
       "    .dataframe tbody tr th {\n",
       "        vertical-align: top;\n",
       "    }\n",
       "\n",
       "    .dataframe thead th {\n",
       "        text-align: right;\n",
       "    }\n",
       "</style>\n",
       "<table border=\"1\" class=\"dataframe\">\n",
       "  <thead>\n",
       "    <tr style=\"text-align: right;\">\n",
       "      <th></th>\n",
       "      <th>id</th>\n",
       "      <th>price</th>\n",
       "      <th>bedrooms</th>\n",
       "      <th>bathrooms</th>\n",
       "      <th>sqft_living</th>\n",
       "      <th>sqft_lot</th>\n",
       "      <th>floors</th>\n",
       "      <th>sqft_above</th>\n",
       "      <th>yr_built</th>\n",
       "      <th>yr_renovated</th>\n",
       "      <th>zipcode</th>\n",
       "      <th>lat</th>\n",
       "      <th>long</th>\n",
       "      <th>sqft_living15</th>\n",
       "      <th>sqft_lot15</th>\n",
       "    </tr>\n",
       "  </thead>\n",
       "  <tbody>\n",
       "    <tr>\n",
       "      <th>count</th>\n",
       "      <td>2.159700e+04</td>\n",
       "      <td>2.159700e+04</td>\n",
       "      <td>21597.000000</td>\n",
       "      <td>21597.000000</td>\n",
       "      <td>21597.000000</td>\n",
       "      <td>2.159700e+04</td>\n",
       "      <td>21597.000000</td>\n",
       "      <td>21597.000000</td>\n",
       "      <td>21597.000000</td>\n",
       "      <td>17755.000000</td>\n",
       "      <td>21597.000000</td>\n",
       "      <td>21597.000000</td>\n",
       "      <td>21597.000000</td>\n",
       "      <td>21597.000000</td>\n",
       "      <td>21597.000000</td>\n",
       "    </tr>\n",
       "    <tr>\n",
       "      <th>mean</th>\n",
       "      <td>4.580474e+09</td>\n",
       "      <td>5.402966e+05</td>\n",
       "      <td>3.373200</td>\n",
       "      <td>2.115826</td>\n",
       "      <td>2080.321850</td>\n",
       "      <td>1.509941e+04</td>\n",
       "      <td>1.494096</td>\n",
       "      <td>1788.596842</td>\n",
       "      <td>1970.999676</td>\n",
       "      <td>83.636778</td>\n",
       "      <td>98077.951845</td>\n",
       "      <td>47.560093</td>\n",
       "      <td>-122.213982</td>\n",
       "      <td>1986.620318</td>\n",
       "      <td>12758.283512</td>\n",
       "    </tr>\n",
       "    <tr>\n",
       "      <th>std</th>\n",
       "      <td>2.876736e+09</td>\n",
       "      <td>3.673681e+05</td>\n",
       "      <td>0.926299</td>\n",
       "      <td>0.768984</td>\n",
       "      <td>918.106125</td>\n",
       "      <td>4.141264e+04</td>\n",
       "      <td>0.539683</td>\n",
       "      <td>827.759761</td>\n",
       "      <td>29.375234</td>\n",
       "      <td>399.946414</td>\n",
       "      <td>53.513072</td>\n",
       "      <td>0.138552</td>\n",
       "      <td>0.140724</td>\n",
       "      <td>685.230472</td>\n",
       "      <td>27274.441950</td>\n",
       "    </tr>\n",
       "    <tr>\n",
       "      <th>min</th>\n",
       "      <td>1.000102e+06</td>\n",
       "      <td>7.800000e+04</td>\n",
       "      <td>1.000000</td>\n",
       "      <td>0.500000</td>\n",
       "      <td>370.000000</td>\n",
       "      <td>5.200000e+02</td>\n",
       "      <td>1.000000</td>\n",
       "      <td>370.000000</td>\n",
       "      <td>1900.000000</td>\n",
       "      <td>0.000000</td>\n",
       "      <td>98001.000000</td>\n",
       "      <td>47.155900</td>\n",
       "      <td>-122.519000</td>\n",
       "      <td>399.000000</td>\n",
       "      <td>651.000000</td>\n",
       "    </tr>\n",
       "    <tr>\n",
       "      <th>25%</th>\n",
       "      <td>2.123049e+09</td>\n",
       "      <td>3.220000e+05</td>\n",
       "      <td>3.000000</td>\n",
       "      <td>1.750000</td>\n",
       "      <td>1430.000000</td>\n",
       "      <td>5.040000e+03</td>\n",
       "      <td>1.000000</td>\n",
       "      <td>1190.000000</td>\n",
       "      <td>1951.000000</td>\n",
       "      <td>0.000000</td>\n",
       "      <td>98033.000000</td>\n",
       "      <td>47.471100</td>\n",
       "      <td>-122.328000</td>\n",
       "      <td>1490.000000</td>\n",
       "      <td>5100.000000</td>\n",
       "    </tr>\n",
       "    <tr>\n",
       "      <th>50%</th>\n",
       "      <td>3.904930e+09</td>\n",
       "      <td>4.500000e+05</td>\n",
       "      <td>3.000000</td>\n",
       "      <td>2.250000</td>\n",
       "      <td>1910.000000</td>\n",
       "      <td>7.618000e+03</td>\n",
       "      <td>1.500000</td>\n",
       "      <td>1560.000000</td>\n",
       "      <td>1975.000000</td>\n",
       "      <td>0.000000</td>\n",
       "      <td>98065.000000</td>\n",
       "      <td>47.571800</td>\n",
       "      <td>-122.231000</td>\n",
       "      <td>1840.000000</td>\n",
       "      <td>7620.000000</td>\n",
       "    </tr>\n",
       "    <tr>\n",
       "      <th>75%</th>\n",
       "      <td>7.308900e+09</td>\n",
       "      <td>6.450000e+05</td>\n",
       "      <td>4.000000</td>\n",
       "      <td>2.500000</td>\n",
       "      <td>2550.000000</td>\n",
       "      <td>1.068500e+04</td>\n",
       "      <td>2.000000</td>\n",
       "      <td>2210.000000</td>\n",
       "      <td>1997.000000</td>\n",
       "      <td>0.000000</td>\n",
       "      <td>98118.000000</td>\n",
       "      <td>47.678000</td>\n",
       "      <td>-122.125000</td>\n",
       "      <td>2360.000000</td>\n",
       "      <td>10083.000000</td>\n",
       "    </tr>\n",
       "    <tr>\n",
       "      <th>max</th>\n",
       "      <td>9.900000e+09</td>\n",
       "      <td>7.700000e+06</td>\n",
       "      <td>33.000000</td>\n",
       "      <td>8.000000</td>\n",
       "      <td>13540.000000</td>\n",
       "      <td>1.651359e+06</td>\n",
       "      <td>3.500000</td>\n",
       "      <td>9410.000000</td>\n",
       "      <td>2015.000000</td>\n",
       "      <td>2015.000000</td>\n",
       "      <td>98199.000000</td>\n",
       "      <td>47.777600</td>\n",
       "      <td>-121.315000</td>\n",
       "      <td>6210.000000</td>\n",
       "      <td>871200.000000</td>\n",
       "    </tr>\n",
       "  </tbody>\n",
       "</table>\n",
       "</div>"
      ],
      "text/plain": [
       "                 id         price      bedrooms     bathrooms   sqft_living  \\\n",
       "count  2.159700e+04  2.159700e+04  21597.000000  21597.000000  21597.000000   \n",
       "mean   4.580474e+09  5.402966e+05      3.373200      2.115826   2080.321850   \n",
       "std    2.876736e+09  3.673681e+05      0.926299      0.768984    918.106125   \n",
       "min    1.000102e+06  7.800000e+04      1.000000      0.500000    370.000000   \n",
       "25%    2.123049e+09  3.220000e+05      3.000000      1.750000   1430.000000   \n",
       "50%    3.904930e+09  4.500000e+05      3.000000      2.250000   1910.000000   \n",
       "75%    7.308900e+09  6.450000e+05      4.000000      2.500000   2550.000000   \n",
       "max    9.900000e+09  7.700000e+06     33.000000      8.000000  13540.000000   \n",
       "\n",
       "           sqft_lot        floors    sqft_above      yr_built  yr_renovated  \\\n",
       "count  2.159700e+04  21597.000000  21597.000000  21597.000000  17755.000000   \n",
       "mean   1.509941e+04      1.494096   1788.596842   1970.999676     83.636778   \n",
       "std    4.141264e+04      0.539683    827.759761     29.375234    399.946414   \n",
       "min    5.200000e+02      1.000000    370.000000   1900.000000      0.000000   \n",
       "25%    5.040000e+03      1.000000   1190.000000   1951.000000      0.000000   \n",
       "50%    7.618000e+03      1.500000   1560.000000   1975.000000      0.000000   \n",
       "75%    1.068500e+04      2.000000   2210.000000   1997.000000      0.000000   \n",
       "max    1.651359e+06      3.500000   9410.000000   2015.000000   2015.000000   \n",
       "\n",
       "            zipcode           lat          long  sqft_living15     sqft_lot15  \n",
       "count  21597.000000  21597.000000  21597.000000   21597.000000   21597.000000  \n",
       "mean   98077.951845     47.560093   -122.213982    1986.620318   12758.283512  \n",
       "std       53.513072      0.138552      0.140724     685.230472   27274.441950  \n",
       "min    98001.000000     47.155900   -122.519000     399.000000     651.000000  \n",
       "25%    98033.000000     47.471100   -122.328000    1490.000000    5100.000000  \n",
       "50%    98065.000000     47.571800   -122.231000    1840.000000    7620.000000  \n",
       "75%    98118.000000     47.678000   -122.125000    2360.000000   10083.000000  \n",
       "max    98199.000000     47.777600   -121.315000    6210.000000  871200.000000  "
      ]
     },
     "execution_count": 66,
     "metadata": {},
     "output_type": "execute_result"
    }
   ],
   "source": [
    "# Summary statistic for the dataframe\n",
    "data.describe()"
   ]
  },
  {
   "cell_type": "code",
   "execution_count": 67,
   "metadata": {},
   "outputs": [
    {
     "name": "stdout",
     "output_type": "stream",
     "text": [
      "id                  0\n",
      "date                0\n",
      "price               0\n",
      "bedrooms            0\n",
      "bathrooms           0\n",
      "sqft_living         0\n",
      "sqft_lot            0\n",
      "floors              0\n",
      "waterfront       2376\n",
      "view               63\n",
      "condition           0\n",
      "grade               0\n",
      "sqft_above          0\n",
      "sqft_basement       0\n",
      "yr_built            0\n",
      "yr_renovated     3842\n",
      "zipcode             0\n",
      "lat                 0\n",
      "long                0\n",
      "sqft_living15       0\n",
      "sqft_lot15          0\n",
      "dtype: int64\n"
     ]
    }
   ],
   "source": [
    "# Check for missing values\n",
    "print(data.isna().sum())"
   ]
  },
  {
   "cell_type": "code",
   "execution_count": 68,
   "metadata": {
    "scrolled": true
   },
   "outputs": [
    {
     "name": "stdout",
     "output_type": "stream",
     "text": [
      "[nan 'NO' 'YES']\n"
     ]
    }
   ],
   "source": [
    "# unique values for the waterfront column\n",
    "unique_waterfront_values = data['waterfront'].unique()\n",
    "print(unique_waterfront_values)"
   ]
  },
  {
   "cell_type": "code",
   "execution_count": 69,
   "metadata": {},
   "outputs": [
    {
     "name": "stdout",
     "output_type": "stream",
     "text": [
      "['7 Average' '6 Low Average' '8 Good' '11 Excellent' '9 Better' '5 Fair'\n",
      " '10 Very Good' '12 Luxury' '4 Low' '3 Poor' '13 Mansion']\n"
     ]
    }
   ],
   "source": [
    "# unique values for the grade column\n",
    "unique_grade_values = data['grade'].unique()\n",
    "print(unique_grade_values)"
   ]
  },
  {
   "cell_type": "code",
   "execution_count": 70,
   "metadata": {},
   "outputs": [
    {
     "data": {
      "text/plain": [
       "NO     19075\n",
       "YES      146\n",
       "Name: waterfront, dtype: int64"
      ]
     },
     "execution_count": 70,
     "metadata": {},
     "output_type": "execute_result"
    }
   ],
   "source": [
    "# viewing value counts for the waterfront column\n",
    "data[\"waterfront\"].value_counts()"
   ]
  },
  {
   "cell_type": "code",
   "execution_count": 71,
   "metadata": {
    "scrolled": true
   },
   "outputs": [
    {
     "name": "stdout",
     "output_type": "stream",
     "text": [
      "['NONE' nan 'GOOD' 'EXCELLENT' 'AVERAGE' 'FAIR']\n"
     ]
    }
   ],
   "source": [
    "#unique values for view column\n",
    "unique_view_values = data['view'].unique()\n",
    "print(unique_view_values)"
   ]
  },
  {
   "cell_type": "code",
   "execution_count": 72,
   "metadata": {},
   "outputs": [
    {
     "data": {
      "text/plain": [
       "NONE         19422\n",
       "AVERAGE        957\n",
       "GOOD           508\n",
       "FAIR           330\n",
       "EXCELLENT      317\n",
       "Name: view, dtype: int64"
      ]
     },
     "execution_count": 72,
     "metadata": {},
     "output_type": "execute_result"
    }
   ],
   "source": [
    "# viewing value counts for the view column\n",
    "data[\"view\"].value_counts()"
   ]
  },
  {
   "cell_type": "code",
   "execution_count": 73,
   "metadata": {},
   "outputs": [
    {
     "name": "stdout",
     "output_type": "stream",
     "text": [
      "[   0. 1991.   nan 2002. 2010. 1992. 2013. 1994. 1978. 2005. 2003. 1984.\n",
      " 1954. 2014. 2011. 1983. 1945. 1990. 1988. 1977. 1981. 1995. 2000. 1999.\n",
      " 1998. 1970. 1989. 2004. 1986. 2007. 1987. 2006. 1985. 2001. 1980. 1971.\n",
      " 1979. 1997. 1950. 1969. 1948. 2009. 2015. 1974. 2008. 1968. 2012. 1963.\n",
      " 1951. 1962. 1953. 1993. 1996. 1955. 1982. 1956. 1940. 1976. 1946. 1975.\n",
      " 1964. 1973. 1957. 1959. 1960. 1967. 1965. 1934. 1972. 1944. 1958.]\n"
     ]
    }
   ],
   "source": [
    "#unique values for yr_renovated column\n",
    "unique_yr_renovated_values = data['yr_renovated'].unique()\n",
    "print(unique_yr_renovated_values)"
   ]
  },
  {
   "cell_type": "code",
   "execution_count": 74,
   "metadata": {},
   "outputs": [
    {
     "data": {
      "text/plain": [
       "0.0       17011\n",
       "2014.0       73\n",
       "2003.0       31\n",
       "2013.0       31\n",
       "2007.0       30\n",
       "          ...  \n",
       "1946.0        1\n",
       "1959.0        1\n",
       "1971.0        1\n",
       "1951.0        1\n",
       "1954.0        1\n",
       "Name: yr_renovated, Length: 70, dtype: int64"
      ]
     },
     "execution_count": 74,
     "metadata": {},
     "output_type": "execute_result"
    }
   ],
   "source": [
    "# viewing value counts for the view column\n",
    "data[\"yr_renovated\"].value_counts()"
   ]
  },
  {
   "cell_type": "code",
   "execution_count": 75,
   "metadata": {},
   "outputs": [
    {
     "data": {
      "text/plain": [
       "0.11001527989998611"
      ]
     },
     "execution_count": 75,
     "metadata": {},
     "output_type": "execute_result"
    }
   ],
   "source": [
    "# calculating the percentage of the missing null values\n",
    "data['waterfront'].isnull().mean()"
   ]
  },
  {
   "cell_type": "code",
   "execution_count": 76,
   "metadata": {},
   "outputs": [
    {
     "data": {
      "text/plain": [
       "0.17789507802009538"
      ]
     },
     "execution_count": 76,
     "metadata": {},
     "output_type": "execute_result"
    }
   ],
   "source": [
    "# calculating the percentage of the missing null values\n",
    "data['yr_renovated'].isnull().mean()"
   ]
  },
  {
   "cell_type": "code",
   "execution_count": 77,
   "metadata": {},
   "outputs": [
    {
     "data": {
      "text/plain": [
       "0.0029170718155299346"
      ]
     },
     "execution_count": 77,
     "metadata": {},
     "output_type": "execute_result"
    }
   ],
   "source": [
    "# calculating the percentage of the missing null values\n",
    "data['view'].isnull().mean()"
   ]
  },
  {
   "cell_type": "markdown",
   "metadata": {},
   "source": [
    "Through our analysis we decided to drop rows with missing values as the number of missing values was not significant to affect the analysis outcome "
   ]
  },
  {
   "cell_type": "code",
   "execution_count": 78,
   "metadata": {},
   "outputs": [],
   "source": [
    "# Drop rows with missing values\n",
    "data.dropna(inplace=True)"
   ]
  },
  {
   "cell_type": "code",
   "execution_count": 79,
   "metadata": {},
   "outputs": [
    {
     "data": {
      "text/plain": [
       "id               0\n",
       "date             0\n",
       "price            0\n",
       "bedrooms         0\n",
       "bathrooms        0\n",
       "sqft_living      0\n",
       "sqft_lot         0\n",
       "floors           0\n",
       "waterfront       0\n",
       "view             0\n",
       "condition        0\n",
       "grade            0\n",
       "sqft_above       0\n",
       "sqft_basement    0\n",
       "yr_built         0\n",
       "yr_renovated     0\n",
       "zipcode          0\n",
       "lat              0\n",
       "long             0\n",
       "sqft_living15    0\n",
       "sqft_lot15       0\n",
       "dtype: int64"
      ]
     },
     "execution_count": 79,
     "metadata": {},
     "output_type": "execute_result"
    }
   ],
   "source": [
    "#check if all the rows with missing values were droped \n",
    "data.isna().sum()"
   ]
  },
  {
   "cell_type": "code",
   "execution_count": 80,
   "metadata": {},
   "outputs": [
    {
     "data": {
      "text/plain": [
       "0"
      ]
     },
     "execution_count": 80,
     "metadata": {},
     "output_type": "execute_result"
    }
   ],
   "source": [
    "# Check for duplicate rows in the entire DataFrame\n",
    "duplicates = data.duplicated().sum ()\n",
    "duplicates"
   ]
  },
  {
   "cell_type": "markdown",
   "metadata": {},
   "source": [
    "## Data type conversion"
   ]
  },
  {
   "cell_type": "code",
   "execution_count": 81,
   "metadata": {},
   "outputs": [
    {
     "name": "stdout",
     "output_type": "stream",
     "text": [
      "<class 'pandas.core.frame.DataFrame'>\n",
      "Int64Index: 15762 entries, 1 to 21596\n",
      "Data columns (total 21 columns):\n",
      " #   Column         Non-Null Count  Dtype  \n",
      "---  ------         --------------  -----  \n",
      " 0   id             15762 non-null  int64  \n",
      " 1   date           15762 non-null  object \n",
      " 2   price          15762 non-null  float64\n",
      " 3   bedrooms       15762 non-null  int64  \n",
      " 4   bathrooms      15762 non-null  float64\n",
      " 5   sqft_living    15762 non-null  int64  \n",
      " 6   sqft_lot       15762 non-null  int64  \n",
      " 7   floors         15762 non-null  float64\n",
      " 8   waterfront     15762 non-null  object \n",
      " 9   view           15762 non-null  object \n",
      " 10  condition      15762 non-null  object \n",
      " 11  grade          15762 non-null  object \n",
      " 12  sqft_above     15762 non-null  int64  \n",
      " 13  sqft_basement  15762 non-null  object \n",
      " 14  yr_built       15762 non-null  int64  \n",
      " 15  yr_renovated   15762 non-null  float64\n",
      " 16  zipcode        15762 non-null  int64  \n",
      " 17  lat            15762 non-null  float64\n",
      " 18  long           15762 non-null  float64\n",
      " 19  sqft_living15  15762 non-null  int64  \n",
      " 20  sqft_lot15     15762 non-null  int64  \n",
      "dtypes: float64(6), int64(9), object(6)\n",
      "memory usage: 2.6+ MB\n"
     ]
    }
   ],
   "source": [
    "# having a general view of the data columns \n",
    "data.info()"
   ]
  },
  {
   "cell_type": "markdown",
   "metadata": {},
   "source": [
    "We decided to convert the below columns to datetime values "
   ]
  },
  {
   "cell_type": "code",
   "execution_count": 82,
   "metadata": {},
   "outputs": [],
   "source": [
    "data['yr_built']=pd.to_datetime(data['yr_built'])"
   ]
  },
  {
   "cell_type": "code",
   "execution_count": 83,
   "metadata": {},
   "outputs": [],
   "source": [
    "data['yr_renovated']=pd.to_datetime(data['yr_renovated'])"
   ]
  },
  {
   "cell_type": "code",
   "execution_count": 84,
   "metadata": {},
   "outputs": [],
   "source": [
    "data['date']=pd.to_datetime(data['date'])"
   ]
  },
  {
   "cell_type": "code",
   "execution_count": 85,
   "metadata": {},
   "outputs": [
    {
     "name": "stdout",
     "output_type": "stream",
     "text": [
      "<class 'pandas.core.frame.DataFrame'>\n",
      "Int64Index: 15762 entries, 1 to 21596\n",
      "Data columns (total 21 columns):\n",
      " #   Column         Non-Null Count  Dtype         \n",
      "---  ------         --------------  -----         \n",
      " 0   id             15762 non-null  int64         \n",
      " 1   date           15762 non-null  datetime64[ns]\n",
      " 2   price          15762 non-null  float64       \n",
      " 3   bedrooms       15762 non-null  int64         \n",
      " 4   bathrooms      15762 non-null  float64       \n",
      " 5   sqft_living    15762 non-null  int64         \n",
      " 6   sqft_lot       15762 non-null  int64         \n",
      " 7   floors         15762 non-null  float64       \n",
      " 8   waterfront     15762 non-null  object        \n",
      " 9   view           15762 non-null  object        \n",
      " 10  condition      15762 non-null  object        \n",
      " 11  grade          15762 non-null  object        \n",
      " 12  sqft_above     15762 non-null  int64         \n",
      " 13  sqft_basement  15762 non-null  object        \n",
      " 14  yr_built       15762 non-null  datetime64[ns]\n",
      " 15  yr_renovated   15762 non-null  datetime64[ns]\n",
      " 16  zipcode        15762 non-null  int64         \n",
      " 17  lat            15762 non-null  float64       \n",
      " 18  long           15762 non-null  float64       \n",
      " 19  sqft_living15  15762 non-null  int64         \n",
      " 20  sqft_lot15     15762 non-null  int64         \n",
      "dtypes: datetime64[ns](3), float64(5), int64(8), object(5)\n",
      "memory usage: 2.6+ MB\n"
     ]
    }
   ],
   "source": [
    "#cheking if the columns were coverted to datatime\n",
    "data.info()"
   ]
  },
  {
   "cell_type": "code",
   "execution_count": 86,
   "metadata": {},
   "outputs": [
    {
     "data": {
      "image/png": "[encoded data removed]",
      "text/plain": [
       "<Figure size 432x288 with 1 Axes>"
      ]
     },
     "metadata": {
      "needs_background": "light"
     },
     "output_type": "display_data"
    }
   ],
   "source": [
    "# check for outliers on the price column\n",
    "sns.histplot(x=data['price'])\n",
    "plt.show()"
   ]
  },
  {
   "cell_type": "code",
   "execution_count": 87,
   "metadata": {},
   "outputs": [
    {
     "data": {
      "image/png": "[encoded data removed]",
      "text/plain": [
       "<Figure size 432x288 with 1 Axes>"
      ]
     },
     "metadata": {
      "needs_background": "light"
     },
     "output_type": "display_data"
    }
   ],
   "source": [
    "#check for outliers on the sqft_living column\n",
    "sns.histplot(x=data['sqft_living'])\n",
    "plt.show()"
   ]
  },
  {
   "cell_type": "code",
   "execution_count": 88,
   "metadata": {},
   "outputs": [
    {
     "data": {
      "image/png": "[encoded data removed]",
      "text/plain": [
       "<Figure size 432x288 with 1 Axes>"
      ]
     },
     "metadata": {
      "needs_background": "light"
     },
     "output_type": "display_data"
    }
   ],
   "source": [
    "#check for outliers on the yr_built column\n",
    "sns.histplot(x=data['yr_built'])\n",
    "plt.show()"
   ]
  },
  {
   "cell_type": "markdown",
   "metadata": {},
   "source": [
    "### Linear Regression"
   ]
  },
  {
   "cell_type": "code",
   "execution_count": 89,
   "metadata": {},
   "outputs": [
    {
     "data": {
      "text/plain": [
       "id              -0.015183\n",
       "price            1.000000\n",
       "bedrooms         0.305489\n",
       "bathrooms        0.526155\n",
       "sqft_living      0.706189\n",
       "sqft_lot         0.084504\n",
       "floors           0.259505\n",
       "sqft_above       0.612014\n",
       "zipcode         -0.049502\n",
       "lat              0.306607\n",
       "long             0.021215\n",
       "sqft_living15    0.581572\n",
       "sqft_lot15       0.079402\n",
       "Name: price, dtype: float64"
      ]
     },
     "execution_count": 89,
     "metadata": {},
     "output_type": "execute_result"
    }
   ],
   "source": [
    "# look at correlations between the other variables and price\n",
    "data.corr()[\"price\"]"
   ]
  },
  {
   "cell_type": "markdown",
   "metadata": {},
   "source": [
    "From the data in the cell above, we can see that sqft_living is the most positively correlated with price. Others that are positively correlated with prices include sqft_above, sqft_living15, and bathrooms."
   ]
  },
  {
   "cell_type": "markdown",
   "metadata": {},
   "source": [
    "## Answering our objectives\n",
    "What are the most significant factors that influence property prices in King County?\n"
   ]
  },
  {
   "cell_type": "code",
   "execution_count": 90,
   "metadata": {},
   "outputs": [],
   "source": [
    "# Select the independent variable and dependent variable\n",
    "X = data[['sqft_living']]  # Feature (square footage of living area)\n",
    "y = data['price']           # Target (property price)"
   ]
  },
  {
   "cell_type": "code",
   "execution_count": 91,
   "metadata": {},
   "outputs": [
    {
     "data": {
      "text/plain": [
       "<statsmodels.regression.linear_model.OLS at 0x214b3cfef10>"
      ]
     },
     "execution_count": 91,
     "metadata": {},
     "output_type": "execute_result"
    }
   ],
   "source": [
    "# Add a constant (intercept) term to the independent variable\n",
    "model = sm.OLS(y, sm.add_constant(X))\n",
    "model"
   ]
  },
  {
   "cell_type": "code",
   "execution_count": 92,
   "metadata": {},
   "outputs": [
    {
     "data": {
      "text/plain": [
       "<statsmodels.regression.linear_model.RegressionResultsWrapper at 0x214b3c82fa0>"
      ]
     },
     "execution_count": 92,
     "metadata": {},
     "output_type": "execute_result"
    }
   ],
   "source": [
    "# fit the model\n",
    "results = model.fit()\n",
    "results"
   ]
  },
  {
   "cell_type": "code",
   "execution_count": 93,
   "metadata": {},
   "outputs": [
    {
     "name": "stdout",
     "output_type": "stream",
     "text": [
      "                            OLS Regression Results                            \n",
      "==============================================================================\n",
      "Dep. Variable:                  price   R-squared:                       0.499\n",
      "Model:                            OLS   Adj. R-squared:                  0.499\n",
      "Method:                 Least Squares   F-statistic:                 1.568e+04\n",
      "Date:                Sat, 09 Sep 2023   Prob (F-statistic):               0.00\n",
      "Time:                        15:36:29   Log-Likelihood:            -2.1911e+05\n",
      "No. Observations:               15762   AIC:                         4.382e+05\n",
      "Df Residuals:                   15760   BIC:                         4.382e+05\n",
      "Df Model:                           1                                         \n",
      "Covariance Type:            nonrobust                                         \n",
      "===============================================================================\n",
      "                  coef    std err          t      P>|t|      [0.025      0.975]\n",
      "-------------------------------------------------------------------------------\n",
      "const       -5.516e+04   5205.744    -10.597      0.000   -6.54e+04    -4.5e+04\n",
      "sqft_living   286.1494      2.285    125.214      0.000     281.670     290.629\n",
      "==============================================================================\n",
      "Omnibus:                    11136.965   Durbin-Watson:                   1.970\n",
      "Prob(Omnibus):                  0.000   Jarque-Bera (JB):           457340.013\n",
      "Skew:                           2.910   Prob(JB):                         0.00\n",
      "Kurtosis:                      28.739   Cond. No.                     5.65e+03\n",
      "==============================================================================\n",
      "\n",
      "Notes:\n",
      "[1] Standard Errors assume that the covariance matrix of the errors is correctly specified.\n",
      "[2] The condition number is large, 5.65e+03. This might indicate that there are\n",
      "strong multicollinearity or other numerical problems.\n"
     ]
    }
   ],
   "source": [
    "# Print the summary of the regression model\n",
    "print(results.summary())"
   ]
  },
  {
   "cell_type": "markdown",
   "metadata": {},
   "source": [
    "####  Linear Regression Results"
   ]
  },
  {
   "cell_type": "markdown",
   "metadata": {},
   "source": [
    "Looking at the summary above, we can see that the regression line we found was\n",
    "\n",
    "price = -5.516e+04 + 286.1494sqft_living\n",
    " \n",
    "The model is statistically significant overall, with an F-statistic p-value well below 0.05\n",
    "\n",
    "The model explains about 49.9% of the variance in price\n",
    "\n",
    "The model coefficients (const and sqft_living) are both statistically significant, with t-statistic p-values well below 0.05"
   ]
  },
  {
   "cell_type": "markdown",
   "metadata": {},
   "source": [
    "#### Linear Regression Visualization"
   ]
  },
  {
   "cell_type": "code",
   "execution_count": 94,
   "metadata": {
    "scrolled": true
   },
   "outputs": [
    {
     "data": {
      "image/png": "[encoded data removed]",
      "text/plain": [
       "<Figure size 432x288 with 1 Axes>"
      ]
     },
     "metadata": {
      "needs_background": "light"
     },
     "output_type": "display_data"
    }
   ],
   "source": [
    "sm.graphics.plot_fit(results, \"sqft_living\")\n",
    "plt.show()"
   ]
  },
  {
   "cell_type": "code",
   "execution_count": 95,
   "metadata": {},
   "outputs": [
    {
     "data": {
      "image/png": "[encoded data removed]",
      "text/plain": [
       "<Figure size 432x288 with 1 Axes>"
      ]
     },
     "metadata": {
      "needs_background": "light"
     },
     "output_type": "display_data"
    }
   ],
   "source": [
    "# the regression line\n",
    "fig, ax = plt.subplots()\n",
    "data.plot.scatter(x=\"sqft_living\", y=\"price\", label=\"Data points\", ax=ax)\n",
    "sm.graphics.abline_plot(model_results = results, label=\"Regression line\", ax=ax, color=\"black\")\n",
    "ax.legend();"
   ]
  },
  {
   "cell_type": "code",
   "execution_count": 96,
   "metadata": {},
   "outputs": [
    {
     "data": {
      "image/png": "[encoded data removed]",
      "text/plain": [
       "<Figure size 432x288 with 1 Axes>"
      ]
     },
     "metadata": {
      "needs_background": "light"
     },
     "output_type": "display_data"
    }
   ],
   "source": [
    "# the residuals\n",
    "fig, ax = plt.subplots()\n",
    "\n",
    "ax.scatter(data[\"price\"], results.resid)\n",
    "ax.axhline(y=0, color=\"black\")\n",
    "ax.set_xlabel(\"sqft_living\")\n",
    "ax.set_ylabel(\"residuals\");"
   ]
  },
  {
   "cell_type": "markdown",
   "metadata": {},
   "source": [
    "### Multiple Linear Regression"
   ]
  },
  {
   "cell_type": "code",
   "execution_count": 97,
   "metadata": {},
   "outputs": [
    {
     "data": {
      "text/html": [
       "<div>\n",
       "<style scoped>\n",
       "    .dataframe tbody tr th:only-of-type {\n",
       "        vertical-align: middle;\n",
       "    }\n",
       "\n",
       "    .dataframe tbody tr th {\n",
       "        vertical-align: top;\n",
       "    }\n",
       "\n",
       "    .dataframe thead th {\n",
       "        text-align: right;\n",
       "    }\n",
       "</style>\n",
       "<table border=\"1\" class=\"dataframe\">\n",
       "  <thead>\n",
       "    <tr style=\"text-align: right;\">\n",
       "      <th></th>\n",
       "      <th>sqft_living</th>\n",
       "      <th>bathrooms</th>\n",
       "      <th>bedrooms</th>\n",
       "    </tr>\n",
       "  </thead>\n",
       "  <tbody>\n",
       "    <tr>\n",
       "      <th>1</th>\n",
       "      <td>2570</td>\n",
       "      <td>2.25</td>\n",
       "      <td>3</td>\n",
       "    </tr>\n",
       "    <tr>\n",
       "      <th>3</th>\n",
       "      <td>1960</td>\n",
       "      <td>3.00</td>\n",
       "      <td>4</td>\n",
       "    </tr>\n",
       "    <tr>\n",
       "      <th>4</th>\n",
       "      <td>1680</td>\n",
       "      <td>2.00</td>\n",
       "      <td>3</td>\n",
       "    </tr>\n",
       "    <tr>\n",
       "      <th>5</th>\n",
       "      <td>5420</td>\n",
       "      <td>4.50</td>\n",
       "      <td>4</td>\n",
       "    </tr>\n",
       "    <tr>\n",
       "      <th>6</th>\n",
       "      <td>1715</td>\n",
       "      <td>2.25</td>\n",
       "      <td>3</td>\n",
       "    </tr>\n",
       "    <tr>\n",
       "      <th>...</th>\n",
       "      <td>...</td>\n",
       "      <td>...</td>\n",
       "      <td>...</td>\n",
       "    </tr>\n",
       "    <tr>\n",
       "      <th>21591</th>\n",
       "      <td>1310</td>\n",
       "      <td>2.50</td>\n",
       "      <td>3</td>\n",
       "    </tr>\n",
       "    <tr>\n",
       "      <th>21592</th>\n",
       "      <td>1530</td>\n",
       "      <td>2.50</td>\n",
       "      <td>3</td>\n",
       "    </tr>\n",
       "    <tr>\n",
       "      <th>21593</th>\n",
       "      <td>2310</td>\n",
       "      <td>2.50</td>\n",
       "      <td>4</td>\n",
       "    </tr>\n",
       "    <tr>\n",
       "      <th>21594</th>\n",
       "      <td>1020</td>\n",
       "      <td>0.75</td>\n",
       "      <td>2</td>\n",
       "    </tr>\n",
       "    <tr>\n",
       "      <th>21596</th>\n",
       "      <td>1020</td>\n",
       "      <td>0.75</td>\n",
       "      <td>2</td>\n",
       "    </tr>\n",
       "  </tbody>\n",
       "</table>\n",
       "<p>15762 rows × 3 columns</p>\n",
       "</div>"
      ],
      "text/plain": [
       "       sqft_living  bathrooms  bedrooms\n",
       "1             2570       2.25         3\n",
       "3             1960       3.00         4\n",
       "4             1680       2.00         3\n",
       "5             5420       4.50         4\n",
       "6             1715       2.25         3\n",
       "...            ...        ...       ...\n",
       "21591         1310       2.50         3\n",
       "21592         1530       2.50         3\n",
       "21593         2310       2.50         4\n",
       "21594         1020       0.75         2\n",
       "21596         1020       0.75         2\n",
       "\n",
       "[15762 rows x 3 columns]"
      ]
     },
     "execution_count": 97,
     "metadata": {},
     "output_type": "execute_result"
    }
   ],
   "source": [
    "# adding another independent variable\n",
    "X_second = data[[\"sqft_living\", \"bathrooms\", \"bedrooms\"]]\n",
    "X_second"
   ]
  },
  {
   "cell_type": "code",
   "execution_count": 98,
   "metadata": {},
   "outputs": [
    {
     "name": "stdout",
     "output_type": "stream",
     "text": [
      "                            OLS Regression Results                            \n",
      "==============================================================================\n",
      "Dep. Variable:                  price   R-squared:                       0.514\n",
      "Model:                            OLS   Adj. R-squared:                  0.513\n",
      "Method:                 Least Squares   F-statistic:                     5545.\n",
      "Date:                Sat, 09 Sep 2023   Prob (F-statistic):               0.00\n",
      "Time:                        15:36:31   Log-Likelihood:            -2.1887e+05\n",
      "No. Observations:               15762   AIC:                         4.377e+05\n",
      "Df Residuals:                   15758   BIC:                         4.378e+05\n",
      "Df Model:                           3                                         \n",
      "Covariance Type:            nonrobust                                         \n",
      "===============================================================================\n",
      "                  coef    std err          t      P>|t|      [0.025      0.975]\n",
      "-------------------------------------------------------------------------------\n",
      "const         6.86e+04   8155.577      8.411      0.000    5.26e+04    8.46e+04\n",
      "sqft_living   316.9197      3.633     87.242      0.000     309.799     324.040\n",
      "bathrooms    6491.4498   4150.903      1.564      0.118   -1644.796    1.46e+04\n",
      "bedrooms    -5.968e+04   2729.552    -21.866      0.000    -6.5e+04   -5.43e+04\n",
      "==============================================================================\n",
      "Omnibus:                    10819.360   Durbin-Watson:                   1.971\n",
      "Prob(Omnibus):                  0.000   Jarque-Bera (JB):           409070.539\n",
      "Skew:                           2.812   Prob(JB):                         0.00\n",
      "Kurtosis:                      27.316   Cond. No.                     9.33e+03\n",
      "==============================================================================\n",
      "\n",
      "Notes:\n",
      "[1] Standard Errors assume that the covariance matrix of the errors is correctly specified.\n",
      "[2] The condition number is large, 9.33e+03. This might indicate that there are\n",
      "strong multicollinearity or other numerical problems.\n"
     ]
    }
   ],
   "source": [
    "second_model = sm.OLS(y, sm.add_constant(X_second))\n",
    "second_results = second_model.fit()\n",
    "\n",
    "print(second_results.summary())"
   ]
  },
  {
   "cell_type": "markdown",
   "metadata": {},
   "source": [
    "#### Model with Three Features Results"
   ]
  },
  {
   "cell_type": "markdown",
   "metadata": {},
   "source": [
    "This time, the model we built was:\n",
    "\n",
    "price = 6.86e+04 + 316.9197sqft_living + 6491.4498bathrooms -5.968e+04bedrooms\n",
    " \n",
    "The model is statistically significant overall, with an F-statistic p-value well below 0.05\n",
    "\n",
    "The model explains about 51% of the variance in price which is a bit higher than the baseline model\n",
    "\n",
    "The model coefficients (const, sqft_living, bedrooms) are both statistically significant, with t-statistic p-values well below 0.05 while coefficient (bathrooms) is above the significance value of 0.05\n",
    "\n",
    "There is a slight increase than we saw with the baseline model, the adjusted r-squared value has increased. This means that bathrooms and bedrooms was meaningfully confounding in the relationship between sqft_living and price"
   ]
  },
  {
   "cell_type": "markdown",
   "metadata": {},
   "source": [
    "#### Model with Three Features Visualization"
   ]
  },
  {
   "cell_type": "code",
   "execution_count": 99,
   "metadata": {},
   "outputs": [
    {
     "data": {
      "image/png": "[encoded data removed]",
      "text/plain": [
       "<Figure size 432x288 with 1 Axes>"
      ]
     },
     "metadata": {
      "needs_background": "light"
     },
     "output_type": "display_data"
    }
   ],
   "source": [
    "# fitted values vs. sqft_living\n",
    "sm.graphics.plot_fit(second_results, \"sqft_living\")\n",
    "plt.show()"
   ]
  },
  {
   "cell_type": "code",
   "execution_count": 100,
   "metadata": {},
   "outputs": [
    {
     "data": {
      "image/png": "[encoded data removed]",
      "text/plain": [
       "<Figure size 432x288 with 1 Axes>"
      ]
     },
     "metadata": {
      "needs_background": "light"
     },
     "output_type": "display_data"
    }
   ],
   "source": [
    "# fitted values vs. bathrooms\n",
    "sm.graphics.plot_fit(second_results, \"bathrooms\")\n",
    "plt.show()"
   ]
  },
  {
   "cell_type": "markdown",
   "metadata": {},
   "source": [
    "#### Partial Regression Plot\n",
    "Instead of a basic scatter plot with a best-fit line (since our model is now higher-dimensional), we'll use two partial regression plots, one for each of our predictors."
   ]
  },
  {
   "cell_type": "code",
   "execution_count": 101,
   "metadata": {},
   "outputs": [
    {
     "data": {
      "image/png": "[encoded data removed]",
      "text/plain": [
       "<Figure size 1080x576 with 3 Axes>"
      ]
     },
     "metadata": {
      "needs_background": "light"
     },
     "output_type": "display_data"
    }
   ],
   "source": [
    "# partial regression plot\n",
    "fig = plt.figure(figsize=(15,8))\n",
    "sm.graphics.plot_partregress_grid(second_results, exog_idx=[\"sqft_living\", \"bathrooms\", \"bedrooms\"], fig=fig)\n",
    "plt.tight_layout()\n",
    "plt.show()"
   ]
  },
  {
   "cell_type": "markdown",
   "metadata": {},
   "source": [
    "The partial regression plot for bathrooms and bedrooms is similarly showing the marginal contribution of bathrooms and bedrooms compared to a model with just sqft_living.\n",
    "\n",
    "A reasonable conclusion to reach, looking at these plots, is that bathrooms and bedrooms is useful and should be included in the model."
   ]
  },
  {
   "cell_type": "markdown",
   "metadata": {},
   "source": [
    "### How does the condition , view and waterfront access impact property values?\n",
    "Below we performed one-hot encoding to replace the string objects in some columns with numeric values"
   ]
  },
  {
   "cell_type": "code",
   "execution_count": 102,
   "metadata": {},
   "outputs": [],
   "source": [
    "# replaces condition objects with numerics based on data dict.\n",
    "condition_dict = {'Poor':1,'Fair':2,'Average':3,'Good':4,'Very Good':5}\n",
    "data.condition.replace(to_replace=condition_dict,inplace=True)\n",
    "\n",
    "# convert waterfront into numeric boolean\n",
    "waterfront_bool_dict = {'YES':1,'NO':0,np.nan:0}\n",
    "data.waterfront.replace(to_replace=waterfront_bool_dict,inplace=True)\n",
    "\n",
    "# convert view from string into categorical ordinal\n",
    "view_dict = {np.nan:0,'NONE':0,'FAIR':1,'AVERAGE':2,'GOOD':3,'EXCELLENT':4}\n",
    "data.view.replace(to_replace=view_dict,inplace=True)\n",
    "\n",
    "# convert grade from string into numerical datatypes\n",
    "grade_dict = {'3 Poor': 3, '4 Low': 4, '5 Fair':5, '6 Low Average': 6,'7 Average': 7, '8 Good': 8, '9 Better':9, \n",
    "              '10 Very Good': 10, '11 Excellent': 11, '12 Luxury': 12, '13 Mansion': 13}\n",
    "data.grade.replace(to_replace=grade_dict,inplace=True)                  "
   ]
  },
  {
   "cell_type": "code",
   "execution_count": 121,
   "metadata": {},
   "outputs": [
    {
     "data": {
      "text/html": [
       "<div>\n",
       "<style scoped>\n",
       "    .dataframe tbody tr th:only-of-type {\n",
       "        vertical-align: middle;\n",
       "    }\n",
       "\n",
       "    .dataframe tbody tr th {\n",
       "        vertical-align: top;\n",
       "    }\n",
       "\n",
       "    .dataframe thead th {\n",
       "        text-align: right;\n",
       "    }\n",
       "</style>\n",
       "<table border=\"1\" class=\"dataframe\">\n",
       "  <thead>\n",
       "    <tr style=\"text-align: right;\">\n",
       "      <th></th>\n",
       "      <th>condition</th>\n",
       "      <th>waterfront</th>\n",
       "      <th>view</th>\n",
       "      <th>grade</th>\n",
       "    </tr>\n",
       "  </thead>\n",
       "  <tbody>\n",
       "    <tr>\n",
       "      <th>1</th>\n",
       "      <td>3</td>\n",
       "      <td>0</td>\n",
       "      <td>0</td>\n",
       "      <td>7</td>\n",
       "    </tr>\n",
       "    <tr>\n",
       "      <th>3</th>\n",
       "      <td>5</td>\n",
       "      <td>0</td>\n",
       "      <td>0</td>\n",
       "      <td>7</td>\n",
       "    </tr>\n",
       "    <tr>\n",
       "      <th>4</th>\n",
       "      <td>3</td>\n",
       "      <td>0</td>\n",
       "      <td>0</td>\n",
       "      <td>8</td>\n",
       "    </tr>\n",
       "    <tr>\n",
       "      <th>5</th>\n",
       "      <td>3</td>\n",
       "      <td>0</td>\n",
       "      <td>0</td>\n",
       "      <td>11</td>\n",
       "    </tr>\n",
       "    <tr>\n",
       "      <th>6</th>\n",
       "      <td>3</td>\n",
       "      <td>0</td>\n",
       "      <td>0</td>\n",
       "      <td>7</td>\n",
       "    </tr>\n",
       "    <tr>\n",
       "      <th>...</th>\n",
       "      <td>...</td>\n",
       "      <td>...</td>\n",
       "      <td>...</td>\n",
       "      <td>...</td>\n",
       "    </tr>\n",
       "    <tr>\n",
       "      <th>21591</th>\n",
       "      <td>3</td>\n",
       "      <td>0</td>\n",
       "      <td>0</td>\n",
       "      <td>8</td>\n",
       "    </tr>\n",
       "    <tr>\n",
       "      <th>21592</th>\n",
       "      <td>3</td>\n",
       "      <td>0</td>\n",
       "      <td>0</td>\n",
       "      <td>8</td>\n",
       "    </tr>\n",
       "    <tr>\n",
       "      <th>21593</th>\n",
       "      <td>3</td>\n",
       "      <td>0</td>\n",
       "      <td>0</td>\n",
       "      <td>8</td>\n",
       "    </tr>\n",
       "    <tr>\n",
       "      <th>21594</th>\n",
       "      <td>3</td>\n",
       "      <td>0</td>\n",
       "      <td>0</td>\n",
       "      <td>7</td>\n",
       "    </tr>\n",
       "    <tr>\n",
       "      <th>21596</th>\n",
       "      <td>3</td>\n",
       "      <td>0</td>\n",
       "      <td>0</td>\n",
       "      <td>7</td>\n",
       "    </tr>\n",
       "  </tbody>\n",
       "</table>\n",
       "<p>15762 rows × 4 columns</p>\n",
       "</div>"
      ],
      "text/plain": [
       "       condition  waterfront  view  grade\n",
       "1              3           0     0      7\n",
       "3              5           0     0      7\n",
       "4              3           0     0      8\n",
       "5              3           0     0     11\n",
       "6              3           0     0      7\n",
       "...          ...         ...   ...    ...\n",
       "21591          3           0     0      8\n",
       "21592          3           0     0      8\n",
       "21593          3           0     0      8\n",
       "21594          3           0     0      7\n",
       "21596          3           0     0      7\n",
       "\n",
       "[15762 rows x 4 columns]"
      ]
     },
     "execution_count": 121,
     "metadata": {},
     "output_type": "execute_result"
    }
   ],
   "source": [
    "# an overview of our categorical columns with numeric values\n",
    "X_third = data[[\"condition\", \"waterfront\", \"view\", \"grade\"]]\n",
    "X_third"
   ]
  },
  {
   "cell_type": "code",
   "execution_count": 122,
   "metadata": {},
   "outputs": [
    {
     "name": "stdout",
     "output_type": "stream",
     "text": [
      "                            OLS Regression Results                            \n",
      "==============================================================================\n",
      "Dep. Variable:                  price   R-squared:                       0.530\n",
      "Model:                            OLS   Adj. R-squared:                  0.529\n",
      "Method:                 Least Squares   F-statistic:                     4435.\n",
      "Date:                Sat, 09 Sep 2023   Prob (F-statistic):               0.00\n",
      "Time:                        15:43:37   Log-Likelihood:            -2.1860e+05\n",
      "No. Observations:               15762   AIC:                         4.372e+05\n",
      "Df Residuals:                   15757   BIC:                         4.373e+05\n",
      "Df Model:                           4                                         \n",
      "Covariance Type:            nonrobust                                         \n",
      "==============================================================================\n",
      "                 coef    std err          t      P>|t|      [0.025      0.975]\n",
      "------------------------------------------------------------------------------\n",
      "const      -1.232e+06   1.89e+04    -65.036      0.000   -1.27e+06   -1.19e+06\n",
      "condition   6.638e+04   3166.077     20.965      0.000    6.02e+04    7.26e+04\n",
      "waterfront  6.365e+05   2.57e+04     24.810      0.000    5.86e+05    6.87e+05\n",
      "view        8.557e+04   3023.893     28.299      0.000    7.96e+04    9.15e+04\n",
      "grade       1.986e+05   1816.432    109.339      0.000    1.95e+05    2.02e+05\n",
      "==============================================================================\n",
      "Omnibus:                    14420.527   Durbin-Watson:                   1.969\n",
      "Prob(Omnibus):                  0.000   Jarque-Bera (JB):          1823222.375\n",
      "Skew:                           3.955   Prob(JB):                         0.00\n",
      "Kurtosis:                      55.092   Cond. No.                         108.\n",
      "==============================================================================\n",
      "\n",
      "Notes:\n",
      "[1] Standard Errors assume that the covariance matrix of the errors is correctly specified.\n"
     ]
    }
   ],
   "source": [
    "# building a third model\n",
    "third_model = sm.OLS(y, sm.add_constant(X_third))\n",
    "third_results = third_model.fit()\n",
    "\n",
    "print(third_results.summary())"
   ]
  },
  {
   "cell_type": "markdown",
   "metadata": {},
   "source": [
    "This time, the model we built was:\n",
    "\n",
    "price = -1.232e+06 + 6.638e+04condition + 6.365e+05waterfront + 8.557e+04view + 1.986e+05grade\n",
    " \n",
    "The model is statistically significant overall, with an F-statistic p-value well below 0.05\n",
    "\n",
    "The model explains about 53% of the variance in price which is higher than the baseline model.\n",
    "\n",
    "The model coefficients (const, condition, waterfront, view and grade) are both statistically significant, with t-statistic p-values well below 0.05."
   ]
  },
  {
   "cell_type": "markdown",
   "metadata": {},
   "source": [
    "### Multiple Linear Regression with all the all the numerical columns being added as features\n"
   ]
  },
  {
   "cell_type": "code",
   "execution_count": 105,
   "metadata": {},
   "outputs": [
    {
     "data": {
      "text/html": [
       "<div>\n",
       "<style scoped>\n",
       "    .dataframe tbody tr th:only-of-type {\n",
       "        vertical-align: middle;\n",
       "    }\n",
       "\n",
       "    .dataframe tbody tr th {\n",
       "        vertical-align: top;\n",
       "    }\n",
       "\n",
       "    .dataframe thead th {\n",
       "        text-align: right;\n",
       "    }\n",
       "</style>\n",
       "<table border=\"1\" class=\"dataframe\">\n",
       "  <thead>\n",
       "    <tr style=\"text-align: right;\">\n",
       "      <th></th>\n",
       "      <th>id</th>\n",
       "      <th>bedrooms</th>\n",
       "      <th>bathrooms</th>\n",
       "      <th>sqft_living</th>\n",
       "      <th>sqft_lot</th>\n",
       "      <th>floors</th>\n",
       "      <th>waterfront</th>\n",
       "      <th>view</th>\n",
       "      <th>condition</th>\n",
       "      <th>grade</th>\n",
       "      <th>sqft_above</th>\n",
       "      <th>zipcode</th>\n",
       "      <th>lat</th>\n",
       "      <th>long</th>\n",
       "      <th>sqft_living15</th>\n",
       "      <th>sqft_lot15</th>\n",
       "    </tr>\n",
       "  </thead>\n",
       "  <tbody>\n",
       "    <tr>\n",
       "      <th>1</th>\n",
       "      <td>6414100192</td>\n",
       "      <td>3</td>\n",
       "      <td>2.25</td>\n",
       "      <td>2570</td>\n",
       "      <td>7242</td>\n",
       "      <td>2.0</td>\n",
       "      <td>0</td>\n",
       "      <td>0</td>\n",
       "      <td>3</td>\n",
       "      <td>7</td>\n",
       "      <td>2170</td>\n",
       "      <td>98125</td>\n",
       "      <td>47.7210</td>\n",
       "      <td>-122.319</td>\n",
       "      <td>1690</td>\n",
       "      <td>7639</td>\n",
       "    </tr>\n",
       "    <tr>\n",
       "      <th>3</th>\n",
       "      <td>2487200875</td>\n",
       "      <td>4</td>\n",
       "      <td>3.00</td>\n",
       "      <td>1960</td>\n",
       "      <td>5000</td>\n",
       "      <td>1.0</td>\n",
       "      <td>0</td>\n",
       "      <td>0</td>\n",
       "      <td>5</td>\n",
       "      <td>7</td>\n",
       "      <td>1050</td>\n",
       "      <td>98136</td>\n",
       "      <td>47.5208</td>\n",
       "      <td>-122.393</td>\n",
       "      <td>1360</td>\n",
       "      <td>5000</td>\n",
       "    </tr>\n",
       "    <tr>\n",
       "      <th>4</th>\n",
       "      <td>1954400510</td>\n",
       "      <td>3</td>\n",
       "      <td>2.00</td>\n",
       "      <td>1680</td>\n",
       "      <td>8080</td>\n",
       "      <td>1.0</td>\n",
       "      <td>0</td>\n",
       "      <td>0</td>\n",
       "      <td>3</td>\n",
       "      <td>8</td>\n",
       "      <td>1680</td>\n",
       "      <td>98074</td>\n",
       "      <td>47.6168</td>\n",
       "      <td>-122.045</td>\n",
       "      <td>1800</td>\n",
       "      <td>7503</td>\n",
       "    </tr>\n",
       "    <tr>\n",
       "      <th>5</th>\n",
       "      <td>7237550310</td>\n",
       "      <td>4</td>\n",
       "      <td>4.50</td>\n",
       "      <td>5420</td>\n",
       "      <td>101930</td>\n",
       "      <td>1.0</td>\n",
       "      <td>0</td>\n",
       "      <td>0</td>\n",
       "      <td>3</td>\n",
       "      <td>11</td>\n",
       "      <td>3890</td>\n",
       "      <td>98053</td>\n",
       "      <td>47.6561</td>\n",
       "      <td>-122.005</td>\n",
       "      <td>4760</td>\n",
       "      <td>101930</td>\n",
       "    </tr>\n",
       "    <tr>\n",
       "      <th>6</th>\n",
       "      <td>1321400060</td>\n",
       "      <td>3</td>\n",
       "      <td>2.25</td>\n",
       "      <td>1715</td>\n",
       "      <td>6819</td>\n",
       "      <td>2.0</td>\n",
       "      <td>0</td>\n",
       "      <td>0</td>\n",
       "      <td>3</td>\n",
       "      <td>7</td>\n",
       "      <td>1715</td>\n",
       "      <td>98003</td>\n",
       "      <td>47.3097</td>\n",
       "      <td>-122.327</td>\n",
       "      <td>2238</td>\n",
       "      <td>6819</td>\n",
       "    </tr>\n",
       "    <tr>\n",
       "      <th>...</th>\n",
       "      <td>...</td>\n",
       "      <td>...</td>\n",
       "      <td>...</td>\n",
       "      <td>...</td>\n",
       "      <td>...</td>\n",
       "      <td>...</td>\n",
       "      <td>...</td>\n",
       "      <td>...</td>\n",
       "      <td>...</td>\n",
       "      <td>...</td>\n",
       "      <td>...</td>\n",
       "      <td>...</td>\n",
       "      <td>...</td>\n",
       "      <td>...</td>\n",
       "      <td>...</td>\n",
       "      <td>...</td>\n",
       "    </tr>\n",
       "    <tr>\n",
       "      <th>21591</th>\n",
       "      <td>2997800021</td>\n",
       "      <td>3</td>\n",
       "      <td>2.50</td>\n",
       "      <td>1310</td>\n",
       "      <td>1294</td>\n",
       "      <td>2.0</td>\n",
       "      <td>0</td>\n",
       "      <td>0</td>\n",
       "      <td>3</td>\n",
       "      <td>8</td>\n",
       "      <td>1180</td>\n",
       "      <td>98116</td>\n",
       "      <td>47.5773</td>\n",
       "      <td>-122.409</td>\n",
       "      <td>1330</td>\n",
       "      <td>1265</td>\n",
       "    </tr>\n",
       "    <tr>\n",
       "      <th>21592</th>\n",
       "      <td>263000018</td>\n",
       "      <td>3</td>\n",
       "      <td>2.50</td>\n",
       "      <td>1530</td>\n",
       "      <td>1131</td>\n",
       "      <td>3.0</td>\n",
       "      <td>0</td>\n",
       "      <td>0</td>\n",
       "      <td>3</td>\n",
       "      <td>8</td>\n",
       "      <td>1530</td>\n",
       "      <td>98103</td>\n",
       "      <td>47.6993</td>\n",
       "      <td>-122.346</td>\n",
       "      <td>1530</td>\n",
       "      <td>1509</td>\n",
       "    </tr>\n",
       "    <tr>\n",
       "      <th>21593</th>\n",
       "      <td>6600060120</td>\n",
       "      <td>4</td>\n",
       "      <td>2.50</td>\n",
       "      <td>2310</td>\n",
       "      <td>5813</td>\n",
       "      <td>2.0</td>\n",
       "      <td>0</td>\n",
       "      <td>0</td>\n",
       "      <td>3</td>\n",
       "      <td>8</td>\n",
       "      <td>2310</td>\n",
       "      <td>98146</td>\n",
       "      <td>47.5107</td>\n",
       "      <td>-122.362</td>\n",
       "      <td>1830</td>\n",
       "      <td>7200</td>\n",
       "    </tr>\n",
       "    <tr>\n",
       "      <th>21594</th>\n",
       "      <td>1523300141</td>\n",
       "      <td>2</td>\n",
       "      <td>0.75</td>\n",
       "      <td>1020</td>\n",
       "      <td>1350</td>\n",
       "      <td>2.0</td>\n",
       "      <td>0</td>\n",
       "      <td>0</td>\n",
       "      <td>3</td>\n",
       "      <td>7</td>\n",
       "      <td>1020</td>\n",
       "      <td>98144</td>\n",
       "      <td>47.5944</td>\n",
       "      <td>-122.299</td>\n",
       "      <td>1020</td>\n",
       "      <td>2007</td>\n",
       "    </tr>\n",
       "    <tr>\n",
       "      <th>21596</th>\n",
       "      <td>1523300157</td>\n",
       "      <td>2</td>\n",
       "      <td>0.75</td>\n",
       "      <td>1020</td>\n",
       "      <td>1076</td>\n",
       "      <td>2.0</td>\n",
       "      <td>0</td>\n",
       "      <td>0</td>\n",
       "      <td>3</td>\n",
       "      <td>7</td>\n",
       "      <td>1020</td>\n",
       "      <td>98144</td>\n",
       "      <td>47.5941</td>\n",
       "      <td>-122.299</td>\n",
       "      <td>1020</td>\n",
       "      <td>1357</td>\n",
       "    </tr>\n",
       "  </tbody>\n",
       "</table>\n",
       "<p>15762 rows × 16 columns</p>\n",
       "</div>"
      ],
      "text/plain": [
       "               id  bedrooms  bathrooms  sqft_living  sqft_lot  floors  \\\n",
       "1      6414100192         3       2.25         2570      7242     2.0   \n",
       "3      2487200875         4       3.00         1960      5000     1.0   \n",
       "4      1954400510         3       2.00         1680      8080     1.0   \n",
       "5      7237550310         4       4.50         5420    101930     1.0   \n",
       "6      1321400060         3       2.25         1715      6819     2.0   \n",
       "...           ...       ...        ...          ...       ...     ...   \n",
       "21591  2997800021         3       2.50         1310      1294     2.0   \n",
       "21592   263000018         3       2.50         1530      1131     3.0   \n",
       "21593  6600060120         4       2.50         2310      5813     2.0   \n",
       "21594  1523300141         2       0.75         1020      1350     2.0   \n",
       "21596  1523300157         2       0.75         1020      1076     2.0   \n",
       "\n",
       "       waterfront  view  condition  grade  sqft_above  zipcode      lat  \\\n",
       "1               0     0          3      7        2170    98125  47.7210   \n",
       "3               0     0          5      7        1050    98136  47.5208   \n",
       "4               0     0          3      8        1680    98074  47.6168   \n",
       "5               0     0          3     11        3890    98053  47.6561   \n",
       "6               0     0          3      7        1715    98003  47.3097   \n",
       "...           ...   ...        ...    ...         ...      ...      ...   \n",
       "21591           0     0          3      8        1180    98116  47.5773   \n",
       "21592           0     0          3      8        1530    98103  47.6993   \n",
       "21593           0     0          3      8        2310    98146  47.5107   \n",
       "21594           0     0          3      7        1020    98144  47.5944   \n",
       "21596           0     0          3      7        1020    98144  47.5941   \n",
       "\n",
       "          long  sqft_living15  sqft_lot15  \n",
       "1     -122.319           1690        7639  \n",
       "3     -122.393           1360        5000  \n",
       "4     -122.045           1800        7503  \n",
       "5     -122.005           4760      101930  \n",
       "6     -122.327           2238        6819  \n",
       "...        ...            ...         ...  \n",
       "21591 -122.409           1330        1265  \n",
       "21592 -122.346           1530        1509  \n",
       "21593 -122.362           1830        7200  \n",
       "21594 -122.299           1020        2007  \n",
       "21596 -122.299           1020        1357  \n",
       "\n",
       "[15762 rows x 16 columns]"
      ]
     },
     "execution_count": 105,
     "metadata": {},
     "output_type": "execute_result"
    }
   ],
   "source": [
    "X_all = data.drop(\"price\", axis=1).select_dtypes(\"number\")\n",
    "X_all"
   ]
  },
  {
   "cell_type": "code",
   "execution_count": 106,
   "metadata": {},
   "outputs": [
    {
     "name": "stdout",
     "output_type": "stream",
     "text": [
      "                            OLS Regression Results                            \n",
      "==============================================================================\n",
      "Dep. Variable:                  price   R-squared:                       0.679\n",
      "Model:                            OLS   Adj. R-squared:                  0.678\n",
      "Method:                 Least Squares   F-statistic:                     2078.\n",
      "Date:                Sat, 09 Sep 2023   Prob (F-statistic):               0.00\n",
      "Time:                        15:36:35   Log-Likelihood:            -2.1560e+05\n",
      "No. Observations:               15762   AIC:                         4.312e+05\n",
      "Df Residuals:                   15745   BIC:                         4.314e+05\n",
      "Df Model:                          16                                         \n",
      "Covariance Type:            nonrobust                                         \n",
      "=================================================================================\n",
      "                    coef    std err          t      P>|t|      [0.025      0.975]\n",
      "---------------------------------------------------------------------------------\n",
      "const         -3.508e+07   3.37e+06    -10.400      0.000   -4.17e+07   -2.85e+07\n",
      "id            -1.191e-06   5.93e-07     -2.007      0.045   -2.35e-06   -2.77e-08\n",
      "bedrooms      -3.345e+04   2297.164    -14.560      0.000    -3.8e+04   -2.89e+04\n",
      "bathrooms      6923.4624   3782.427      1.830      0.067    -490.527    1.43e+04\n",
      "sqft_living     175.9944      5.322     33.071      0.000     165.563     186.426\n",
      "sqft_lot          0.1668      0.058      2.860      0.004       0.052       0.281\n",
      "floors        -2.566e+04   4325.020     -5.933      0.000   -3.41e+04   -1.72e+04\n",
      "waterfront     6.136e+05   2.13e+04     28.835      0.000    5.72e+05    6.55e+05\n",
      "view           6.144e+04   2636.083     23.308      0.000    5.63e+04    6.66e+04\n",
      "condition      5.207e+04   2717.728     19.159      0.000    4.67e+04    5.74e+04\n",
      "grade          7.477e+04   2598.102     28.778      0.000    6.97e+04    7.99e+04\n",
      "sqft_above       40.2339      5.329      7.550      0.000      29.789      50.679\n",
      "zipcode        -403.2874     40.184    -10.036      0.000    -482.053    -324.521\n",
      "lat            6.795e+05   1.29e+04     52.488      0.000    6.54e+05    7.05e+05\n",
      "long          -3.417e+05   1.57e+04    -21.786      0.000   -3.72e+05   -3.11e+05\n",
      "sqft_living15    17.8624      4.254      4.199      0.000       9.523      26.202\n",
      "sqft_lot15       -0.3868      0.088     -4.398      0.000      -0.559      -0.214\n",
      "==============================================================================\n",
      "Omnibus:                    13482.367   Durbin-Watson:                   1.978\n",
      "Prob(Omnibus):                  0.000   Jarque-Bera (JB):          1359410.646\n",
      "Skew:                           3.598   Prob(JB):                         0.00\n",
      "Kurtosis:                      47.924   Cond. No.                     1.09e+13\n",
      "==============================================================================\n",
      "\n",
      "Notes:\n",
      "[1] Standard Errors assume that the covariance matrix of the errors is correctly specified.\n",
      "[2] The condition number is large, 1.09e+13. This might indicate that there are\n",
      "strong multicollinearity or other numerical problems.\n"
     ]
    }
   ],
   "source": [
    "# building a fourth model\n",
    "fourth_model = sm.OLS(y, sm.add_constant(X_all))\n",
    "fourth_results = fourth_model.fit()\n",
    "\n",
    "print(fourth_results.summary())"
   ]
  },
  {
   "cell_type": "markdown",
   "metadata": {},
   "source": [
    "Based on the Model above, the analysis below explains the coefficients of the different added features.\n",
    "\n",
    "1. **Bedrooms (Coefficient: -33,450)**:\n",
    "   - Hypothetical Example: Suppose all other factors remain constant, and a property has 3 bedrooms. Increasing the number of bedrooms to 4 would result in an approximate price decrease of 33,450 dollars.\n",
    "   - Percentage Impact: This represents a decrease of approximately 10% in price, given an initial price of 334,500 dollars.\n",
    "   \n",
    "\n",
    "2. **Square Footage of Living Space (Coefficient: +175.99)**:\n",
    "   - Hypothetical Example: If a property has 2,000 square feet of living space, increasing it to 2,100 square feet would lead to an approximate price increase of 175.99 dollars.\n",
    "   - Percentage Impact: This represents an increase of approximately 0.09% in price, given an initial price of 334,500 dollars.\n",
    "   \n",
    "\n",
    "3. **Number of Floors (Coefficient: -25,660)**:\n",
    "   - Hypothetical Example: Suppose a property has 2 floors, and you increase it to 3 floors while keeping other factors constant. The price would decrease by approximately 25,660 dollars.\n",
    "   - Percentage Impact: This represents a decrease of approximately 7.68% in price, given an initial price of 334,500 dollars.\n",
    "   \n",
    "\n",
    "4. **Waterfront (Coefficient: +613,600)**:\n",
    "   - Hypothetical Example: If a property is not on a waterfront, and you upgrade to a waterfront property while keeping other factors constant, the price would increase by approximately 613,600 dollars.\n",
    "   - Percentage Impact: This represents an increase of approximately 183.28% in price, given an initial price of 334,500 dollars.\n",
    "   \n",
    "\n",
    "5. **View (Coefficient: +61,440)**:\n",
    "   - Hypothetical Example: Suppose a property has no special view, and you improve it to have an excellent view while keeping other factors constant. The price would increase by approximately 61,440 dollars.\n",
    "   - Percentage Impact: This represents an increase of approximately 18.37% in price, given an initial price of 334,500 dollars.\n",
    "   \n",
    "\n",
    "6. **Condition (Coefficient: +52,070)**:\n",
    "   - Hypothetical Example: If a property's condition is fair, and you renovate it to an excellent condition while keeping other factors constant, the price would increase by approximately 52,070 dollars.\n",
    "   - Percentage Impact: This represents an increase of approximately 15.58% in price, given an initial price of 334,500 dollars.\n",
    "   \n",
    "\n",
    "7. **Grade (Coefficient: +74,770)**:\n",
    "   - Hypothetical Example: Suppose a property has a grade of 6, and you improve it to a grade of 7 while keeping other factors constant. The price would increase by approximately 74,770 dollars.\n",
    "   - Percentage Impact: This represents an increase of approximately 22.39% in price, given an initial price of 334,500 dollars.\n",
    "   \n",
    "\n",
    "8. **Square Footage Above Ground (Coefficient: +40.23)**:\n",
    "   - Hypothetical Example: If a property has 1,000 square feet above ground, increasing it to 1,100 square feet while keeping other factors constant would lead to an approximate price increase of 40.23 dollars.\n",
    "   - Percentage Impact: This represents an increase of approximately 0.12% in price, given an initial price of 334,500 dollars.\n",
    "   \n",
    "   \n",
    "\n",
    "9. **Latitude (Coefficient: +679,500)**:\n",
    "    - Hypothetical Example: Suppose a property is located at a certain latitude, and you move it slightly northward while keeping other factors constant. The price would increase by approximately 679,500 dollars.\n",
    "    - Percentage Impact: This represents an increase of approximately 203.25% in price, given an initial price of 334,500 dollars.\n",
    "    \n"
   ]
  },
  {
   "cell_type": "markdown",
   "metadata": {},
   "source": [
    "### When is the best time to buy, or sell a house "
   ]
  },
  {
   "cell_type": "code",
   "execution_count": 107,
   "metadata": {},
   "outputs": [],
   "source": [
    "# Create a new column with only the months\n",
    "data['month'] = data['date'].dt.strftime('%B')"
   ]
  },
  {
   "cell_type": "code",
   "execution_count": 108,
   "metadata": {},
   "outputs": [],
   "source": [
    "#Initialize an empty dictionary to store the counts\n",
    "month_count_dict = {}\n",
    "\n",
    "# Iterate through the month column and count occurences\n",
    "for i in data['month']:\n",
    "    if i in month_count_dict:\n",
    "        month_count_dict[i] += 1\n",
    "    else:\n",
    "        month_count_dict[i] = 1"
   ]
  },
  {
   "cell_type": "code",
   "execution_count": 109,
   "metadata": {},
   "outputs": [
    {
     "data": {
      "text/plain": [
       "{'December': 1063,\n",
       " 'February': 887,\n",
       " 'May': 1782,\n",
       " 'June': 1570,\n",
       " 'April': 1632,\n",
       " 'March': 1348,\n",
       " 'October': 1344,\n",
       " 'January': 731,\n",
       " 'July': 1637,\n",
       " 'August': 1424,\n",
       " 'November': 1051,\n",
       " 'September': 1293}"
      ]
     },
     "execution_count": 109,
     "metadata": {},
     "output_type": "execute_result"
    }
   ],
   "source": [
    "# This dictionary shows how many houses were sold in each month over the years\n",
    "month_count_dict"
   ]
  },
  {
   "cell_type": "code",
   "execution_count": 110,
   "metadata": {},
   "outputs": [],
   "source": [
    "# create a list of months in chronological order\n",
    "chron_months = ['January', 'February', 'March', 'April', 'May', 'June', 'July', 'August', 'September', 'October', 'November','December']\n",
    "# create a new dictionary with months in chronological order\n",
    "month_dict = {month: month_count_dict[month] for month in chron_months}"
   ]
  },
  {
   "cell_type": "code",
   "execution_count": 123,
   "metadata": {},
   "outputs": [
    {
     "data": {
      "image/png": "[encoded data removed]",
      "text/plain": [
       "<Figure size 936x432 with 1 Axes>"
      ]
     },
     "metadata": {
      "needs_background": "light"
     },
     "output_type": "display_data"
    }
   ],
   "source": [
    "# Extract the months (keys) and their corresponding counts (values) from the dictionary\n",
    "months = list(month_dict.keys())\n",
    "counts = list(month_dict.values())\n",
    "\n",
    "# Create a bar graph\n",
    "plt.figure(figsize=(13, 6))\n",
    "plt.bar(months, counts, tick_label=months)\n",
    "\n",
    "# Customize the plot labels and title\n",
    "plt.xlabel('Month')\n",
    "plt.ylabel('Count')\n",
    "plt.title('Number of houses sold by Month')\n",
    "\n",
    "# Show the plot\n",
    "plt.show()"
   ]
  },
  {
   "cell_type": "markdown",
   "metadata": {},
   "source": [
    "This bar graph shows that most of the houses were sold in the middle of the year over the years with May having the highest number of houses sold. The best time to buy, sell or hold properties is in the middle of the year, months from April to July"
   ]
  },
  {
   "cell_type": "markdown",
   "metadata": {},
   "source": [
    "### Folium Map\n",
    "How do location-related variables (e.g., ZIP code, proximity to amenities) impact property values?"
   ]
  },
  {
   "cell_type": "code",
   "execution_count": 124,
   "metadata": {},
   "outputs": [],
   "source": [
    "import folium\n",
    "from folium.plugins import MarkerCluster\n",
    "\n",
    "# Create a Folium map\n",
    "m = folium.Map(location=[data['lat'].mean(), data['long'].mean()], zoom_start=10)\n",
    "\n",
    "# Create a MarkerCluster layer\n",
    "marker_cluster = MarkerCluster().add_to(m)\n",
    "\n",
    "# Add markers to the cluster\n",
    "for index, row in data.iterrows():\n",
    "    popup_text = f\"Location: {row['zipcode']}<br>Price: ${row['price']: .2f}\"\n",
    "    folium.Marker([row['lat'], row['long']], popup=popup_text).add_to(marker_cluster)\n",
    "\n",
    "# Display the map\n",
    "m.save('map.html')"
   ]
  },
  {
   "cell_type": "code",
   "execution_count": 113,
   "metadata": {},
   "outputs": [],
   "source": [
    "# Sort the DataFrame by the 'Price' column in ascending order for least expensive houses\n",
    "data_least_expensive = data.sort_values(by='price').head(30)\n",
    "\n",
    "# Sort the DataFrame by the 'Price' column in descending order for most expensive houses\n",
    "data_most_expensive = data.sort_values(by='price', ascending=False).head(30)\n",
    "\n",
    "# Create a Folium map\n",
    "m = folium.Map(location=[data['lat'].mean(), data['long'].mean()], zoom_start=10)\n",
    "\n",
    "# Create separate MarkerCluster layers for most and least expensive houses\n",
    "cluster_least_expensive = MarkerCluster().add_to(m)\n",
    "cluster_most_expensive = MarkerCluster().add_to(m)\n",
    "\n",
    "# Add markers for the least expensive houses\n",
    "for index, row in data_least_expensive.iterrows():\n",
    "    popup_text = f\"Location: {row['zipcode']}<br>price: ${row['price']:.2f}\"\n",
    "    folium.Marker([row['lat'], row['long']], popup=popup_text).add_to(cluster_least_expensive)\n",
    "\n",
    "# Add markers for the most expensive houses\n",
    "for index, row in data_most_expensive.iterrows():\n",
    "    popup_text = f\"Location: {row['zipcode']}<br>price: ${row['price']:.2f}\"\n",
    "    folium.Marker([row['lat'], row['long']], popup=popup_text).add_to(cluster_most_expensive)\n",
    "\n",
    "# Display the map\n",
    "m.save('map_with_clustered_prices.html')"
   ]
  },
  {
   "cell_type": "markdown",
   "metadata": {},
   "source": [
    "We created  folium map to try and find out if the location of the house affects it's value, and from the [folium map](map_with_clustered_prices.html), we can see that the most expensive houses are located near lake washington and the least expensive houses are loacted further away from the lake."
   ]
  },
  {
   "cell_type": "markdown",
   "metadata": {},
   "source": [
    "#### Can we analyze historical data to identify cyclical patterns in the King County real estate market?"
   ]
  },
  {
   "cell_type": "code",
   "execution_count": 114,
   "metadata": {},
   "outputs": [
    {
     "data": {
      "text/plain": [
       "1        1951\n",
       "3        1965\n",
       "4        1987\n",
       "5        2001\n",
       "6        1995\n",
       "         ... \n",
       "21591    2008\n",
       "21592    2009\n",
       "21593    2014\n",
       "21594    2009\n",
       "21596    2008\n",
       "Name: yr_built, Length: 15762, dtype: int64"
      ]
     },
     "execution_count": 114,
     "metadata": {},
     "output_type": "execute_result"
    }
   ],
   "source": [
    "# Converting datatype\n",
    "data[\"yr_built\"] = data[\"yr_built\"].astype(\"int64\")\n",
    "data[\"yr_built\"]"
   ]
  },
  {
   "cell_type": "code",
   "execution_count": 115,
   "metadata": {},
   "outputs": [
    {
     "data": {
      "text/plain": [
       "1        2014\n",
       "3        2014\n",
       "4        2015\n",
       "5        2014\n",
       "6        2014\n",
       "         ... \n",
       "21591    2015\n",
       "21592    2014\n",
       "21593    2015\n",
       "21594    2014\n",
       "21596    2014\n",
       "Name: year, Length: 15762, dtype: int64"
      ]
     },
     "execution_count": 115,
     "metadata": {},
     "output_type": "execute_result"
    }
   ],
   "source": [
    "# Creating a new column with the year only \n",
    "data['year'] = data['date'].dt.year\n",
    "data['year']"
   ]
  },
  {
   "cell_type": "code",
   "execution_count": 116,
   "metadata": {},
   "outputs": [
    {
     "data": {
      "text/html": [
       "<div>\n",
       "<style scoped>\n",
       "    .dataframe tbody tr th:only-of-type {\n",
       "        vertical-align: middle;\n",
       "    }\n",
       "\n",
       "    .dataframe tbody tr th {\n",
       "        vertical-align: top;\n",
       "    }\n",
       "\n",
       "    .dataframe thead th {\n",
       "        text-align: right;\n",
       "    }\n",
       "</style>\n",
       "<table border=\"1\" class=\"dataframe\">\n",
       "  <thead>\n",
       "    <tr style=\"text-align: right;\">\n",
       "      <th></th>\n",
       "      <th>year</th>\n",
       "      <th>yr_built</th>\n",
       "      <th>price</th>\n",
       "    </tr>\n",
       "  </thead>\n",
       "  <tbody>\n",
       "    <tr>\n",
       "      <th>1</th>\n",
       "      <td>2014</td>\n",
       "      <td>1951</td>\n",
       "      <td>538000.0</td>\n",
       "    </tr>\n",
       "    <tr>\n",
       "      <th>3</th>\n",
       "      <td>2014</td>\n",
       "      <td>1965</td>\n",
       "      <td>604000.0</td>\n",
       "    </tr>\n",
       "    <tr>\n",
       "      <th>4</th>\n",
       "      <td>2015</td>\n",
       "      <td>1987</td>\n",
       "      <td>510000.0</td>\n",
       "    </tr>\n",
       "    <tr>\n",
       "      <th>5</th>\n",
       "      <td>2014</td>\n",
       "      <td>2001</td>\n",
       "      <td>1230000.0</td>\n",
       "    </tr>\n",
       "    <tr>\n",
       "      <th>6</th>\n",
       "      <td>2014</td>\n",
       "      <td>1995</td>\n",
       "      <td>257500.0</td>\n",
       "    </tr>\n",
       "    <tr>\n",
       "      <th>...</th>\n",
       "      <td>...</td>\n",
       "      <td>...</td>\n",
       "      <td>...</td>\n",
       "    </tr>\n",
       "    <tr>\n",
       "      <th>21591</th>\n",
       "      <td>2015</td>\n",
       "      <td>2008</td>\n",
       "      <td>475000.0</td>\n",
       "    </tr>\n",
       "    <tr>\n",
       "      <th>21592</th>\n",
       "      <td>2014</td>\n",
       "      <td>2009</td>\n",
       "      <td>360000.0</td>\n",
       "    </tr>\n",
       "    <tr>\n",
       "      <th>21593</th>\n",
       "      <td>2015</td>\n",
       "      <td>2014</td>\n",
       "      <td>400000.0</td>\n",
       "    </tr>\n",
       "    <tr>\n",
       "      <th>21594</th>\n",
       "      <td>2014</td>\n",
       "      <td>2009</td>\n",
       "      <td>402101.0</td>\n",
       "    </tr>\n",
       "    <tr>\n",
       "      <th>21596</th>\n",
       "      <td>2014</td>\n",
       "      <td>2008</td>\n",
       "      <td>325000.0</td>\n",
       "    </tr>\n",
       "  </tbody>\n",
       "</table>\n",
       "<p>15762 rows × 3 columns</p>\n",
       "</div>"
      ],
      "text/plain": [
       "       year  yr_built      price\n",
       "1      2014      1951   538000.0\n",
       "3      2014      1965   604000.0\n",
       "4      2015      1987   510000.0\n",
       "5      2014      2001  1230000.0\n",
       "6      2014      1995   257500.0\n",
       "...     ...       ...        ...\n",
       "21591  2015      2008   475000.0\n",
       "21592  2014      2009   360000.0\n",
       "21593  2015      2014   400000.0\n",
       "21594  2014      2009   402101.0\n",
       "21596  2014      2008   325000.0\n",
       "\n",
       "[15762 rows x 3 columns]"
      ]
     },
     "execution_count": 116,
     "metadata": {},
     "output_type": "execute_result"
    }
   ],
   "source": [
    "# Calculating the age of houses\n",
    "house_age = data[['year', 'yr_built', 'price']]\n",
    "house_age"
   ]
  },
  {
   "cell_type": "code",
   "execution_count": 117,
   "metadata": {},
   "outputs": [
    {
     "data": {
      "text/html": [
       "<div>\n",
       "<style scoped>\n",
       "    .dataframe tbody tr th:only-of-type {\n",
       "        vertical-align: middle;\n",
       "    }\n",
       "\n",
       "    .dataframe tbody tr th {\n",
       "        vertical-align: top;\n",
       "    }\n",
       "\n",
       "    .dataframe thead th {\n",
       "        text-align: right;\n",
       "    }\n",
       "</style>\n",
       "<table border=\"1\" class=\"dataframe\">\n",
       "  <thead>\n",
       "    <tr style=\"text-align: right;\">\n",
       "      <th></th>\n",
       "      <th>id</th>\n",
       "      <th>date</th>\n",
       "      <th>price</th>\n",
       "      <th>bedrooms</th>\n",
       "      <th>bathrooms</th>\n",
       "      <th>sqft_living</th>\n",
       "      <th>sqft_lot</th>\n",
       "      <th>floors</th>\n",
       "      <th>waterfront</th>\n",
       "      <th>view</th>\n",
       "      <th>...</th>\n",
       "      <th>yr_built</th>\n",
       "      <th>yr_renovated</th>\n",
       "      <th>zipcode</th>\n",
       "      <th>lat</th>\n",
       "      <th>long</th>\n",
       "      <th>sqft_living15</th>\n",
       "      <th>sqft_lot15</th>\n",
       "      <th>month</th>\n",
       "      <th>year</th>\n",
       "      <th>age</th>\n",
       "    </tr>\n",
       "  </thead>\n",
       "  <tbody>\n",
       "    <tr>\n",
       "      <th>1</th>\n",
       "      <td>6414100192</td>\n",
       "      <td>2014-12-09</td>\n",
       "      <td>538000.0</td>\n",
       "      <td>3</td>\n",
       "      <td>2.25</td>\n",
       "      <td>2570</td>\n",
       "      <td>7242</td>\n",
       "      <td>2.0</td>\n",
       "      <td>0</td>\n",
       "      <td>0</td>\n",
       "      <td>...</td>\n",
       "      <td>1951</td>\n",
       "      <td>1970-01-01 00:00:00.000001991</td>\n",
       "      <td>98125</td>\n",
       "      <td>47.7210</td>\n",
       "      <td>-122.319</td>\n",
       "      <td>1690</td>\n",
       "      <td>7639</td>\n",
       "      <td>December</td>\n",
       "      <td>2014</td>\n",
       "      <td>63</td>\n",
       "    </tr>\n",
       "    <tr>\n",
       "      <th>3</th>\n",
       "      <td>2487200875</td>\n",
       "      <td>2014-12-09</td>\n",
       "      <td>604000.0</td>\n",
       "      <td>4</td>\n",
       "      <td>3.00</td>\n",
       "      <td>1960</td>\n",
       "      <td>5000</td>\n",
       "      <td>1.0</td>\n",
       "      <td>0</td>\n",
       "      <td>0</td>\n",
       "      <td>...</td>\n",
       "      <td>1965</td>\n",
       "      <td>1970-01-01 00:00:00.000000000</td>\n",
       "      <td>98136</td>\n",
       "      <td>47.5208</td>\n",
       "      <td>-122.393</td>\n",
       "      <td>1360</td>\n",
       "      <td>5000</td>\n",
       "      <td>December</td>\n",
       "      <td>2014</td>\n",
       "      <td>49</td>\n",
       "    </tr>\n",
       "    <tr>\n",
       "      <th>4</th>\n",
       "      <td>1954400510</td>\n",
       "      <td>2015-02-18</td>\n",
       "      <td>510000.0</td>\n",
       "      <td>3</td>\n",
       "      <td>2.00</td>\n",
       "      <td>1680</td>\n",
       "      <td>8080</td>\n",
       "      <td>1.0</td>\n",
       "      <td>0</td>\n",
       "      <td>0</td>\n",
       "      <td>...</td>\n",
       "      <td>1987</td>\n",
       "      <td>1970-01-01 00:00:00.000000000</td>\n",
       "      <td>98074</td>\n",
       "      <td>47.6168</td>\n",
       "      <td>-122.045</td>\n",
       "      <td>1800</td>\n",
       "      <td>7503</td>\n",
       "      <td>February</td>\n",
       "      <td>2015</td>\n",
       "      <td>28</td>\n",
       "    </tr>\n",
       "    <tr>\n",
       "      <th>5</th>\n",
       "      <td>7237550310</td>\n",
       "      <td>2014-05-12</td>\n",
       "      <td>1230000.0</td>\n",
       "      <td>4</td>\n",
       "      <td>4.50</td>\n",
       "      <td>5420</td>\n",
       "      <td>101930</td>\n",
       "      <td>1.0</td>\n",
       "      <td>0</td>\n",
       "      <td>0</td>\n",
       "      <td>...</td>\n",
       "      <td>2001</td>\n",
       "      <td>1970-01-01 00:00:00.000000000</td>\n",
       "      <td>98053</td>\n",
       "      <td>47.6561</td>\n",
       "      <td>-122.005</td>\n",
       "      <td>4760</td>\n",
       "      <td>101930</td>\n",
       "      <td>May</td>\n",
       "      <td>2014</td>\n",
       "      <td>13</td>\n",
       "    </tr>\n",
       "    <tr>\n",
       "      <th>6</th>\n",
       "      <td>1321400060</td>\n",
       "      <td>2014-06-27</td>\n",
       "      <td>257500.0</td>\n",
       "      <td>3</td>\n",
       "      <td>2.25</td>\n",
       "      <td>1715</td>\n",
       "      <td>6819</td>\n",
       "      <td>2.0</td>\n",
       "      <td>0</td>\n",
       "      <td>0</td>\n",
       "      <td>...</td>\n",
       "      <td>1995</td>\n",
       "      <td>1970-01-01 00:00:00.000000000</td>\n",
       "      <td>98003</td>\n",
       "      <td>47.3097</td>\n",
       "      <td>-122.327</td>\n",
       "      <td>2238</td>\n",
       "      <td>6819</td>\n",
       "      <td>June</td>\n",
       "      <td>2014</td>\n",
       "      <td>19</td>\n",
       "    </tr>\n",
       "  </tbody>\n",
       "</table>\n",
       "<p>5 rows × 24 columns</p>\n",
       "</div>"
      ],
      "text/plain": [
       "           id       date      price  bedrooms  bathrooms  sqft_living  \\\n",
       "1  6414100192 2014-12-09   538000.0         3       2.25         2570   \n",
       "3  2487200875 2014-12-09   604000.0         4       3.00         1960   \n",
       "4  1954400510 2015-02-18   510000.0         3       2.00         1680   \n",
       "5  7237550310 2014-05-12  1230000.0         4       4.50         5420   \n",
       "6  1321400060 2014-06-27   257500.0         3       2.25         1715   \n",
       "\n",
       "   sqft_lot  floors  waterfront  view  ...  yr_built  \\\n",
       "1      7242     2.0           0     0  ...      1951   \n",
       "3      5000     1.0           0     0  ...      1965   \n",
       "4      8080     1.0           0     0  ...      1987   \n",
       "5    101930     1.0           0     0  ...      2001   \n",
       "6      6819     2.0           0     0  ...      1995   \n",
       "\n",
       "                   yr_renovated  zipcode      lat     long sqft_living15  \\\n",
       "1 1970-01-01 00:00:00.000001991    98125  47.7210 -122.319          1690   \n",
       "3 1970-01-01 00:00:00.000000000    98136  47.5208 -122.393          1360   \n",
       "4 1970-01-01 00:00:00.000000000    98074  47.6168 -122.045          1800   \n",
       "5 1970-01-01 00:00:00.000000000    98053  47.6561 -122.005          4760   \n",
       "6 1970-01-01 00:00:00.000000000    98003  47.3097 -122.327          2238   \n",
       "\n",
       "   sqft_lot15     month  year  age  \n",
       "1        7639  December  2014   63  \n",
       "3        5000  December  2014   49  \n",
       "4        7503  February  2015   28  \n",
       "5      101930       May  2014   13  \n",
       "6        6819      June  2014   19  \n",
       "\n",
       "[5 rows x 24 columns]"
      ]
     },
     "execution_count": 117,
     "metadata": {},
     "output_type": "execute_result"
    }
   ],
   "source": [
    "# viewing data\n",
    "data[\"age\"] = data[\"year\"] - data[\"yr_built\"]\n",
    "data.head()"
   ]
  },
  {
   "cell_type": "code",
   "execution_count": 118,
   "metadata": {},
   "outputs": [],
   "source": [
    "# Building another model\n",
    "X_age = data[[\"age\"]]\n",
    "y_age = data[\"price\"]"
   ]
  },
  {
   "cell_type": "code",
   "execution_count": 119,
   "metadata": {},
   "outputs": [
    {
     "name": "stdout",
     "output_type": "stream",
     "text": [
      "                            OLS Regression Results                            \n",
      "==============================================================================\n",
      "Dep. Variable:                  price   R-squared:                       0.002\n",
      "Model:                            OLS   Adj. R-squared:                  0.002\n",
      "Method:                 Least Squares   F-statistic:                     38.37\n",
      "Date:                Sat, 09 Sep 2023   Prob (F-statistic):           6.01e-10\n",
      "Time:                        15:37:12   Log-Likelihood:            -2.2453e+05\n",
      "No. Observations:               15762   AIC:                         4.491e+05\n",
      "Df Residuals:                   15760   BIC:                         4.491e+05\n",
      "Df Model:                           1                                         \n",
      "Covariance Type:            nonrobust                                         \n",
      "==============================================================================\n",
      "                 coef    std err          t      P>|t|      [0.025      0.975]\n",
      "------------------------------------------------------------------------------\n",
      "const       5.683e+05   5271.912    107.804      0.000    5.58e+05    5.79e+05\n",
      "age         -625.2328    100.939     -6.194      0.000    -823.085    -427.381\n",
      "==============================================================================\n",
      "Omnibus:                    14523.541   Durbin-Watson:                   1.970\n",
      "Prob(Omnibus):                  0.000   Jarque-Bera (JB):          1010731.228\n",
      "Skew:                           4.238   Prob(JB):                         0.00\n",
      "Kurtosis:                      41.303   Cond. No.                         93.0\n",
      "==============================================================================\n",
      "\n",
      "Notes:\n",
      "[1] Standard Errors assume that the covariance matrix of the errors is correctly specified.\n"
     ]
    }
   ],
   "source": [
    "age_model = sm.OLS(y_age, sm.add_constant(X_age))\n",
    "age_results = age_model.fit()\n",
    "\n",
    "print(age_results.summary())"
   ]
  },
  {
   "cell_type": "code",
   "execution_count": 120,
   "metadata": {},
   "outputs": [
    {
     "data": {
      "image/png": "[encoded data removed]",
      "text/plain": [
       "<Figure size 936x432 with 1 Axes>"
      ]
     },
     "metadata": {
      "needs_background": "light"
     },
     "output_type": "display_data"
    }
   ],
   "source": [
    "# Create a scatter plot\n",
    "plt.figure(figsize=(13, 6))\n",
    "plt.scatter(data[\"age\"], data[\"price\"])\n",
    "\n",
    "# Customize the plot labels and title\n",
    "plt.xlabel('Age of the House')\n",
    "plt.ylabel('Price')\n",
    "plt.title('Age of the House vs. Price')\n",
    "\n",
    "plt.show()"
   ]
  },
  {
   "cell_type": "markdown",
   "metadata": {},
   "source": [
    "From the analysis and vizualization above, we can conclude that age of the house does not affect the price of the house given the r-squared value which is 0.02 and the scatter plot showing now correlation between the two."
   ]
  },
  {
   "cell_type": "markdown",
   "metadata": {},
   "source": [
    "## Conclusion"
   ]
  },
  {
   "cell_type": "markdown",
   "metadata": {},
   "source": [
    "Based on the Ordinary Least Squares (OLS) Regression Results for the model with all the numeric columns, we can derive several insights that are relevant to RASB-berry Property Investors. Here's a breakdown of the key findings and a recommendation:\n",
    "\n",
    "### Key Findings:\n",
    "\n",
    "1. *R-squared and Adjusted R-squared*: The R-squared value of 0.679 indicates that the model explains approximately 67.9% of the variance in the target variable (price). This suggests that the model has some predictive power. The adjusted R-squared value, which accounts for the number of predictors, is also 0.678, indicating that most of the included variables contribute meaningfully to the model.\n",
    "\n",
    "2. *Significant Predictors*: Several predictors have statistically significant coefficients, as indicated by low p-values (P>|t|). These predictors include:\n",
    "   - `bedrooms`: Number of bedrooms\n",
    "   - `sqft_living`: Square footage of living space in the home\n",
    "   - `floors`: Number of floors in the house\n",
    "   - `waterfront`: Whether the house is on a waterfront\n",
    "   - `view`: Quality of view from the house\n",
    "   - `condition`: Overall condition of the house\n",
    "   - `grade`: Overall grade of the house\n",
    "   - `sqft_above`: Square footage of the house apart from the basement\n",
    "   - `zipcode`: ZIP Code\n",
    "   - `lat`: Latitude coordinate\n",
    "   - `long`: Longitude coordinate\n",
    "   - `sqft_living15`: Square footage of interior housing living space for the nearest 15 neighbors\n",
    "   - `sqft_lot15`: Square footage of the land lots of the nearest 15 neighbors\n",
    "\n",
    "3. *Coefficients*: The coefficients represent the estimated impact of each predictor on the target variable (price). For example, an increase in the number of bedrooms (`bedrooms`) is associated with a decrease in the property price, while an increase in square footage of living space (`sqft_living`) is associated with an increase in price.\n",
    "\n",
    "4. *F-statistic*: The F-statistic (2078.0) is significant, indicating that the overall model is statistically significant and that at least one of the predictors has a non-zero coefficient.\n",
    "\n",
    "### Recommendation:\n",
    "\n",
    "Based on these findings, here are some recommendations for RASB-berry Property Investors:\n",
    "\n",
    "1. *Consider Property Attributes*: Pay close attention to property attributes that have a significant impact on price. These include square footage of living space (`sqft_living`), the quality of the view (`view`), overall grade (`grade`), and whether the property is on a waterfront (`waterfront`). These factors are crucial in determining property values in the King County area. For example, most of the properties with higher interest rates were located near Lake Washington, thus explaining the waterfront and the view.\n",
    "\n",
    "\n",
    "2. *Location Matters*: The `zipcode`, `lat`, and `long` variables have significant coefficients, indicating that the location of a property plays a substantial role in its price. Invest in neighborhoods that exhibit positive coefficients in these variables, as they are likely to offer better returns as we can see in [this folium map](map.html), most of the houses are located North and near the Lake Washington.\n",
    "\n",
    "\n",
    "3. *Seasonal Trends*: Analyzing seasonal trends in property prices using months yielded results that indicate the most houses are sold in the Spring time and Summer time and thus the Property Investors should maximize the months in this season especially May. \n",
    "\n",
    "\n",
    "4. *Renovation Strategies*: Investigate how specific renovations or improvements impact property values. While the dataset may not directly include renovation data, you can explore correlations between renovation indicators and price to provide more detailed advice to homeowners.\n",
    "\n",
    "\n",
    "5. *Continuous Monitoring*: Keep a close watch on the King County real estate market in regards to the recommendations above. Market conditions can change over time, and it's essential to continuously monitor trends and adjust your investment strategies accordingly.\n",
    "\n",
    "Remember that these recommendations are based on the current dataset and regression analysis. Real estate investment decisions should also consider other factors such as market dynamics, economic conditions, and long-term investment goals."
   ]
  },
  {
   "cell_type": "code",
   "execution_count": null,
   "metadata": {},
   "outputs": [],
   "source": []
  }
 ],
 "metadata": {
  "kernelspec": {
   "display_name": "Python 3",
   "language": "python",
   "name": "python3"
  },
  "language_info": {
   "codemirror_mode": {
    "name": "ipython",
    "version": 3
   },
   "file_extension": ".py",
   "mimetype": "text/x-python",
   "name": "python",
   "nbconvert_exporter": "python",
   "pygments_lexer": "ipython3",
   "version": "3.8.5"
  }
 },
 "nbformat": 4,
 "nbformat_minor": 4
}
